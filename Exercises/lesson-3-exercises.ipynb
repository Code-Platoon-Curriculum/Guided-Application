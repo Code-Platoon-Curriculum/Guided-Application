{
 "cells": [
  {
   "cell_type": "markdown",
   "metadata": {},
   "source": [
    "## Lists\n",
    "\n",
    "#### Exercise 1:\n",
    "\n",
    "Write a `Function` that checks if a given `list` is empty and returns whether `True` or `False`."
   ]
  },
  {
   "cell_type": "code",
   "execution_count": null,
   "metadata": {},
   "outputs": [],
   "source": [
    "list_1 = []\n",
    "list_2 = [1, 2, 3]\n",
    "list_3 = ['']\n",
    "\n",
    "# Add your code here\n",
    "\n",
    "\n",
    "# Expected output: A Boolean Type"
   ]
  },
  {
   "cell_type": "markdown",
   "metadata": {},
   "source": [
    "#### Exercise 2:\n",
    "\n",
    "Write a `Function` that checks if a specific value exists in a given `list`."
   ]
  },
  {
   "cell_type": "code",
   "execution_count": null,
   "metadata": {},
   "outputs": [],
   "source": [
    "list_1 = ['a', 'b', 'c']\n",
    "list_2 = [2.3, 6.2, 1.8]\n",
    "list_3 = [' ', '@gmail', 'google']\n",
    "\n",
    "# Add your code here\n",
    "\n",
    "\n",
    "\"\"\" \n",
    "Expected Output:  A Boolean Type\n",
    "\"\"\""
   ]
  },
  {
   "cell_type": "markdown",
   "metadata": {},
   "source": [
    "#### Exercise 3:\n",
    "\n",
    "Write a `Function` that checks if all elements in a list are identical. Return `True` if they are, otherwise return `False`. Do _NOT_ use LOOPS!\n"
   ]
  },
  {
   "cell_type": "code",
   "execution_count": null,
   "metadata": {},
   "outputs": [],
   "source": [
    "list_1 = [1, 1, 1]\n",
    "list_2 = [1, 2, 1]\n",
    "\n",
    "# Add your code here\n",
    "\n",
    "\n",
    "\"\"\" \n",
    "Expected Output: \n",
    "    True\n",
    "    False\n",
    "\"\"\""
   ]
  },
  {
   "cell_type": "markdown",
   "metadata": {},
   "source": [
    "#### Exercise 4:\n",
    "\n",
    "Write a `Function` that returns the middle element ofa `list`. If the list has an `even` number of elements, return a `tuple` containing the two middle elements.\n",
    "\n"
   ]
  },
  {
   "cell_type": "code",
   "execution_count": null,
   "metadata": {},
   "outputs": [],
   "source": [
    "list_1 = [1, 2, 3]\n",
    "list_2 = [1, 2, 3, 4]\n",
    "list_3 = []\n",
    "\n",
    "# Add your code here\n",
    "\n",
    "\n",
    "\"\"\" \n",
    "Expected output:\n",
    "    2\n",
    "    (2, 3)\n",
    "    None\n",
    "\"\"\"\n",
    "\n"
   ]
  },
  {
   "cell_type": "markdown",
   "metadata": {},
   "source": [
    "#### Exercise 5:\n",
    "\n",
    "Write a `Function` that checks if a list is sorted in ascending or descending order. Return 'Ascending', 'Descending', or 'Unsorted'."
   ]
  },
  {
   "cell_type": "code",
   "execution_count": null,
   "metadata": {},
   "outputs": [],
   "source": [
    "list_1 = [1, 2, 3]\n",
    "list_2 = [3, 2, 1]\n",
    "list_3 = [1, 3, 2]\n",
    "\n",
    "# Add your code here\n",
    "\n",
    "\n",
    "\"\"\" \n",
    "Expected output:\n",
    "    Ascending\n",
    "    Descending\n",
    "    Unsorted\n",
    "\n",
    "\"\"\""
   ]
  },
  {
   "cell_type": "markdown",
   "metadata": {},
   "source": [
    "## Tuples\n",
    "\n",
    "#### Exercise 1:\n",
    "\n",
    "Write a `Function` that returns the `index` of a `value` in a `tuple`. If the value is not present, return -1."
   ]
  },
  {
   "cell_type": "code",
   "execution_count": null,
   "metadata": {},
   "outputs": [],
   "source": [
    "tuple_1 = (10, 20, 30) # Look for 20 the first time, and then look for 40\n",
    "\n",
    "# Add your code here\n",
    "\n",
    "\n",
    "\"\"\" \n",
    "Expected output:\n",
    "    1\n",
    "    -1\n",
    "\"\"\""
   ]
  },
  {
   "cell_type": "markdown",
   "metadata": {},
   "source": [
    "#### Exercise 2:\n",
    "\n",
    "Write a `Function` that checks if all elements in a `tuple` are unique. Return `True` or `False`."
   ]
  },
  {
   "cell_type": "code",
   "execution_count": null,
   "metadata": {},
   "outputs": [],
   "source": [
    "tuple_1 = (1, 2, 3)\n",
    "tuple_2 = (1, 2, 2,)\n",
    "\n",
    "# Add yoru code here\n",
    "\n",
    "\n",
    "\"\"\" \n",
    "Expected output:\n",
    "    True\n",
    "    False\n",
    "\n",
    "\"\"\""
   ]
  },
  {
   "cell_type": "markdown",
   "metadata": {},
   "source": [
    "#### Exercise 3:\n",
    "\n",
    "Write a `Function` that swaps the `first` and `last` elements of a `tuple`. If the tuple has fewer than two elements, return the original tuple."
   ]
  },
  {
   "cell_type": "code",
   "execution_count": null,
   "metadata": {},
   "outputs": [],
   "source": [
    "tuple_1 = (1, 2, 3, 4)\n",
    "tuple_2 = (1,)\n",
    "\n",
    "# Add your code here\n",
    "\n",
    "\n",
    "\"\"\" \n",
    "Expected output:\n",
    "    (4, 2, 3, 1)\n",
    "    (1,)\n",
    "\"\"\""
   ]
  },
  {
   "cell_type": "markdown",
   "metadata": {},
   "source": [
    "#### Exercise 4:\n",
    "\n",
    "Write a `Function` that creates a `tuple` with a given element repeated `n` times."
   ]
  },
  {
   "cell_type": "code",
   "execution_count": null,
   "metadata": {},
   "outputs": [],
   "source": [
    "tuple_1 = (5,) # repeat it by 3\n",
    "tuple_2 = ('a',) # repeat it by 0\n",
    "\n",
    "# Add your code here\n",
    "\n",
    "\n",
    "\"\"\" \n",
    "Expected output:\n",
    "    (5, 5, 5)\n",
    "    ()\n",
    "\"\"\""
   ]
  }
 ],
 "metadata": {
  "kernelspec": {
   "display_name": "qpenv",
   "language": "python",
   "name": "python3"
  },
  "language_info": {
   "name": "python",
   "version": "3.10.12"
  }
 },
 "nbformat": 4,
 "nbformat_minor": 2
}
