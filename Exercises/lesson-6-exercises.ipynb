{
 "cells": [
  {
   "cell_type": "markdown",
   "metadata": {},
   "source": [
    "## Nested Lists\n",
    "\n",
    "#### Exercise 1:\n",
    "\n",
    "Write a `Function` that takes a 2D list `matrix`, a `row index`, a `column index` and a `new value`. Replace the specified element with the new value and return the `updated matrix`."
   ]
  },
  {
   "cell_type": "code",
   "execution_count": null,
   "metadata": {},
   "outputs": [],
   "source": [
    "matrix = [[1, 2, 3], [4, 5, 6], [7, 8, 9]]\n",
    "\n",
    "# row 1, column 2, new value: 99\n",
    "\n",
    "# Add your code here\n",
    "\n",
    "\n",
    "# Expected output: [[1, 2, 3], [4, 5, 99], [7, 8, 9]]"
   ]
  },
  {
   "cell_type": "markdown",
   "metadata": {},
   "source": [
    "#### Exercise 2:\n",
    "\n",
    "Write a `Function` that takes a `2D` list `matrix` and a list `new_row`. Add new_row to the `end` of the matrix and return the updated matrix."
   ]
  },
  {
   "cell_type": "code",
   "execution_count": null,
   "metadata": {},
   "outputs": [],
   "source": [
    "matrix = [[1, 2], [3, 4]]\n",
    "new_row = [5, 6]\n",
    "\n",
    "\n",
    "# Add your code here\n",
    "\n",
    "\n",
    "# Expected output: [[1, 2], [3, 4], [5, 6]]\n"
   ]
  },
  {
   "cell_type": "markdown",
   "metadata": {},
   "source": [
    "#### Exercise 3:\n",
    "\n",
    "Write a `Function` that removes the specified column from a `2D list` and returns the updated matrix."
   ]
  },
  {
   "cell_type": "code",
   "execution_count": null,
   "metadata": {},
   "outputs": [],
   "source": [
    "matrix = [[1, 2, 3], [4, 5, 6], [7, 8, 9]] # remove column 1 (index 0)\n",
    "\n",
    "# Add your code here\n",
    "\n",
    "\n",
    "# Expected output: [[1, 3], [4, 6], [7, 9]]\n"
   ]
  },
  {
   "cell_type": "markdown",
   "metadata": {},
   "source": [
    "#### Exercise 4:\n",
    "\n",
    "Write a `Function` that takes a 2D list and returns its `transpose` (rows become columns and vice versa)"
   ]
  },
  {
   "cell_type": "code",
   "execution_count": null,
   "metadata": {},
   "outputs": [],
   "source": [
    "matrix = [[1, 2, 3], [4, 5, 6], [7, 8, 9]]\n",
    "\n",
    "# Add your code here\n",
    "\n",
    "\n",
    "# Expected output: [[1, 4, 7], [2, 5, 8], [3, 6, 9]] EX: column 1 of all rows are now in row 1, column 2 of all rows are in row 2, and column 3 of all rows are in row 3\n"
   ]
  },
  {
   "cell_type": "markdown",
   "metadata": {},
   "source": [
    "#### Exercise 5:\n",
    "\n",
    "Write a `Function` that takes a `2D list` and returns `two lists`. One with the `sum of each row` and another with the `sum of each column`."
   ]
  },
  {
   "cell_type": "code",
   "execution_count": null,
   "metadata": {},
   "outputs": [],
   "source": [
    "matrix = [[1, 2, 3], [4, 5, 6], [7, 8, 9]]\n",
    "\n",
    "# Add your code here\n",
    "\n",
    "\n",
    "# Expected output: ([6, 15, 24], [12, 15, 18])"
   ]
  },
  {
   "cell_type": "markdown",
   "metadata": {},
   "source": [
    "## Nested Dictionaries\n",
    "\n",
    "#### Exercise 1:\n",
    "\n",
    "Write a `Function` that takes in a `nested dictionary`, `key1`, `key2`, `new_value`, and updates the value at `data[key1][key2]` to `new_value`."
   ]
  },
  {
   "cell_type": "code",
   "execution_count": null,
   "metadata": {},
   "outputs": [],
   "source": [
    "data = {'a': {'x': 1, 'y': 2}, 'b': {'x': 3, 'y': 4}}\n",
    "key_1 = 'a'\n",
    "key_2 = 'x' \n",
    "new_value = 99\n",
    "\n",
    "# Add your code here\n",
    "\n",
    "\n",
    "# Expected output: {'a': {'x': 99, 'y': 2}, 'b': {'x': 3, 'y': 4}}\n"
   ]
  },
  {
   "cell_type": "markdown",
   "metadata": {},
   "source": [
    "#### Exercise 2:\n",
    "\n",
    "Write a `Function` that adds a new `key-value` pair to the `dictionary` where the value is a `sub-dictionary`"
   ]
  },
  {
   "cell_type": "code",
   "execution_count": null,
   "metadata": {},
   "outputs": [],
   "source": [
    "data = {'a': {'x': 1}, 'b': {'y': 2}}\n",
    "key_1 = 'c' \n",
    "value_1 = {'z' : 3}\n",
    "\n",
    "# Add your code here\n",
    "\n",
    "\n",
    "# Expected output: {'a': {'x': 1}, 'b': {'y': 2}, 'c': {'z': 3}}\n",
    "\n"
   ]
  },
  {
   "cell_type": "markdown",
   "metadata": {},
   "source": [
    "#### Exercise 3:\n",
    "\n",
    "Write a `Function` that removes `key_2` from the sub-dictionary `data[key1]`."
   ]
  },
  {
   "cell_type": "code",
   "execution_count": null,
   "metadata": {},
   "outputs": [],
   "source": [
    "data = {'a': {'x': 1, 'y': 2}, 'b': {'x': 3, 'y': 4}}\n",
    "key_1 = 'a' \n",
    "key_2 = 'x' \n",
    "\n",
    "# Add your code here\n",
    "\n",
    "\n",
    "# Expected output: {'a': {'y': 2}, 'b': {'x': 3, 'y': 4}}\n"
   ]
  },
  {
   "cell_type": "markdown",
   "metadata": {},
   "source": [
    "\n",
    "#### Exercise 4:\n",
    "\n",
    "Write a `Function` that flattens a `nested dictionary` into a `single dictionary` with keys as the path of the original keys `seperated by dots ( . )`"
   ]
  },
  {
   "cell_type": "code",
   "execution_count": null,
   "metadata": {},
   "outputs": [],
   "source": [
    "data = {'a': {'x': 1, 'y': 2}, 'b': {'z': 3}}\n",
    "\n",
    "# Add your code here\n",
    "\n",
    "\n",
    "# Expected Output: {'a.x': 1, 'a.y': 2, 'b.z': 3}\n"
   ]
  },
  {
   "cell_type": "markdown",
   "metadata": {},
   "source": [
    "#### Exersie 5:\n",
    "\n",
    "Write a `Function` that takes a dictionary with `nested dictionaries` and returns a `single dictionary` with the `sum` of all numeric values grouped by the `outer` keys.\n",
    "\n"
   ]
  },
  {
   "cell_type": "code",
   "execution_count": null,
   "metadata": {},
   "outputs": [],
   "source": [
    "data = {'a': {'x': 1, 'y': 2}, 'b': {'x': 3, 'z': 4}}\n",
    "\n",
    "# Add your code here\n",
    "\n",
    "\n",
    "# Expected output: {'a': 3, 'b': 7}\n"
   ]
  }
 ],
 "metadata": {
  "kernelspec": {
   "display_name": "qpenv",
   "language": "python",
   "name": "python3"
  },
  "language_info": {
   "name": "python",
   "version": "3.10.12"
  }
 },
 "nbformat": 4,
 "nbformat_minor": 2
}
