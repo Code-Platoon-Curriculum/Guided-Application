{
 "cells": [
  {
   "cell_type": "markdown",
   "metadata": {},
   "source": [
    "## Sets\n",
    "\n",
    "#### Exercise 1:\n",
    "\n",
    "Write a `Function` that takes `two sets` as input and returns a `set` containing the common elements."
   ]
  },
  {
   "cell_type": "code",
   "execution_count": null,
   "metadata": {},
   "outputs": [],
   "source": [
    "set_1 = {1, 2, 3, 4}\n",
    "set_2 = {3, 4, 5, 6}\n",
    "\n",
    "# Add your code here\n",
    "\n",
    "\n",
    "# Expected output: {3, 4}"
   ]
  },
  {
   "cell_type": "markdown",
   "metadata": {},
   "source": [
    "#### Exercise 2:\n",
    "\n",
    "Write a `Function` that takes in a `list` of repeated integers and returns only the `unique` elements."
   ]
  },
  {
   "cell_type": "code",
   "execution_count": null,
   "metadata": {},
   "outputs": [],
   "source": [
    "list_of_duplicates = [1, 1, 2, 3, 4, 5, 5, 5, 6, 7, 8, 8, 9, 9, 9, 9, 0]\n",
    "\n",
    "# Add your code here\n",
    "\n",
    "\n",
    "# Example output: {0, 1, 2, 3, 4, 5, 6, 7, 8, 9}"
   ]
  },
  {
   "cell_type": "markdown",
   "metadata": {},
   "source": [
    "#### Exercise 3:\n",
    "\n",
    "Write a `Function` that takes a `set` and an `element`. If the element is `NOT` in the set, `add` it and return the updated set."
   ]
  },
  {
   "cell_type": "code",
   "execution_count": null,
   "metadata": {},
   "outputs": [],
   "source": [
    "set_1 = {1, 2, 3}\n",
    "x = 4\n",
    "\n",
    "# Add your code here\n",
    "\n",
    "\n",
    "#Expected output: {1, 2, 3, 4}"
   ]
  },
  {
   "cell_type": "markdown",
   "metadata": {},
   "source": [
    "#### Exercise 4:\n",
    "\n",
    "Write a `Function` that takes `two sets` and returns the `symmetric` difference."
   ]
  },
  {
   "cell_type": "code",
   "execution_count": null,
   "metadata": {},
   "outputs": [],
   "source": [
    "set_1 = {1, 2, 3}\n",
    "set_2 = {3, 4, 5}\n",
    "\n",
    "# Add your code here\n",
    "\n",
    "# Expected output: {1, 2, 4, 5}"
   ]
  },
  {
   "cell_type": "markdown",
   "metadata": {},
   "source": [
    "#### Exercise 5:\n",
    "\n",
    "Write a `Function` that takes a `list of sets` and returns their union."
   ]
  },
  {
   "cell_type": "code",
   "execution_count": null,
   "metadata": {},
   "outputs": [],
   "source": [
    "sets = [{1, 2}, {2, 3}, {3, 4}]\n",
    "\n",
    "# Add your code here\n",
    "\n",
    "\n",
    "# Expected output:  {1, 2, 3, 4}"
   ]
  },
  {
   "cell_type": "markdown",
   "metadata": {},
   "source": [
    "## Dictionaries\n",
    "\n",
    "#### Exercise 1:\n",
    "\n",
    "Write a `Function` that checks if a specific `key` exists in a `dictionary`. Return `True` or `False`."
   ]
  },
  {
   "cell_type": "code",
   "execution_count": null,
   "metadata": {},
   "outputs": [],
   "source": [
    "my_dict = {\"name\": \"Alice\", \"age\": 25, \"city\": \"New York\"}  # Check for \"age\"\n",
    "\n",
    "# Add your code here\n",
    "\n",
    "\n",
    "# Expected output : True"
   ]
  },
  {
   "cell_type": "markdown",
   "metadata": {},
   "source": [
    "#### Exercise 2:\n",
    "\n",
    "Write a `Function` that `removes` a `key` from a dictionary and returns the updated `Dictionary`."
   ]
  },
  {
   "cell_type": "code",
   "execution_count": null,
   "metadata": {},
   "outputs": [],
   "source": [
    "my_dict = {\"name\" : \"Alice\", \"age\": 25, \"city\" : \"New York\"} # Remove age\n",
    "\n",
    "# Add your code here\n",
    "\n",
    "\n",
    "# Expected output: {\"name\" : \"Alice\", \"city\" : \"New York\"}"
   ]
  },
  {
   "cell_type": "markdown",
   "metadata": {},
   "source": [
    "#### Exercise 3:\n",
    "\n",
    "Write a `Function` that takes in a `key-value`, and a `dictionary` and returns the updated dictionary."
   ]
  },
  {
   "cell_type": "code",
   "execution_count": null,
   "metadata": {},
   "outputs": [],
   "source": [
    "my_dict = {\"name\" : \"Alice\", \"age\": 25, \"city\" : \"New York\"}\n",
    "key = \"favorite food\"\n",
    "value = \"fish tacos\"\n",
    "\n",
    "# Add your code here\n",
    "\n",
    "\n",
    "# Expected output: {\"name\" : \"Alice\", \"age\": 25, \"city\" : \"New York\", \"favorite food\" : \"fish tacos\"}"
   ]
  },
  {
   "cell_type": "markdown",
   "metadata": {},
   "source": [
    "#### Exercise 4:\n",
    "\n",
    "Write a `Function` that `merges two` dictionaries and returns the `combined dictionary`."
   ]
  },
  {
   "cell_type": "code",
   "execution_count": null,
   "metadata": {},
   "outputs": [],
   "source": [
    "dict_1 = {\"name\" : \"Alice\", \"age\": 25, \"city\" : \"New York\"}\n",
    "dict_2 = {\"favorite food\" : \"fish tacos\", \"address\" : \"123 oak dr\"}\n",
    "\n",
    "# Add your code here\n",
    "\n",
    "\n",
    "# Expected output: {\"name\" : \"Alice\", \"age\": 25, \"city\" : \"New York\", \"favorite food\" : \"fish tacos\"}"
   ]
  },
  {
   "cell_type": "markdown",
   "metadata": {},
   "source": [
    "#### Exercise 5:\n",
    "\n",
    "Write a `Function` that takes in a dictionary, key, value, and updates the value of a specific key in a dictionary. If it updates successfuly return the `updated dictionary`. If the key does `not` exist, return `\"Key not found\"`."
   ]
  },
  {
   "cell_type": "code",
   "execution_count": null,
   "metadata": {},
   "outputs": [],
   "source": [
    "dict_1 = {\"name\" : \"Alice\", \"age\" : 25} # Update age to 26\n",
    "\n",
    "dict_2 = {\"name\" : \"Brandon\", \"age\" : 29} # Attempt to update city to \"Houston\"\n",
    "\n",
    "# Add your code here\n",
    "\n",
    " \n",
    "# Expected output: \n",
    "#                   {\"name\" : \"Alice\", \"age\" : 26}\n",
    "#                  \"Key not found\""
   ]
  }
 ],
 "metadata": {
  "kernelspec": {
   "display_name": "qpenv",
   "language": "python",
   "name": "python3"
  },
  "language_info": {
   "codemirror_mode": {
    "name": "ipython",
    "version": 3
   },
   "file_extension": ".py",
   "mimetype": "text/x-python",
   "name": "python",
   "nbconvert_exporter": "python",
   "pygments_lexer": "ipython3",
   "version": "3.10.12"
  }
 },
 "nbformat": 4,
 "nbformat_minor": 2
}
