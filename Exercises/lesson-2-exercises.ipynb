{
 "cells": [
  {
   "cell_type": "markdown",
   "metadata": {},
   "source": [
    "## Boolean Values and Expressions\n",
    "\n",
    "#### Exercise 1:\n",
    "\n",
    "Write a script to check if a number is `greater` than 10 and an `even` number. Print the result."
   ]
  },
  {
   "cell_type": "code",
   "execution_count": null,
   "metadata": {},
   "outputs": [],
   "source": [
    "x = 16\n",
    "# Add your code here\n",
    "\n",
    "\n",
    "# Expected output: True"
   ]
  },
  {
   "cell_type": "markdown",
   "metadata": {},
   "source": [
    "## Comparison Operators and Membership Checks\n",
    "\n",
    "#### Exercise 1:\n",
    "\n",
    "Check if \"pear\" is `NOT` in the list of fruits. If it IS print a statement declaring that its in the list, else print that it is not in the list"
   ]
  },
  {
   "cell_type": "code",
   "execution_count": null,
   "metadata": {},
   "outputs": [],
   "source": [
    "fruits = ['banana', 'orange', 'apple', 'grape']\n",
    "\n",
    "# add your code here\n",
    "\n",
    "\n",
    "# Expected output: \"Pear is not in the list\""
   ]
  },
  {
   "cell_type": "markdown",
   "metadata": {},
   "source": [
    "#### Exercise 2:\n",
    "\n",
    "Compare two numbers, x and y, to see if the first is both `greater` than and `divisible` by the second. Print the result."
   ]
  },
  {
   "cell_type": "code",
   "execution_count": null,
   "metadata": {},
   "outputs": [],
   "source": [
    "x = 75\n",
    "y = 45\n",
    "# Add your code here\n",
    "\n",
    "\n",
    "\n",
    "# Expected output: False"
   ]
  },
  {
   "cell_type": "markdown",
   "metadata": {},
   "source": [
    "#### Exercise 3:\n",
    "\n",
    "Check if all elements in the sublist `[1, 2]` are in the main list and print the result."
   ]
  },
  {
   "cell_type": "code",
   "execution_count": null,
   "metadata": {},
   "outputs": [],
   "source": [
    "main_list = [1, 2, 3, 4, 5]\n",
    "sub_list = [1, 2]\n",
    "# Add your code here\n",
    "\n",
    "\n",
    "# Expected output: True"
   ]
  },
  {
   "cell_type": "markdown",
   "metadata": {},
   "source": [
    "## Logical Operators\n",
    "\n",
    "#### Exercise 1:\n",
    "\n",
    "Use the `and` operator to check if a number is wiithin a specific range."
   ]
  },
  {
   "cell_type": "code",
   "execution_count": null,
   "metadata": {},
   "outputs": [],
   "source": [
    "x = 25\n",
    "# Add your code here\n"
   ]
  },
  {
   "cell_type": "markdown",
   "metadata": {},
   "source": [
    "#### Exercise 2:\n",
    "\n",
    "Use the `or` operator to check it at least one of the following strings is greater than 3 or less than 2 ( Hint: use the `len()` built in method)."
   ]
  },
  {
   "cell_type": "code",
   "execution_count": null,
   "metadata": {},
   "outputs": [],
   "source": [
    "a = 'hello'\n",
    "b = 'world'\n",
    "# Add your code here\n",
    "\n",
    "# Expected output: True"
   ]
  },
  {
   "cell_type": "markdown",
   "metadata": {},
   "source": [
    "#### Exercise 3:\n",
    "\n",
    "Write an `if` statement to check if a number is divisible by both 2 and 3. Print a message if true."
   ]
  },
  {
   "cell_type": "code",
   "execution_count": null,
   "metadata": {},
   "outputs": [],
   "source": [
    "num = 12\n",
    "\n",
    "# Add your code here\n",
    "\n",
    "\n",
    "# Expected output: \"The number is divisible by both 2 and 3\""
   ]
  },
  {
   "cell_type": "markdown",
   "metadata": {},
   "source": [
    "#### Exercise 4:\n",
    "\n",
    "Write an `if-else` statement to determine whether a string is longer than `5` characters."
   ]
  },
  {
   "cell_type": "code",
   "execution_count": null,
   "metadata": {},
   "outputs": [],
   "source": [
    "word = \"Python\"\n",
    "\n",
    "# Add your code here\n",
    "\n",
    "\n",
    "# Expected output: \"The string is longer\""
   ]
  },
  {
   "cell_type": "markdown",
   "metadata": {},
   "source": [
    "#### Exercise 5\n",
    "\n",
    "Write and `if-elif` statement to classify a number as small, medium, or large."
   ]
  },
  {
   "cell_type": "code",
   "execution_count": null,
   "metadata": {},
   "outputs": [],
   "source": [
    "num = 50\n",
    "\n",
    "# Add your code here\n",
    "\n",
    "# Expected output: \"Medium\""
   ]
  },
  {
   "cell_type": "markdown",
   "metadata": {},
   "source": [
    "## Functions\n",
    "\n",
    "#### Exercise 1:\n",
    "\n",
    "Write a `function` that takes a `string` as input and returns the string `reversed`."
   ]
  },
  {
   "cell_type": "code",
   "execution_count": null,
   "metadata": {},
   "outputs": [],
   "source": [
    "s1 = \"hello\"\n",
    "s2 = \"world\" \n",
    "s2 = \"codeplatoon\"\n",
    "#Add your code here\n",
    "\n",
    "\n",
    "\n",
    "\"\"\" Expected output:\n",
    "\n",
    "    elloh\n",
    "    dlrow\n",
    "    nootalpedoc\n",
    "\n",
    "\"\"\""
   ]
  },
  {
   "cell_type": "markdown",
   "metadata": {},
   "source": [
    "#### Exercise 2:\n",
    "\n",
    "Write a `function` that takes a `string` and returns the `number of vowels`."
   ]
  },
  {
   "cell_type": "code",
   "execution_count": null,
   "metadata": {},
   "outputs": [],
   "source": [
    "my_word = \"hello world\" \n",
    "\n",
    "# Add your code here\n",
    "\n",
    "\n",
    "# Expected output: 3"
   ]
  },
  {
   "cell_type": "markdown",
   "metadata": {},
   "source": [
    "#### Exercise 3:\n",
    "\n",
    "Write a `function` that converts a temperature from `Celcius to Fahrenheit` and vice versa. The function should take two arguments: The `temperature value` and the `converstion type` (\"C to F\" or \"F to C\")\n",
    "\n",
    "Converstion Formula for `C to F` ---> F = C * (9 / 5) + 32\n",
    "\n",
    "Converstion Formula for `F to C` ---> C = (F - 32) * 5 / 9"
   ]
  },
  {
   "cell_type": "code",
   "execution_count": null,
   "metadata": {},
   "outputs": [],
   "source": [
    "temp_1 = 25 # Temperature in Celcius\n",
    "temp_2 = 77 # Temperature in Fahrenheit\n",
    "# Add your code here\n",
    "\n",
    "\n",
    "\"\"\" Expected Output:\n",
    "    77.0\n",
    "    25.0\n",
    "\"\"\""
   ]
  }
 ],
 "metadata": {
  "kernelspec": {
   "display_name": "qpenv",
   "language": "python",
   "name": "python3"
  },
  "language_info": {
   "codemirror_mode": {
    "name": "ipython",
    "version": 3
   },
   "file_extension": ".py",
   "mimetype": "text/x-python",
   "name": "python",
   "nbconvert_exporter": "python",
   "pygments_lexer": "ipython3",
   "version": "3.10.12"
  }
 },
 "nbformat": 4,
 "nbformat_minor": 2
}
