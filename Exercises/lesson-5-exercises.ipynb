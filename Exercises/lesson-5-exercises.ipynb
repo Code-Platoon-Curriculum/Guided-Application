{
 "cells": [
  {
   "cell_type": "markdown",
   "metadata": {},
   "source": [
    "## Loops and Data Manipulation\n",
    "\n",
    "#### Exercise 1:\n",
    "\n",
    "Write a `Function` that takes an integer `n` and prints all even numbers from 0 to n (inclusive - meaning it should include n in print statement) using a `for loop`:"
   ]
  },
  {
   "cell_type": "code",
   "execution_count": null,
   "metadata": {},
   "outputs": [],
   "source": [
    "x = 10\n",
    "\n",
    "# Add your code here\n",
    "\n",
    "\n",
    "\"\"\"\n",
    "Expected output:\n",
    "    0\n",
    "    2\n",
    "    4\n",
    "    6\n",
    "    8\n",
    "    10\n",
    "\"\"\""
   ]
  },
  {
   "cell_type": "markdown",
   "metadata": {},
   "source": [
    "#### Exercise 2:\n",
    "\n",
    "Write a `Function` that takes an integer `n` and returns the `sum` of all numbers from `1` to `n` using a `while` loop:"
   ]
  },
  {
   "cell_type": "code",
   "execution_count": null,
   "metadata": {},
   "outputs": [],
   "source": [
    "x = 5\n",
    "\n",
    "# Add your code here\n",
    "\n",
    "\n",
    "\"\"\" \n",
    "Expected output:\n",
    "    15 -> (1 + 2 + 3 + 4 + 5)\n",
    "\"\"\""
   ]
  },
  {
   "cell_type": "markdown",
   "metadata": {},
   "source": [
    "#### Exercise 3:\n",
    "\n",
    "Write a `Function` that takes a `string` and returns the `reversed` string using a `for` loop: _DO NOT USE_ [ : : - 1]"
   ]
  },
  {
   "cell_type": "code",
   "execution_count": null,
   "metadata": {},
   "outputs": [],
   "source": [
    "s1 = \"olleh\"\n",
    "s2 = \"nootalp edoc\"\n",
    "s3 = \"nohtyp\" \n",
    "\n",
    "# Add your code here\n",
    "\n",
    "\"\"\" \n",
    "Expected output:\n",
    "    hello\n",
    "    code platoon\n",
    "    python\n",
    "\"\"\""
   ]
  },
  {
   "cell_type": "markdown",
   "metadata": {},
   "source": [
    "#### Exercise 4:\n",
    "\n",
    "Write a `Function` that takes a string `s` and returns the number of `vowels` in the string using a `while` loop."
   ]
  },
  {
   "cell_type": "code",
   "execution_count": null,
   "metadata": {},
   "outputs": [],
   "source": [
    "s1 = \"education\" \n",
    "\n",
    "\n",
    "# Add your code here\n",
    "\n",
    "\n",
    "# Expected output: 5 -> (e, u, a, i, o)"
   ]
  },
  {
   "cell_type": "markdown",
   "metadata": {},
   "source": [
    "#### Exercise 5:\n",
    "\n",
    "Write a `Function` that takes an integer `n` and prints its multiplication table from 1 to 10 using a `for` loop."
   ]
  },
  {
   "cell_type": "code",
   "execution_count": null,
   "metadata": {},
   "outputs": [],
   "source": [
    "x = 3\n",
    "\n",
    "# Add your code here\n",
    "\n",
    "\n",
    "\"\"\"\n",
    "Expected output:\n",
    "    3 x 1 = 3\n",
    "    3 x 2 = 6\n",
    "    3 x 3 = 9\n",
    "    3 x 4 = 12\n",
    "    3 x 5 = 15\n",
    "    3 x 6 = 18\n",
    "    3 x 7 = 21\n",
    "    3 x 8 = 24\n",
    "    3 x 9 = 27\n",
    "    3 x 10 = 30\n",
    "\"\"\""
   ]
  },
  {
   "cell_type": "markdown",
   "metadata": {},
   "source": [
    "#### Exercise 6:\n",
    "\n",
    "Write a `Function` that takes a `non-negative` integer `n` and returns its `factorial` using a `while` loop:\n",
    "\n",
    "Factorial = The product of multiplying a number by all its previous numbers; factorial(5) == 120 because (5 * 4 * 3 * 2 * 1)"
   ]
  },
  {
   "cell_type": "code",
   "execution_count": null,
   "metadata": {},
   "outputs": [],
   "source": [
    "x = 5\n",
    "\n",
    "# Add your code here\n",
    "\n",
    "\n",
    "# Expected output: 120 -> (5 * 4 * 3 * 2 * 1)"
   ]
  },
  {
   "cell_type": "markdown",
   "metadata": {},
   "source": [
    "#### Exercise 7:\n",
    "\n",
    "Write a `Function` that takes an integer `target` and uses a `while` loop to repeatedly ask the user to guess the number until they get it right. Use `input()` in your implementation, but the expected output assumes correct input.\n",
    "\n",
    "`NOTE`: When using `input()` in Jupyter notebooks, when you run your code it will prompt you for input at the very top of your VSCode search bar, enter it there and press enter"
   ]
  },
  {
   "cell_type": "code",
   "execution_count": null,
   "metadata": {},
   "outputs": [],
   "source": [
    "x = 5\n",
    "\n",
    "# Add your code here\n",
    "\n",
    "\n",
    "\"\"\" \n",
    "Expected output:\n",
    "    Guess the number: 3\n",
    "    Too low! Try again.\n",
    "    Guess the number: 7\n",
    "    Too low! Try again.\n",
    "    Guess the number: 5\n",
    "    Correct! Your guessed it\n",
    "\n",
    "\"\"\""
   ]
  },
  {
   "cell_type": "markdown",
   "metadata": {},
   "source": [
    "#### Exercise 8:\n",
    "\n",
    "Write a `Function` that takes an integer `n` and prints the first `n` numbers in the Fibonacci sequence using a `for` loop.\n",
    "\n",
    "Fibonacci = The Fibonacci sequence is a series of numbers in which each number (called a Fibonacci number) is the sum of the two preceding ones, starting from 0 and 1.\n",
    "\n",
    "<span style=\"margin-left: 40px;\">The first few numbers in the Fibonacci sequence are: \n",
    "\n",
    "<span style=\"margin-left: 80px;\">0, 1, 1, 2, 3, 5, 8, 13, 21, 34, ...\n",
    "\n",
    "_NOTE_ After the first `1`, every number that comes after is the sum of the two previous numbers"
   ]
  },
  {
   "cell_type": "code",
   "execution_count": null,
   "metadata": {},
   "outputs": [],
   "source": [
    "x = 6\n",
    "\n",
    "# Add your code here\n",
    "\n",
    "\n",
    "# Expected output: 0, 1, 1, 2, 3, 5"
   ]
  },
  {
   "cell_type": "markdown",
   "metadata": {},
   "source": [
    "#### Exercise 9:\n",
    "\n",
    "Write a `Function` that takes a string `sentence` and returns a `dictionary` where the `keys` are the `words` in the sentence, and the `values` are the `number of times` each word appears in the string. Ensure that words that are capitalized differently are treated the same."
   ]
  },
  {
   "cell_type": "code",
   "execution_count": null,
   "metadata": {},
   "outputs": [],
   "source": [
    "s1 = \"Hello world I am John hello once again I am happy to be in the world Hello\"\n",
    "\n",
    "# Add your code here\n",
    "\n",
    "\n",
    "# Expected output: {'hello': 3, 'world': 2, 'i': 2, 'am': 2, 'john': 1, 'once': 1, 'again': 1, 'happy': 1, 'to': 1, 'be': 1, 'in': 1, 'the': 1}\n"
   ]
  },
  {
   "cell_type": "markdown",
   "metadata": {},
   "source": [
    "#### Exercise 10:\n",
    "\n",
    "Write a `Function` that takes a dictionary `d` with numerical values and returns the key with the `highest` value:"
   ]
  },
  {
   "cell_type": "code",
   "execution_count": null,
   "metadata": {},
   "outputs": [],
   "source": [
    "x = {'a': 10, 'b': 20, 'c': 15, 'd' : 6, 'e' : 19, 'f' : 2}\n",
    "\n",
    "# Add your code here\n",
    "\n",
    "\n",
    "# Expected output: 'b'"
   ]
  },
  {
   "cell_type": "markdown",
   "metadata": {},
   "source": [
    "#### Exercise 11:\n",
    "\n",
    "Write a `Function` that takes a dictionary `prices` (keys are item names, values are prices) and a `percentage` ( positive for increase, negative for decrease). The function should `return` a new dictionary with `updated` prices"
   ]
  },
  {
   "cell_type": "code",
   "execution_count": null,
   "metadata": {},
   "outputs": [],
   "source": [
    "merchandise_1 = {'apple': 100, 'banana': 50, 'cherry': 75, 'date': 120, 'elderberry': 200} # Percentage == 10\n",
    "merchandise_2 = {'milk': 3.5, 'bread': 2.0, 'eggs': 5.0, 'cheese': 4.5} # Percentage == -20\n",
    "\n",
    "\n",
    "# Add your code here\n",
    "\n",
    "\n",
    "\"\"\"\n",
    "Expected output:\n",
    "{\n",
    "    'apple': 110.0,  -> 100 + 10%\n",
    "    'banana': 55.0,  -> 50 + 10%\n",
    "    'cherry': 82.5,  -> 75 + 10%\n",
    "    'date': 132.0,   -> 120 + 10%\n",
    "    'elderberry': 220.0  -> 200 + 10%\n",
    "}\n",
    "\n",
    "\n",
    "{\n",
    "    'milk': 2.8,  # 3.5 - 20%\n",
    "    'bread': 1.6,  # 2.0 - 20%\n",
    "    'eggs': 4.0,  # 5.0 - 20%\n",
    "    'cheese': 3.6  # 4.5 - 20%\n",
    "}\n",
    "\"\"\""
   ]
  },
  {
   "cell_type": "markdown",
   "metadata": {},
   "source": [
    "#### Exercise 12:\n",
    "\n",
    "Write a `Function` that takes a dictionary `students` where the `keys` are `student names` and the `values` are their `grades (integers)`. The function should return a `new` dictionary where the `keys` are `grade ranges` (\"A\", \"B\", \"C\", \"D\", \"F\") and the `values` are lists of `student names` who fall into those ranges.\n",
    "\n",
    "Grade Ranges:\n",
    "\n",
    "* \"A\": 90–100\n",
    "\n",
    "* \"B\": 80–89\n",
    "\n",
    "* \"C\": 70–79\n",
    "\n",
    "* \"D\": 60–69\n",
    "\n",
    "* \"F\": <60"
   ]
  },
  {
   "cell_type": "code",
   "execution_count": null,
   "metadata": {},
   "outputs": [],
   "source": [
    "list_1 = {\n",
    "    'Alice': 95,\n",
    "    'Bob': 85,\n",
    "    'Charlie': 72,\n",
    "    'Diana': 88,\n",
    "    'Eve': 67,\n",
    "    'Frank': 55,\n",
    "    'Grace': 91\n",
    "}\n",
    "\n",
    "# Add your code here\n",
    "\n",
    "\n",
    "\"\"\" \n",
    "Expected output: \n",
    "{\n",
    "    'A': ['Alice', 'Grace'],\n",
    "    'B': ['Bob', 'Diana'],\n",
    "    'C': ['Charlie'],\n",
    "    'D': ['Eve'],\n",
    "    'F': ['Frank']\n",
    "}\n",
    "\"\"\""
   ]
  }
 ],
 "metadata": {
  "kernelspec": {
   "display_name": "qpenv",
   "language": "python",
   "name": "python3"
  },
  "language_info": {
   "codemirror_mode": {
    "name": "ipython",
    "version": 3
   },
   "file_extension": ".py",
   "mimetype": "text/x-python",
   "name": "python",
   "nbconvert_exporter": "python",
   "pygments_lexer": "ipython3",
   "version": "3.10.12"
  }
 },
 "nbformat": 4,
 "nbformat_minor": 2
}
