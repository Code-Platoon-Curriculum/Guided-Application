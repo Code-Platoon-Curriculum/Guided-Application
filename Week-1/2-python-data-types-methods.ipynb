{
 "cells": [
  {
   "cell_type": "code",
   "execution_count": null,
   "metadata": {},
   "outputs": [],
   "source": []
  },
  {
   "cell_type": "markdown",
   "metadata": {},
   "source": [
    "# Python Native Data Types & Methods\n",
    "\n",
    "## Introduction\n",
    "\n",
    "Welcome to the lesson on Python native data types and methods. In this lesson, we will go over the native data types that you will work with when writing code in Python (or any programming language)."
   ]
  },
  {
   "cell_type": "markdown",
   "metadata": {},
   "source": [
    "## Table of Contents\n",
    "\n",
    "- [Python Native Data Types & Methods](#python-native-data-types-and-methods)\n",
    "  - [Introduction](#introduction)\n",
    "  - [Table of Contents](#table-of-contents)\n",
    "  - [1. Booleans](#1-understanding-the-problem-15-minutes)\n",
    "    - [Problem Statement Analysis](#problem-statement-analysis)\n",
    "    - [Identifying Constraints and Requirements](#identifying-constraints-and-requirements)\n",
    "  - [2. Numbers (Integers & Floats)](#2-decomposition-15-minutes)\n",
    "    - [Breaking Down Complex Problems](#breaking-down-complex-problems)\n",
    "    - [Identifying Relevant Data and Processes](#identifying-relevant-data-and-processes)\n",
    "  - [3. Strings](#3-algorithm-design-20-minutes)\n",
    "    - [Selecting Appropriate Data Structures](#selecting-appropriate-data-structures)\n",
    "    - [Creating Algorithms to Solve Subproblems](#creating-algorithms-to-solve-subproblems)\n",
    "  - [4. None Type](#4-coding-and-debugging-20-minutes)\n",
    "    - [Translating Your Algorithm into Python Code](#translating-your-algorithm-into-python-code)\n",
    "    - [Strategies for Debugging and Troubleshooting](#strategies-for-debugging-and-troubleshooting)\n",
    "  - [5. Testing and Validation (15 minutes)](#5-testing-and-validation-15-minutes)\n",
    "    - [Writing Test Cases and Unit Tests](#writing-test-cases-and-unit-tests)\n",
    "    - [Validating Your Solution for Correctness and Efficiency](#validating-your-solution-for-correctness-and-efficiency)\n",
    "  - [6. Optimization (15 minutes)](#6-optimization-15-minutes)\n",
    "    - [Analyzing Code for Performance Bottlenecks](#analyzing-code-for-performance-bottlenecks)\n",
    "  - [7. Iteration and Refinement (10 minutes)](#7-iteration-and-refinement-10-minutes)\n",
    "    - [Continuously Improving Your Solution](#continuously-improving-your-solution)\n",
    "  - [8. Documentation and Collaboration (10 minutes)](#8-documentation-and-collaboration-10-minutes)\n",
    "    - [Writing Clear and Concise Code Comments](#writing-clear-and-concise-code-comments)\n",
    "    - [Collaborating Effectively with Team Members](#collaborating-effectively-with-team-members)\n",
    "  - [9. Real-World Problem-Solving (15 minutes)](#9-real-world-problem-solving-15-minutes)\n",
    "    - [Solving a Complex Problem as a Demonstration](#solving-a-complex-problem-as-a-demonstration)\n",
    "    - [Applying the Problem-Solving Process](#applying-the-problem-solving-process)\n",
    "  - [Conclusion (5 minutes)](#conclusion-5-minutes)"
   ]
  },
  {
   "cell_type": "markdown",
   "metadata": {},
   "source": [
    "## Data Types\n",
    "\n",
    "Introduction to Data Types\n",
    "\n",
    "* [Python: Data Types](https://docs.python.org/3/library/datatypes.html)\n",
    "\n",
    "There are many data types in Python, but to keep things simple, we will begin by covering the basics: Boolean, Integer, Floating Point, String, and the None Type. See the table below for short descriptions of these basic data types. \n",
    "\n",
    "| Description                              | Python Data Type | Displayed `type()` |\n",
    "| :------------------------------------------ | :---------------: | :-------------: |\n",
    "| True or False                               | Boolean          | `bool`            |\n",
    "| Whole Numbers                               | Integer          | `int`             |\n",
    "| Decimal Numbers                             | Float            | `float`           |\n",
    "| Sequences of characters                     | String           | `str`             |\n",
    "| Nothing or Non-existent                     | None             | `NoneType`        |\n",
    "\n",
    "\n",
    "Different data objects (e.g. text, numbers, or a list of things) are given specific data types so that computers know how store them in memory. Behind the scenes, these different data types use memory differently.  While you can look at a string representation of the number `1`, which looks like `\"1\"`, the way the computer stores the two are different and operations between the two cannot happen until certain methods are used.  A Python program will give you an error if you try to execute an arithmetic function between the two.  Try it out below:"
   ]
  },
  {
   "cell_type": "code",
   "execution_count": null,
   "metadata": {},
   "outputs": [],
   "source": [
    "1 + '3'"
   ]
  },
  {
   "cell_type": "markdown",
   "metadata": {},
   "source": [
    "## Booleans\n",
    "\n",
    "The most basic data type in Python, booleans serve the most important role when it comes to writing a computer program: It allows a program to know what to do.  A boolean is binary.  It is yes or no, on or off, 1 or 0, `True` or `False`.  While this is an easy concept on its own, it will still take some practice to plan out how you are going to use booleans to construct a useful script that will do what you want.\n",
    "\n",
    "While you will sometimes explictly define a variable as a boolean value, booleans are typically used in comparison operators where the result of a boolean expression is what you're looking at to allow your program to make decisions.  For example, in a theoretical program of a thermostat, you can set the `current_temperature` to the output of the thermometer and your thermostat program can periodically evaluate the temperature against a set threshold to switch the heater or air conditioning on or off.  So you could write code that looks like this:"
   ]
  },
  {
   "cell_type": "code",
   "execution_count": null,
   "metadata": {},
   "outputs": [],
   "source": [
    "current_temperature = 67\n",
    "\n",
    "if current_temperature < 68: # <--- Results in True or False and determines which line below runs\n",
    "    heater_on = True\n",
    "else:\n",
    "    heater_on = False"
   ]
  },
  {
   "cell_type": "markdown",
   "metadata": {},
   "source": [
    "## Numbers\n",
    "\n",
    "The two types of numbers we see in programming are integers (whole numbers) and floating point (decimals).  The presence of a decimal point means that a number is a floating point number.  Python treats integers and floats that represent the same value as equal, so `5.0` is equal to `5`.\n",
    "\n",
    "You can perform arithmetic between numbers with Python.  Python will calculate result between integers and floats."
   ]
  },
  {
   "cell_type": "code",
   "execution_count": null,
   "metadata": {},
   "outputs": [],
   "source": [
    "34 + 6.5"
   ]
  },
  {
   "cell_type": "markdown",
   "metadata": {},
   "source": [
    "Operations between floats and integers will result in the most precise form.  if a calculation between an integer and a float occurs, the result will always be a float because it is more precise."
   ]
  },
  {
   "cell_type": "markdown",
   "metadata": {},
   "source": [
    "#### Mathematical Operators\n",
    "\n",
    "| Operator  | Operation                            |\n",
    "| :-------: | :----------------------------------- |\n",
    "| `**`        | exponent                             |\n",
    "| `*`         | multiplication                       |\n",
    "| `/`         | division                             |\n",
    "| `//`        | floor division - rounds down the result of division                       |\n",
    "| `%`         | modulus - returns only the remainder of division|\n",
    "| `+`         | addition                             |\n",
    "| `-`         | subtraction                          |"
   ]
  },
  {
   "cell_type": "markdown",
   "metadata": {},
   "source": [
    "Like you learned in math class, Python performs arithmetic operations according to the rule of operations: Parenthesis, Exponents, Multiplication / Division, Addition / Subtraction (PEMDAS).  Below are some examples that you can try out."
   ]
  },
  {
   "cell_type": "code",
   "execution_count": null,
   "metadata": {},
   "outputs": [],
   "source": [
    "(1 + 70) / 4.3 + 8 ** 5"
   ]
  },
  {
   "cell_type": "code",
   "execution_count": null,
   "metadata": {},
   "outputs": [],
   "source": [
    "20 // 4"
   ]
  },
  {
   "cell_type": "code",
   "execution_count": null,
   "metadata": {},
   "outputs": [],
   "source": [
    "21 % 4"
   ]
  },
  {
   "cell_type": "code",
   "execution_count": null,
   "metadata": {},
   "outputs": [],
   "source": [
    "20 / 4"
   ]
  },
  {
   "cell_type": "markdown",
   "metadata": {},
   "source": [
    "## Strings\n",
    "\n",
    "* [Python: String - Common string operations](https://docs.python.org/3/library/string.html)\n",
    "\n",
    "Strings, formally called _string literals_, are immutable sequences of zero or more characters. They are enclosed with single, double, or triple quotes depending on the use case.  Since strings are sequences, or collections of characters, we can access any portion of a string with _indexing_.  The syntax for accessing a portion of a string is with the `[]` characters.  As a reminder, Python uses zero-based indexing, which is nothing more than starting your counting at zero.\n",
    "\n",
    "<img src=\"../GRAPHICS/python_index.png\" height=\"200px\">"
   ]
  },
  {
   "cell_type": "code",
   "execution_count": null,
   "metadata": {},
   "outputs": [],
   "source": [
    "my_string = \"This is my basic string\"\n",
    "# accessing individual indexes and printing them out\n",
    "print(my_string[0])\n",
    "print(my_string[1])\n",
    "print(my_string[2])\n",
    "print(my_string[3])\n",
    "print(my_string[4])"
   ]
  },
  {
   "cell_type": "markdown",
   "metadata": {},
   "source": [
    "The term immutable means that once a string is created, it cannot be changed in-place.  It doesn't mean that we cannot \"change\" a string, but the way we do it is through completely re-defining, or creating completely new strings with changes.\n",
    "\n",
    "With other collections in Python, such as lists, you can re-define a specific index of the list using the same bracket notation we saw in the above example.  Because strings are immutable, we would get an error if we tried to change a letter in place."
   ]
  },
  {
   "cell_type": "code",
   "execution_count": 18,
   "metadata": {},
   "outputs": [
    {
     "ename": "TypeError",
     "evalue": "'str' object does not support item assignment",
     "output_type": "error",
     "traceback": [
      "\u001b[0;31m---------------------------------------------------------------------------\u001b[0m",
      "\u001b[0;31mTypeError\u001b[0m                                 Traceback (most recent call last)",
      "Cell \u001b[0;32mIn[18], line 2\u001b[0m\n\u001b[1;32m      1\u001b[0m my_string \u001b[38;5;241m=\u001b[39m \u001b[38;5;124m'\u001b[39m\u001b[38;5;124mThis is my string.\u001b[39m\u001b[38;5;124m'\u001b[39m\n\u001b[0;32m----> 2\u001b[0m \u001b[43mmy_string\u001b[49m\u001b[43m[\u001b[49m\u001b[38;5;241;43m-\u001b[39;49m\u001b[38;5;241;43m1\u001b[39;49m\u001b[43m]\u001b[49m \u001b[38;5;241m=\u001b[39m \u001b[38;5;124m\"\u001b[39m\u001b[38;5;124m!\u001b[39m\u001b[38;5;124m\"\u001b[39m \u001b[38;5;66;03m# Trying to change the last index\u001b[39;00m\n",
      "\u001b[0;31mTypeError\u001b[0m: 'str' object does not support item assignment"
     ]
    }
   ],
   "source": [
    "my_string = 'This is my string.'\n",
    "my_string[-1] = \"!\" # Trying to change the last index"
   ]
  },
  {
   "cell_type": "markdown",
   "metadata": {},
   "source": [
    "Nothing stops us from _redefining_ a string, however."
   ]
  },
  {
   "cell_type": "code",
   "execution_count": 19,
   "metadata": {},
   "outputs": [
    {
     "name": "stdout",
     "output_type": "stream",
     "text": [
      "This is my string.\n"
     ]
    },
    {
     "data": {
      "text/plain": [
       "'This is my changed string'"
      ]
     },
     "execution_count": 19,
     "metadata": {},
     "output_type": "execute_result"
    }
   ],
   "source": [
    "print(my_string) # printing out what was assigned above...\n",
    "my_string = \"This is my changed string\" # re-defining my_string\n",
    "my_string"
   ]
  },
  {
   "cell_type": "markdown",
   "metadata": {},
   "source": [
    " #### Slicing Strings\n",
    "\n",
    " As we saw with indexing, string slicing also uses bracket syntax.  The difference is the presence of one or more colons"
   ]
  },
  {
   "cell_type": "markdown",
   "metadata": {},
   "source": []
  },
  {
   "cell_type": "markdown",
   "metadata": {},
   "source": []
  },
  {
   "cell_type": "markdown",
   "metadata": {},
   "source": []
  },
  {
   "cell_type": "markdown",
   "metadata": {},
   "source": []
  },
  {
   "cell_type": "markdown",
   "metadata": {},
   "source": []
  },
  {
   "cell_type": "markdown",
   "metadata": {},
   "source": []
  },
  {
   "cell_type": "markdown",
   "metadata": {},
   "source": []
  },
  {
   "cell_type": "markdown",
   "metadata": {},
   "source": []
  },
  {
   "cell_type": "markdown",
   "metadata": {},
   "source": []
  },
  {
   "cell_type": "markdown",
   "metadata": {},
   "source": []
  },
  {
   "cell_type": "markdown",
   "metadata": {},
   "source": []
  },
  {
   "cell_type": "markdown",
   "metadata": {},
   "source": []
  }
 ],
 "metadata": {
  "kernelspec": {
   "display_name": "Python 3",
   "language": "python",
   "name": "python3"
  },
  "language_info": {
   "codemirror_mode": {
    "name": "ipython",
    "version": 3
   },
   "file_extension": ".py",
   "mimetype": "text/x-python",
   "name": "python",
   "nbconvert_exporter": "python",
   "pygments_lexer": "ipython3",
   "version": "3.11.1"
  }
 },
 "nbformat": 4,
 "nbformat_minor": 2
}
