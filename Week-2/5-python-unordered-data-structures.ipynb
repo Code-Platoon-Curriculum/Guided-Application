{
 "cells": [
  {
   "cell_type": "markdown",
   "metadata": {},
   "source": [
    "# Python Dictionaries, Sets, and Their Built-in Methods\n",
    "\n",
    "## Introduction (5 minutes)\n",
    "\n",
    "Welcome to today's lecture on Python dictionaries, sets, and their extensive built-in methods. Dictionaries and sets are fundamental data structures in Python, each serving unique purposes. In this lesson, we will explore these data structures and delve into the numerous built-in methods that make them powerful for data manipulation."
   ]
  },
  {
   "cell_type": "markdown",
   "metadata": {},
   "source": [
    "## Table of Contents\n",
    "\n",
    "1. [Dictionaries](#1-dictionaries-45-minutes) (45 minutes)\n",
    "   - [Creating Dictionaries](#a-creating-dictionaries-5-minutes)\n",
    "   - [Dictionary Mutability](#b-dictionary-mutability-5-minutes)\n",
    "   - [Common Dictionary Operations](#c-common-dictionary-operations-10-minutes)\n",
    "   - [Dictionary Methods](#d-dictionary-methods-15-minutes)\n",
    "2. [Sets](#2-sets-45-minutes) (45 minutes)\n",
    "   - [Creating Sets](#a-creating-sets-5-minutes)\n",
    "   - [Common Set Operations](#b-common-set-operations-10-minutes)\n",
    "   - [Set Methods](#c-set-methods-15-minutes)\n",
    "3. [Conclusion](#3-conclusion-5-minutes)"
   ]
  },
  {
   "cell_type": "markdown",
   "metadata": {},
   "source": [
    "### 1. Dictionaries (45 minutes)"
   ]
  },
  {
   "cell_type": "markdown",
   "metadata": {},
   "source": [
    "#### a. Creating Dictionaries (5 minutes)\n",
    "\n",
    "- Dictionaries are unordered collections of key-value pairs.\n",
    "- Created using curly braces or the `dict()` constructor.\n",
    "- Example:\n",
    "\n",
    "  ```python\n",
    "  person = {\"name\": \"Alice\", \"age\": 30}\n",
    "  ```"
   ]
  },
  {
   "cell_type": "markdown",
   "metadata": {},
   "source": [
    "#### b. Dictionary Mutability (5 minutes)\n",
    "\n",
    "- Dictionaries are mutable, meaning you can change their contents.\n",
    "- You can add, remove, or modify key-value pairs.\n",
    "- Example:\n",
    "\n",
    "  ```python\n",
    "  person = {\"name\": \"Alice\", \"age\": 30}\n",
    "  person[\"age\"] = 31  # Changes Alice's age to 31\n",
    "  ```"
   ]
  },
  {
   "cell_type": "markdown",
   "metadata": {},
   "source": [
    "#### c. Common Dictionary Operations (10 minutes)\n",
    "\n",
    "- Accessing, checking membership, iteration, and more.\n",
    "- Examples:\n",
    "\n",
    "  ```python\n",
    "  person = {\"name\": \"Alice\", \"age\": 30}\n",
    "  age = person[\"age\"]  # Accessing the age\n",
    "  is_name_present = \"name\" in person  # Result: True\n",
    "  ```"
   ]
  },
  {
   "cell_type": "markdown",
   "metadata": {},
   "source": [
    "#### d. Dictionary Methods (15 minutes)\n",
    "\n",
    "Dictionary Methods:\n",
    "\n",
    "- `dict.keys()`: Return a list of all keys.\n",
    "- `dict.values()`: Return a list of all values.\n",
    "- `dict.items()`: Return a list of key-value pairs.\n",
    "- `dict.get(key, default)`: Get the value associated with a key, or a default value if the key is not present.\n",
    "- `dict.pop(key, default)`: Remove the item with a specific key and return its value, or a default value if the key is not present.\n",
    "- `dict.popitem()`: Remove and return an arbitrary key-value pair.\n",
    "- `dict.update(other_dict)`: Update the dictionary with key-value pairs from another dictionary.\n",
    "- `dict.clear()`: Remove all items from the dictionary."
   ]
  },
  {
   "cell_type": "markdown",
   "metadata": {},
   "source": [
    "Code Examples:\n",
    "\n",
    "```python\n",
    "person = {\"name\": \"Alice\", \"age\": 30}\n",
    "\n",
    "# Accessing keys and values\n",
    "keys = person.keys()\n",
    "values = person.values()\n",
    "\n",
    "# Getting a value with a default\n",
    "city = person.get(\"city\", \"Unknown\")\n",
    "\n",
    "# Removing an item\n",
    "removed_age = person.pop(\"age\")\n",
    "\n",
    "# Updating the dictionary with another dictionary\n",
    "additional_info = {\"city\": \"New York\", \"gender\": \"Female\"}\n",
    "person.update(additional_info)\n",
    "\n",
    "# Clearing the dictionary\n",
    "person.clear()\n",
    "```"
   ]
  },
  {
   "cell_type": "markdown",
   "metadata": {},
   "source": [
    "### 2. Sets (45 minutes)"
   ]
  },
  {
   "cell_type": "markdown",
   "metadata": {},
   "source": [
    "#### a. Creating Sets (5 minutes)\n",
    "\n",
    "- Sets are unordered collections of unique elements.\n",
    "- Created using the `set()` constructor.\n",
    "- Example:\n",
    "\n",
    "  ```python\n",
    "  fruits = {\"apple\", \"banana\", \"cherry\"}\n",
    "  ```"
   ]
  },
  {
   "cell_type": "markdown",
   "metadata": {},
   "source": [
    "#### b. Common Set Operations (10 minutes)\n",
    "\n",
    "- Checking membership, adding and removing elements, and more.\n",
    "- Examples:\n",
    "\n",
    "  ```python\n",
    "  fruits = {\"apple\", \"banana\", \"cherry\"}\n",
    "  is_apple_present = \"apple\" in fruits  # Result: True\n",
    "  fruits.add(\"orange\")  # Adds \"orange\" to the set\n",
    "  fruits.remove(\"banana\")  # Removes \"banana\" from the set\n",
    "  ```"
   ]
  },
  {
   "cell_type": "markdown",
   "metadata": {},
   "source": [
    "#### c. Set Methods (15 minutes)\n",
    "\n",
    "Set Methods:\n",
    "\n",
    "- `set.add(element)`: Add an element to the set.\n",
    "- `set.remove(element)`: Remove an element from the set; raises an error if the element is not present.\n",
    "- `set.discard(element)`: Remove an element from the set if it is present.\n",
    "- `set.pop()`: Remove and return an arbitrary element from the set; raises an error if the set is empty.\n",
    "- `set.clear()`: Remove all elements from the set.\n",
    "- `set.union(other_set)`: Return a new set containing all elements from both sets.\n",
    "- `set.intersection(other_set)`: Return a new set containing elements that are present in both sets.\n",
    "- `set.difference(other_set)`: Return a new set containing elements that are in the set but not in the other set.\n",
    "- `set.symmetric_difference(other_set)`: Return a new set containing elements that are in either set but not in both sets."
   ]
  },
  {
   "cell_type": "markdown",
   "metadata": {},
   "source": [
    "Code Examples:\n",
    "\n",
    "```python\n",
    "fruits = {\"apple\", \"banana\", \"cherry\"}\n",
    "more_fruits = {\"orange\", \"mango\"}\n",
    "\n",
    "# Combining two sets\n",
    "all_fruits = fruits.union(more_fruits)\n",
    "\n",
    "# Finding common elements\n",
    "common_fruits = fruits.intersection(more_fruits)\n",
    "```"
   ]
  },
  {
   "cell_type": "markdown",
   "metadata": {},
   "source": [
    "### 3. Conclusion (5 minutes)\n",
    "\n",
    "In this lecture, you've explored the power of dictionaries and sets in Python, along with their built-in methods. Dictionaries provide a flexible way to manage data using key-value pairs, while sets offer efficient storage for unique elements. Understanding when and how to use these data structures, as well as their methods, is essential for effective Python programming.\n",
    "\n",
    "Continue to practice and apply these concepts in your Python projects to become proficient in working with dictionaries and sets.\n",
    "\n",
    "This lecture comprehensively covers the built-in methods of dictionaries and sets in Python, providing explanations and code examples for each method."
   ]
  },
  {
   "cell_type": "markdown",
   "metadata": {},
   "source": [
    "### 4. Assignments\n",
    "\n",
    "- [Number of Characters](https://replit.com/@cpadmin/Number-of-Characters-Python#main.py)\n",
    "- [Car Trip](https://replit.com/@cpadmin/Car-Trip-Python#main.py)\n",
    "- [How much will you spend](https://replit.com/@cpadmin/How-much-will-you-spend#main.py)\n",
    "- [Employee Data](https://replit.com/@cpadmin/Employee-Data-Python#main.py)"
   ]
  },
  {
   "cell_type": "markdown",
   "metadata": {},
   "source": []
  },
  {
   "cell_type": "markdown",
   "metadata": {},
   "source": []
  },
  {
   "cell_type": "markdown",
   "metadata": {},
   "source": []
  },
  {
   "cell_type": "markdown",
   "metadata": {},
   "source": []
  },
  {
   "cell_type": "markdown",
   "metadata": {},
   "source": []
  },
  {
   "cell_type": "markdown",
   "metadata": {},
   "source": []
  },
  {
   "cell_type": "markdown",
   "metadata": {},
   "source": []
  },
  {
   "cell_type": "markdown",
   "metadata": {},
   "source": []
  },
  {
   "cell_type": "markdown",
   "metadata": {},
   "source": []
  }
 ],
 "metadata": {
  "language_info": {
   "name": "python"
  }
 },
 "nbformat": 4,
 "nbformat_minor": 2
}
