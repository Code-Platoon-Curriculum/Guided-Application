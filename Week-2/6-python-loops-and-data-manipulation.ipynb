{
 "cells": [
  {
   "cell_type": "markdown",
   "metadata": {},
   "source": [
    "# NEEDS MORE ADDED"
   ]
  },
  {
   "cell_type": "markdown",
   "metadata": {},
   "source": [
    "# Python Loops and Data Manipulation\n",
    "\n",
    "## Introduction\n",
    "\n",
    "Welcome to Day 3 of the Python Quick Pass! Today, we'll explore loops, a fundamental concept in programming, and dive into the world of functions. Loops allow us to perform repetitive tasks, and functions help us structure our code and make it more organized and reusable. Let's get started!"
   ]
  },
  {
   "cell_type": "markdown",
   "metadata": {},
   "source": [
    "## Table of Contents\n",
    "\n",
    "- [Python Loops and Functions](#python-loops-and-functions)\n",
    "  - [Introduction](#introduction)\n",
    "  - [Table of Contents](#table-of-contents)\n",
    "    - [1. Loops](#1-loops)\n",
    "      - [a. for i in x (for element in iterable)](#a-for-i-in-x-for-element-in-iterable)\n",
    "      - [b. for i in range (for i in range(start, stop, step))](#b-for-i-in-range-for-i-in-rangestart-stop-step)\n",
    "      - [c. for idx, item in enumerate(iterable)](#c-for-idx-item-in-enumerateiterable)\n",
    "      - [d. for key, value in dict.items()](#d-for-key-value-in-dictitems)\n",
    "      - [e. When to Choose](#e-when-to-choose)\n",
    "      - [f. while Loop](#f-while-loop)\n",
    "    - [2. Loops with Data Structures](#2-loops-with-data-structures)\n",
    "      - [a. Strings](#a-strings)\n",
    "      - [b. Lists](#b-lists)\n",
    "      - [c. Tuples](#c-tuples)\n",
    "      - [d. Dictionaries](#d-dictionaries)\n",
    "    - [3. Functions](#3-functions)\n",
    "      - [Basic Function](#basic-function)\n",
    "      - [Functions with Multiple Parameters](#functions-with-multiple-parameters)\n",
    "      - [Nested Functions](#nested-functions)\n",
    "      - [Variable Scope within Functions](#variable-scope-within-functions)\n",
    "      - [The `return` Statement](#the-return-statement)\n",
    "      - [When to Use `print` Statements](#when-to-use-print-statements)\n",
    "    - [4. Conclusion](#4-conclusion)"
   ]
  },
  {
   "cell_type": "markdown",
   "metadata": {},
   "source": [
    "### 1. Loops\n",
    "\n",
    "Loops are used to execute a block of code repeatedly. Python provides several types of loops. Let's explore them.\n",
    "\n",
    "Here are examples of different types of `for` loops in Python along with explanations for their use cases:\n",
    "\n",
    "#### a. for i in x (for element in iterable)\n",
    "\n",
    "```python\n",
    "urls = [\"www.reddit.com\", \"www.nike.com\", \"www.codeplatoon.org\", \"www.amazon.com]\n",
    "for url in urls:\n",
    "    print(url)\n",
    "```\n",
    "\n",
    "**Use Case:** This loop iterates through the elements of a list or any iterable. It's suitable when you want to perform the same operation for each item in the iterable. In this case, it's used to print each website URL."
   ]
  },
  {
   "cell_type": "markdown",
   "metadata": {},
   "source": [
    "#### b. for i in range (for i in range(start, stop, step))\n",
    "\n",
    "```python\n",
    "for i in range(1, 6, 2):\n",
    "    print(i)\n",
    "```\n",
    "\n",
    "**Use Case:** The `for i in range` loop is used when you need to iterate a specific number of times, often with a loop counter (`i`) that increments by a constant value (`step`). It's useful for tasks where you need to control the number of iterations and when you don't necessarily need to access elements in a collection."
   ]
  },
  {
   "cell_type": "markdown",
   "metadata": {},
   "source": [
    "#### c. for idx, item in enumerate(iterable)\n",
    "\n",
    "```python\n",
    "fruits = [\"Bananas\", \"Apples\", \"Cherries\"]\n",
    "for index, fruit in enumerate(fruits):\n",
    "    print(f\"Index {index}: {fruit}\")\n",
    "```\n",
    "\n",
    "**Use Case:** The `for idx, item in enumerate` loop allows you to access both the elements and their indices within an iterable. This is helpful when you need to keep track of the position of each element in the collection."
   ]
  },
  {
   "cell_type": "markdown",
   "metadata": {},
   "source": [
    "#### d. for key, value in dict.items()\n",
    "\n",
    "```python\n",
    "phones = {\"Francisco\": \"555-555-5555\", \"Alex\": \"222-222-2222\", \"Allison\": \"111-111-1111\"}\n",
    "for name, number in phones.items():\n",
    "    print(f\"{name}'s phone number is {number}\")\n",
    "```\n",
    "\n",
    "**Use Case:** The `for key, value in dict.items()` loop is used to iterate through the key-value pairs in a dictionary. It's beneficial when you need to work with both keys and values from a dictionary simultaneously."
   ]
  },
  {
   "cell_type": "markdown",
   "metadata": {},
   "source": [
    "#### e. When to Choose\n",
    "\n",
    "- Use `for i in x` when you want to iterate through the elements of a collection.\n",
    "- Use `for i in range` when you need a loop with a specific number of iterations.\n",
    "- Use `for idx, item in enumerate` when you need to access both elements and their indices within an iterable.\n",
    "- Use `for key, value in dict.items()` when working with key-value pairs in a dictionary.\n",
    "\n",
    "Choose the appropriate `for` loop based on your specific task and what you need to achieve in your code. Each type of loop serves a different purpose and offers advantages depending on the situation."
   ]
  },
  {
   "cell_type": "markdown",
   "metadata": {},
   "source": [
    "#### f. while Loop\n",
    "\n",
    "The `while` loop repeatedly executes a block of code as long as a condition is `True`.\n",
    "\n",
    "_Be careful with while loops. You can easily start an infinite loop with a typo_\n",
    "\n",
    "Syntax:\n",
    "\n",
    "```python\n",
    "while condition:\n",
    "    # Code to execute while the condition is True\n",
    "```\n",
    "\n",
    "Example:\n",
    "\n",
    "```python\n",
    "count = 0\n",
    "while count < 5:\n",
    "    print(count)\n",
    "    count += 1\n",
    "```"
   ]
  },
  {
   "cell_type": "markdown",
   "metadata": {},
   "source": [
    "### 2. Loops with Data Structures\n",
    "\n",
    "Let's explore how loops can be used with various data structures."
   ]
  },
  {
   "cell_type": "markdown",
   "metadata": {},
   "source": [
    "#### a. Strings\n",
    "\n",
    "Strings are an interable data structure. You can loop through characters in a string using a `for-in` loop.\n",
    "\n",
    "Example:\n",
    "\n",
    "```python\n",
    "text = \"Hello, World!\"\n",
    "for char in text:\n",
    "    print(char)\n",
    "```"
   ]
  },
  {
   "cell_type": "markdown",
   "metadata": {},
   "source": [
    "#### b. Lists\n",
    "\n",
    "Loops are often used to iterate through the elements of a list.\n",
    "\n",
    "Example:\n",
    "\n",
    "```python\n",
    "auto_brands = [\"Chevrolet\", \"Tesla\", \"Jeep\"]\n",
    "for brand in auto_brands\n",
    "    print(brand)\n",
    "```"
   ]
  },
  {
   "cell_type": "markdown",
   "metadata": {},
   "source": [
    "#### c. Tuples\n",
    "\n",
    "Similar to lists, you can use loops to iterate through elements in a tuple.\n",
    "\n",
    "Example:\n",
    "\n",
    "```python\n",
    "coordinates = (3, 4)\n",
    "for coordinate in coordinates:\n",
    "    print(coordinate)\n",
    "```"
   ]
  },
  {
   "cell_type": "markdown",
   "metadata": {},
   "source": [
    "#### d. Dictionaries\n",
    "\n",
    "Dictionaries are iterable, and you can loop through keys, values, or key-value pairs.\n",
    "\n",
    "Example:\n",
    "\n",
    "```python\n",
    "person = {\"name\": \"Alice\", \"age\": 25}\n",
    "for key in person:\n",
    "    print(key, person[key])\n",
    "```"
   ]
  },
  {
   "cell_type": "markdown",
   "metadata": {},
   "source": []
  },
  {
   "cell_type": "markdown",
   "metadata": {},
   "source": []
  },
  {
   "cell_type": "markdown",
   "metadata": {},
   "source": []
  },
  {
   "cell_type": "markdown",
   "metadata": {},
   "source": []
  },
  {
   "cell_type": "markdown",
   "metadata": {},
   "source": []
  },
  {
   "cell_type": "markdown",
   "metadata": {},
   "source": []
  },
  {
   "cell_type": "markdown",
   "metadata": {},
   "source": []
  },
  {
   "cell_type": "markdown",
   "metadata": {},
   "source": []
  },
  {
   "cell_type": "markdown",
   "metadata": {},
   "source": [
    "### 4. Conclusion\n",
    "\n",
    "Today, we've delved into loops, an essential tool for performing repetitive tasks, and functions, which help us organize and reuse code. You've learned about different types of loops and how to use them with various data structures. Additionally, you've seen how to create and call functions in Python.\n",
    "\n",
    "Keep practicing loops and functions as they are fundamental building blocks for creating more complex Python programs. We look forward to seeing you for Day 4, where we'll explore more advanced Python concepts."
   ]
  },
  {
   "cell_type": "markdown",
   "metadata": {},
   "source": [
    "### 5. Assignments\n",
    "\n",
    "- [Loops and Loops](https://replit.com/@cpadmin/loopsandloops#main.py)\n",
    "- [Space X countdown](https://replit.com/@cpadmin/SpaceX-Countdown-Python#main.py)\n",
    "- [FizzBuzz](https://replit.com/@cpadmin/FizzBuzz-Python#main.py)\n",
    "- [Camel Case](https://replit.com/@cpadmin/FizzBuzz-Python#main.py)"
   ]
  },
  {
   "cell_type": "markdown",
   "metadata": {},
   "source": []
  },
  {
   "cell_type": "markdown",
   "metadata": {},
   "source": []
  },
  {
   "cell_type": "markdown",
   "metadata": {},
   "source": []
  },
  {
   "cell_type": "markdown",
   "metadata": {},
   "source": []
  },
  {
   "cell_type": "markdown",
   "metadata": {},
   "source": []
  },
  {
   "cell_type": "markdown",
   "metadata": {},
   "source": []
  },
  {
   "cell_type": "markdown",
   "metadata": {},
   "source": []
  },
  {
   "cell_type": "markdown",
   "metadata": {},
   "source": []
  }
 ],
 "metadata": {
  "language_info": {
   "name": "python"
  }
 },
 "nbformat": 4,
 "nbformat_minor": 2
}
