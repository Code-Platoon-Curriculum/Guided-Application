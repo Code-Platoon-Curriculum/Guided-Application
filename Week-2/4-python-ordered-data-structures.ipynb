{
 "cells": [
  {
   "cell_type": "markdown",
   "metadata": {},
   "source": [
    "# Lists and Tuples in Python: Capabilities and Limitations\n",
    "\n",
    "## Introduction (5 minutes)\n",
    "\n",
    "Welcome to today's lecture on lists and tuples in Python. Lists and tuples are fundamental data structures used for storing collections of items. In this lesson, we'll explore the capabilities and limitations of lists and tuples, understand the concepts of mutable and immutable data structures, and delve into the usage of various built-in methods for each data structure."
   ]
  },
  {
   "cell_type": "markdown",
   "metadata": {},
   "source": [
    "## Table of Contents\n",
    "\n",
    "1. [Lists](#1-lists-45-minutes) (45 minutes)\n",
    "   - [Creating Lists](#a-creating-lists-5-minutes)\n",
    "   - [List Mutability](#b-list-mutability-5-minutes)\n",
    "   - [Common List Operations](#c-common-list-operations-10-minutes)\n",
    "   - [List Methods](#d-list-methods-15-minutes)\n",
    "   - [List Slicing](#e-list-slicing-10-minutes)\n",
    "   - [List Comprehensions](#f-list-comprehensions-5-minutes)\n",
    "2. [Tuples](#2-tuples-45-minutes) (45 minutes)\n",
    "   - [Creating Tuples](#a-creating-tuples-5-minutes)\n",
    "   - [Tuple Immutability](#b-tuple-immutability-5-minutes)\n",
    "   - [Common Tuple Operations](#c-common-tuple-operations-10-minutes)\n",
    "   - [Tuple Methods](#d-tuple-methods-15-minutes)\n",
    "   - [Tuple Unpacking](#e-tuple-unpacking-10-minutes)\n",
    "3. [Conclusion](#3-conclusion-5-minutes)"
   ]
  },
  {
   "cell_type": "markdown",
   "metadata": {},
   "source": [
    "### 1. Lists (45 minutes)\n",
    "\n",
    "#### a. Creating Lists (5 minutes)\n",
    "\n",
    "- Lists are ordered collections of items.\n",
    "- Created using square brackets.\n",
    "- Example:\n",
    "\n",
    "  ```python\n",
    "  numbers = [1, 2, 3, 4, 5]\n",
    "  ```"
   ]
  },
  {
   "cell_type": "markdown",
   "metadata": {},
   "source": [
    "#### b. List Mutability (5 minutes)\n",
    "\n",
    "- Lists are mutable, meaning you can change their contents.\n",
    "- You can add, remove, or modify elements.\n",
    "- Example:\n",
    "\n",
    "  ```python\n",
    "  numbers = [1, 2, 3, 4, 5]\n",
    "  numbers[0] = 10  # Changes the first element to 10\n",
    "  ```"
   ]
  },
  {
   "cell_type": "markdown",
   "metadata": {},
   "source": [
    "#### c. Common List Operations (10 minutes)\n",
    "\n",
    "- Iteration, length, checking membership, and more.\n",
    "- Examples:\n",
    "\n",
    "  ```python\n",
    "  numbers = [1, 2, 3, 4, 5]\n",
    "  length = len(numbers)  # Result: 5\n",
    "  is_two_present = 2 in numbers  # Result: True\n",
    "  ```"
   ]
  },
  {
   "cell_type": "markdown",
   "metadata": {},
   "source": [
    "#### d. List Methods (15 minutes)\n",
    "\n",
    "- Extensive list methods for adding, removing, sorting, etc.\n",
    "- Examples:\n",
    "\n",
    "  ```python\n",
    "  fruits = [\"apple\", \"banana\", \"cherry\"]\n",
    "  fruits.append(\"orange\")  # Appends \"orange\" to the list\n",
    "  fruits.remove(\"banana\")  # Removes \"banana\" from the list\n",
    "  fruits.sort()  # Sorts the list alphabetically\n"
   ]
  },
  {
   "cell_type": "markdown",
   "metadata": {},
   "source": [
    "List Methods:\n",
    "\n",
    "- `list.append(x)`: Add an item to the end of the list.\n",
    "- `list.extend(iterable)`: Extend the list by appending elements from the iterable.\n",
    "- `list.insert(i, x)`: Insert an item at a given position.\n",
    "- `list.remove(x)`: Remove the first item from the list with a specific value.\n",
    "- `list.pop([i])`: Remove the item at the given position in the list.\n",
    "- `list.clear()`: Remove all items from the list.\n",
    "- `list.index(x)`: Return the index of the first item with a specific value.\n",
    "- `list.count(x)`: Return the number of times a specific value appears in the list.\n",
    "- `list.sort()`: Sort the items of the list in place.\n",
    "- `list.reverse()`: Reverse the elements of the list in place.\n",
    "- `list.copy()`: Return a shallow copy of the list."
   ]
  },
  {
   "cell_type": "markdown",
   "metadata": {},
   "source": [
    "#### e. List Slicing (10 minutes)\n",
    "\n",
    "- Allows you to create sublists from a list.\n",
    "- Syntax: `list[start:stop:step]`.\n",
    "- Examples:\n",
    "\n",
    "  ```python\n",
    "  numbers = [0, 1, 2, 3, 4, 5]\n",
    "  sub_list = numbers[1:4]  # Results in [1, 2, 3]\n",
    "  reversed_list = numbers[::-1]  # Reverses the list\n",
    "  ```"
   ]
  },
  {
   "cell_type": "markdown",
   "metadata": {},
   "source": [
    "#### f. List Comprehensions (5 minutes)\n",
    "\n",
    "- Concise way to create lists based on existing lists.\n",
    "- Examples:\n",
    "\n",
    "  ```python\n",
    "  numbers = [1, 2, 3, 4, 5]\n",
    "  squared_numbers = [x ** 2 for x in numbers]  # Squares each element\n",
    "  ```"
   ]
  },
  {
   "cell_type": "markdown",
   "metadata": {},
   "source": [
    "### 2. Tuples (45 minutes)"
   ]
  },
  {
   "cell_type": "markdown",
   "metadata": {},
   "source": [
    "#### a. Creating Tuples (5 minutes)\n",
    "\n",
    "- Tuples are ordered collections, similar to lists.\n",
    "- Created using parentheses.\n",
    "- Example:\n",
    "\n",
    "  ```python\n",
    "  coordinates = (3, 4)\n",
    "  ```"
   ]
  },
  {
   "cell_type": "markdown",
   "metadata": {},
   "source": [
    "#### b. Tuple Immutability (5 minutes)\n",
    "\n",
    "- Tuples are immutable; their contents cannot be changed.\n",
    "- Once created, elements cannot be added, removed, or modified.\n",
    "- Example:\n",
    "\n",
    "  ```python\n",
    "  coordinates = (3, 4)\n",
    "  # The following line would raise an error:\n",
    "  # coordinates[0] = 5\n",
    "  ```"
   ]
  },
  {
   "cell_type": "markdown",
   "metadata": {},
   "source": [
    "#### c. Common Tuple Operations (10 minutes)\n",
    "\n",
    "- Similar operations as lists (iteration, length, checking membership).\n",
    "- Examples:\n",
    "\n",
    "  ```python\n",
    "  coordinates = (3, 4)\n",
    "  length = len(coordinates)  # Result: 2\n",
    "  is_five_present = 5 in coordinates  # Result: False\n",
    "  ```"
   ]
  },
  {
   "cell_type": "markdown",
   "metadata": {},
   "source": [
    "Tuple Methods:\n",
    "\n",
    "- `tuple.count(value)`: Return the number of times a value appears in the tuple.\n",
    "- `tuple.index(value, start, stop)`: Return the index of the first occurrence of a value."
   ]
  },
  {
   "cell_type": "markdown",
   "metadata": {},
   "source": [
    "#### e. Tuple Unpacking (10 minutes)\n",
    "\n",
    "- Assigning tuple elements to variables.\n",
    "- Example:\n",
    "\n",
    "  ```python\n",
    "  coordinates = (3, 4)\n",
    "  x, y = coordinates\n",
    "  ```"
   ]
  },
  {
   "cell_type": "markdown",
   "metadata": {},
   "source": [
    "### 3. Conclusion (5 minutes)\n",
    "\n",
    "In this lecture, you've explored the capabilities and limitations of Python lists and tuples. Lists are mutable and offer extensive methods for manipulation, making them suitable for dynamic collections. Tuples, on the other hand, are immutable and provide security for data that should not change. Understanding when and how to use each structure is crucial in Python programming.\n",
    "\n",
    "Remember to practice and apply these concepts in your Python projects to become proficient in working with lists and tuples."
   ]
  },
  {
   "cell_type": "markdown",
   "metadata": {},
   "source": [
    "### 4. Assignments\n",
    "\n",
    "- [Doubles](https://replit.com/@cpadmin/Doubles#main.py)\n",
    "- [Traveler](https://replit.com/@cpadmin/Traveler#main.py)\n",
    "- [Museum](https://replit.com/@cpadmin/Museum#main.py)\n"
   ]
  },
  {
   "cell_type": "markdown",
   "metadata": {},
   "source": []
  },
  {
   "cell_type": "markdown",
   "metadata": {},
   "source": []
  },
  {
   "cell_type": "markdown",
   "metadata": {},
   "source": []
  },
  {
   "cell_type": "markdown",
   "metadata": {},
   "source": []
  },
  {
   "cell_type": "markdown",
   "metadata": {},
   "source": []
  },
  {
   "cell_type": "markdown",
   "metadata": {},
   "source": []
  },
  {
   "cell_type": "markdown",
   "metadata": {},
   "source": []
  },
  {
   "cell_type": "markdown",
   "metadata": {},
   "source": []
  },
  {
   "cell_type": "markdown",
   "metadata": {},
   "source": []
  },
  {
   "cell_type": "markdown",
   "metadata": {},
   "source": []
  },
  {
   "cell_type": "markdown",
   "metadata": {},
   "source": []
  },
  {
   "cell_type": "markdown",
   "metadata": {},
   "source": []
  },
  {
   "cell_type": "markdown",
   "metadata": {},
   "source": []
  },
  {
   "cell_type": "markdown",
   "metadata": {},
   "source": []
  },
  {
   "cell_type": "markdown",
   "metadata": {},
   "source": []
  },
  {
   "cell_type": "markdown",
   "metadata": {},
   "source": []
  },
  {
   "cell_type": "markdown",
   "metadata": {},
   "source": []
  },
  {
   "cell_type": "markdown",
   "metadata": {},
   "source": []
  },
  {
   "cell_type": "markdown",
   "metadata": {},
   "source": []
  },
  {
   "cell_type": "markdown",
   "metadata": {},
   "source": []
  },
  {
   "cell_type": "markdown",
   "metadata": {},
   "source": []
  },
  {
   "cell_type": "markdown",
   "metadata": {},
   "source": []
  },
  {
   "cell_type": "markdown",
   "metadata": {},
   "source": []
  }
 ],
 "metadata": {
  "language_info": {
   "name": "python"
  }
 },
 "nbformat": 4,
 "nbformat_minor": 2
}
