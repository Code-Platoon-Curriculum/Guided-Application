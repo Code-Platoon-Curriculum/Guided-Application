{
 "cells": [
  {
   "cell_type": "markdown",
   "metadata": {},
   "source": [
    "# Python Loops and Data <a id=\"title\"></a>\n",
    "\n",
    "## Introduction\n",
    "\n",
    "Welcome to Day 5 of Python Basics! Today, we'll explore loops, a fundamental concept in programming, and dive into a bit of data manipulation (moving data around, presenting data in different ways, and changing data types from one form to another). Loops allow us to perform repetitive tasks, and allow us to methodically work with data without repeating code. Let's get started!"
   ]
  },
  {
   "cell_type": "markdown",
   "metadata": {},
   "source": [
    "## Table of Contents\n",
    "\n",
    "- [Python Loops and Data manipulation](#title)\n",
    "  - [Introduction](#introduction)\n",
    "  - [Table of Contents](#table-of-contents)\n",
    "    - [Loops](#loops)\n",
    "      - [for i in x (for element in iterable)](#for-i-in-x)\n",
    "      - [for i in range (for i in range(start, stop, step))](#b-for-i-in-range)\n",
    "      - [for idx, item in enumerate(iterable)](#enumerate)\n",
    "      - [for key, value in dict.items()](#k-v-loop)\n",
    "      - [When to Choose](#when-to-choose)\n",
    "      - [while Loop](#f-while-loop)\n",
    "      - [Break and Continue](#break-and-continue)\n",
    "    - [Loops with Data Structures](#2-loops-with-data-structures)\n",
    "      - [Strings](#strings)\n",
    "      - [Lists](#lists)\n",
    "      - [Tuples](#tuples)\n",
    "      - [Dictionaries](#dictionaries)\n",
    "    - [Nesting Loops](#nesting-loops)\n",
    "    - [Data Manipulation](#data-manipulation)\n",
    "      - [Data Presentation](#data-presentation)\n",
    "      - [Data Manipulation Exercises](#data-manipulation-exercises)\n",
    "    - [Conclusion](#conclusion)\n",
    "    - [Assignments](#assignments)"
   ]
  },
  {
   "cell_type": "markdown",
   "metadata": {},
   "source": [
    "### Loops\n",
    "\n",
    "* [Python: The for statement](https://docs.python.org/3/tutorial/controlflow.html#for-statements)\n",
    "\n",
    "The power of computation is the ability to do a lot of actions very quickly. Imagine you have thousands of data points to analyze. First, you write some `if` statements to intelligently parse, cleanse, and account for the data, perhaps looking at some individual data points as examples to guide you. Now you have a script that works. But how do you actually execute your code on each data point in the set?\n",
    "\n",
    "Python makes iterating, or looping, through a collection of data points easy and intuitive. Python has a statement called a `for` loop that steps through a data collection, and allows you to execute code on its individual elements. A `for` loop allows us to, for example, run a set of `if` blocks on each of the data points in a large data set.\n",
    "\n",
    "A basic `for` loop will have this structure:\n",
    "\n",
    "```python\n",
    "for item in collection:  # \"item\" is a temporary variable that is assigned on each iteration of the loop\n",
    "    do_something()\n",
    "```\n"
   ]
  },
  {
   "cell_type": "markdown",
   "metadata": {},
   "source": [
    "Loops are used to execute a block of code repeatedly. That is what the `do_something()` represents in the example above. \n",
    "\n",
    "Here are examples of different types of `for` loops in Python along with explanations for their use cases:"
   ]
  },
  {
   "cell_type": "markdown",
   "metadata": {},
   "source": [
    "#### `for i in x` (for element in iterable) <a id=\"for-i-in-x\"></a>"
   ]
  },
  {
   "cell_type": "code",
   "execution_count": null,
   "metadata": {},
   "outputs": [],
   "source": [
    "urls = [\"www.nike.com\", \"www.reddit.com\", \"www.cnn.com\", \"www.dell.com\", \"www.apple.com\", \"www.facebook.com\"]\n",
    "\n",
    "for url in urls:\n",
    "    if \"apple\" in url or \"dell\" in url:\n",
    "        print(f\"Computer site: {url}\")\n",
    "    elif \"reddit\" in url or \"facebook\" in url:\n",
    "        print(f\"Social Media site: {url}\")\n",
    "    else:\n",
    "        print(f\"Other site: {url}\")\n",
    "\n"
   ]
  },
  {
   "cell_type": "markdown",
   "metadata": {},
   "source": [
    "**Use Case:** This loop iterates through the elements of a list or any iterable. It's suitable when you want to perform the same operation for each item in the iterable. In this case, it's using conditional logic to print each website URL and category of site."
   ]
  },
  {
   "cell_type": "markdown",
   "metadata": {},
   "source": [
    "#### `for i in range(start, stop, step)` <a id=\"for-i-in-range\"></a>\n",
    "\n",
    "This type of loop is useful when you want to contol the number of iterations (and even _how_ its iterating).  The `range()` method is quite customizable to loop in various ways.\n",
    "\n",
    "| Argument               | Description                               |\n",
    "|:----------------------:|-------------------------------------------|\n",
    "|start (optional)| integer starting from which the sequence of integers is to be returned.  Defaults to `0`|\n",
    "|stop| integer before which the sequence of integers is to be returned. The range of integers end at stop – 1.|\n",
    "|step (optional)| integer value which determines the increment between each integer in the .  Defaults to `1`|\n"
   ]
  },
  {
   "cell_type": "code",
   "execution_count": null,
   "metadata": {},
   "outputs": [],
   "source": [
    "for i in range(20):\n",
    "    print(i)"
   ]
  },
  {
   "cell_type": "markdown",
   "metadata": {},
   "source": [
    "**Use Case:** The `for i in range` loop is used when you need to iterate a specific number of times, often with a loop counter (`i`) that increments by a constant value (`step`). It's useful for tasks where you need to control the number of iterations and when you don't necessarily need to access elements in a collection."
   ]
  },
  {
   "cell_type": "markdown",
   "metadata": {},
   "source": [
    "#### `for idx, item in enumerate(iterable)` <a id=\"enumerate\"></a>\n"
   ]
  },
  {
   "cell_type": "code",
   "execution_count": null,
   "metadata": {},
   "outputs": [],
   "source": [
    "fruits = [\"Bananas\", \"Apples\", \"Cherries\"]\n",
    "for index, fruit in enumerate(fruits):\n",
    "    print(f\"Index {index}: {fruit}\")"
   ]
  },
  {
   "cell_type": "markdown",
   "metadata": {},
   "source": [
    "**Use Case:** The `for idx, item in enumerate` loop allows you to access both the elements and their indices within an iterable. This is helpful when you need to keep track of the position of each element in the collection."
   ]
  },
  {
   "cell_type": "markdown",
   "metadata": {},
   "source": [
    "#### for key, value in dict.items() <a id=\"k-v-loop\"></a>"
   ]
  },
  {
   "cell_type": "code",
   "execution_count": null,
   "metadata": {},
   "outputs": [],
   "source": [
    "phones = {\"Francisco\": \"555-555-5555\", \"Alex\": \"222-222-2222\", \"Allison\": \"111-111-1111\"}\n",
    "for k, v in phones.items():\n",
    "    print(f\"{k}'s phone number is {v}\")"
   ]
  },
  {
   "cell_type": "markdown",
   "metadata": {},
   "source": [
    "**Use Case:** The `for key, value in dict.items()` loop is used to iterate through the key-value pairs in a dictionary. It's beneficial when you need to work with both keys and values from a dictionary simultaneously."
   ]
  },
  {
   "cell_type": "markdown",
   "metadata": {},
   "source": [
    "#### When to Choose\n",
    "\n",
    "| Syntax               | Use Case                              |\n",
    "|:----------------------:|-------------------------------------------|\n",
    "|`for i in x`| when you want to iterate through the elements of a collection|\n",
    "|`for i in range`| when you need a loop with a specific number of iterations|\n",
    "|`for idx, item in enumerate`| when you need to access both elements and their indices within an iterable|\n",
    "|`for key, value in dict.items()`| when working with key-value pairs in a dictionary|\n",
    "\n",
    "Choose the appropriate `for` loop based on your specific task and what you need to achieve in your code. Each type of loop serves a different purpose and offers advantages depending on the situation."
   ]
  },
  {
   "cell_type": "markdown",
   "metadata": {},
   "source": [
    "#### `While` Loop <a id=\"while-loop\"></a>\n",
    "\n",
    "The `while` loop repeatedly executes a block of code as long the condition being evaluated at each iteration is `True`.  Take a look at the example below.  When the file size is created, we don't know how big it will be but we want the loop to run until the progress is equal to the file_size. A while loop can satisfy this requirement by checking of the progress is less than the file size on each iteration.\n",
    "\n",
    "_Be careful with while loops. You can easily start an infinite loop with a typo_\n"
   ]
  },
  {
   "cell_type": "code",
   "execution_count": null,
   "metadata": {},
   "outputs": [],
   "source": [
    "import random\n",
    "\n",
    "file_size = random.randint(1000000, 20000000)\n",
    "progress = 0\n",
    "\n",
    "print(file_size )\n",
    "while progress < file_size:\n",
    "    progress += 1\n",
    "\n",
    "    if progress == round(file_size/2):\n",
    "        print('file is 50% full...')\n",
    "    \n",
    "    if progress == round(file_size * 0.75):\n",
    "        print('file is 75% full...')\n",
    "\n",
    "        \n",
    "print('done writing.')"
   ]
  },
  {
   "cell_type": "markdown",
   "metadata": {},
   "source": [
    "Concerning the risk for infinite loops, what would happen if we accidentally decremented `progress`?"
   ]
  },
  {
   "cell_type": "markdown",
   "metadata": {},
   "source": [
    "#### `Break` and `Continue` <a id=\"break-and-continue\"></a>\n",
    "\n",
    "* [TutorialsPoint: Python break, continue and pass Statements](https://www.tutorialspoint.com/python/python_loop_control.htm)\n",
    "\n",
    "The `break` statement terminates the first `for` or `while` loop it is nested under. Programmers sometimes put a `break` statement in `while` loops they are developing to make sure they don't run infinitely. But `break` statements are useful in other cases too, such as terminating a `for` loop if a certain condition is met."
   ]
  },
  {
   "cell_type": "code",
   "execution_count": null,
   "metadata": {},
   "outputs": [],
   "source": [
    "cookies = 9\n",
    "\n",
    "students = ['Aaron', \"Nick\", \"Rod\", \"Chad\", \"Francisco\", \"Adam\", \"Tish\", \"Roger\", \"Guillermo\", \"Kevin\", \"Greg\"]\n",
    "\n",
    "for student in students:\n",
    "    if cookies > 0:\n",
    "        print(f\"{student} gets a cookie.\")\n",
    "        cookies -= 1\n",
    "    else:\n",
    "        print(f\"Sorry {student}, we are out of cookies!  Better luck next time!\")\n",
    "        break"
   ]
  },
  {
   "cell_type": "markdown",
   "metadata": {},
   "source": [
    "The `continue` statement is primarily used to skip items in a collection when a certain condition is met."
   ]
  },
  {
   "cell_type": "code",
   "execution_count": null,
   "metadata": {},
   "outputs": [],
   "source": [
    "all_nums = []\n",
    "for i in range(1, 10001):\n",
    "    all_nums.append(str(i))\n",
    "\n",
    "\n",
    "processed_nums = []\n",
    "for num in all_nums:\n",
    "    if '9' in num or '0' in num:\n",
    "        continue\n",
    "    processed_nums.append(num)\n",
    "\n",
    "# See the length changes in output\n",
    "print(len(all_nums))\n",
    "print(len(processed_nums))\n",
    "\n",
    "print(all_nums[:10])\n",
    "print(processed_nums[:10])"
   ]
  },
  {
   "cell_type": "markdown",
   "metadata": {},
   "source": [
    "### Loops with Data Structures\n",
    "\n",
    "Let's explore how loops can be used with various data structures."
   ]
  },
  {
   "cell_type": "markdown",
   "metadata": {},
   "source": [
    "#### Strings\n",
    "\n",
    "Strings are an interable data structure. You can loop through characters in a string using a `for-in` loop."
   ]
  },
  {
   "cell_type": "code",
   "execution_count": null,
   "metadata": {},
   "outputs": [],
   "source": [
    "text = \"Hello, World!\"\n",
    "for char in text:\n",
    "    print(char)"
   ]
  },
  {
   "cell_type": "markdown",
   "metadata": {},
   "source": [
    "#### Lists\n",
    "\n",
    "Loops are often used to iterate through the elements of a list."
   ]
  },
  {
   "cell_type": "code",
   "execution_count": null,
   "metadata": {},
   "outputs": [],
   "source": [
    "auto_brands = [\"Chevrolet\", \"Tesla\", \"Jeep\", \"Rivian\", \"Ford\", \"Porsche\"]\n",
    "for i in range(len(auto_brands)):\n",
    "    if auto_brands[i] == \"Chevrolet\":\n",
    "        auto_brands.pop(i)\n",
    "        break\n",
    "auto_brands"
   ]
  },
  {
   "cell_type": "markdown",
   "metadata": {},
   "source": [
    "#### Tuples\n",
    "\n",
    "Similar to lists, you can use loops to iterate through elements in a tuple."
   ]
  },
  {
   "cell_type": "code",
   "execution_count": null,
   "metadata": {},
   "outputs": [],
   "source": [
    "coordinates = (3, 4)\n",
    "for coordinate in coordinates:\n",
    "    print(coordinate)"
   ]
  },
  {
   "cell_type": "markdown",
   "metadata": {},
   "source": [
    "#### Dictionaries\n",
    "\n",
    "Dictionaries are iterable, and you can loop through keys, values, or key-value pairs.  Using a traditional `for i in x` loop will result in a loop that only looks at the *keys* of the dictionary.  You can still access the value associated with the key inside the loop using the `dictionary[key]` syntax."
   ]
  },
  {
   "cell_type": "code",
   "execution_count": null,
   "metadata": {},
   "outputs": [],
   "source": [
    "person = {\"name\": \"Alice\", \"age\": 25, \"occupation\": \"Software Engineer\", \"salary\": 95000, \"division\": \"R&D\"}\n",
    "for attribute in person:\n",
    "    print(f\"This is the key: {attribute.upper()} - and this is the value: {str(person[attribute]).upper()}\")"
   ]
  },
  {
   "cell_type": "markdown",
   "metadata": {},
   "source": [
    "You can loop over the values of a dictionary by using the `.values()` method."
   ]
  },
  {
   "cell_type": "code",
   "execution_count": null,
   "metadata": {},
   "outputs": [],
   "source": [
    "for data in person.values():\n",
    "    print(data)"
   ]
  },
  {
   "cell_type": "markdown",
   "metadata": {},
   "source": [
    "When looping over a dicitonary, it can be easier just to keep track of each key/value pair by using the `.items()` method in your loop.  This will allow you to reference the value by the temporary variable instead of using `dictionary[key]`.\n",
    "\n",
    "*Note: it is common practice to see `for k, v in collection.items():` when looping over a dictionary.  You don't necessarily have to use `k, v` and can use more descriptive terms if you want.*"
   ]
  },
  {
   "cell_type": "code",
   "execution_count": null,
   "metadata": {},
   "outputs": [],
   "source": [
    "for k, v in person.items():\n",
    "    print(f\"This is the key: {k.upper()} - and this is the value: {str(v).upper()}\")"
   ]
  },
  {
   "cell_type": "markdown",
   "metadata": {},
   "source": [
    "### Nesting Loops\n",
    "\n",
    "Nesting loops is running a loop inside of another loop.  Typically, nested loops are used to iterate through nested data collections, such as lists inside of lists, or lists inside of dictionaries.  Below is what a nested loop would look like:"
   ]
  },
  {
   "cell_type": "code",
   "execution_count": null,
   "metadata": {},
   "outputs": [],
   "source": [
    "nested_list = [[1,2,3],[4,5,6]]\n",
    "\n",
    "for row in nested_list:\n",
    "    for item in row:\n",
    "        print(item)"
   ]
  },
  {
   "cell_type": "markdown",
   "metadata": {},
   "source": [
    "### Data Manipulation\n",
    "\n",
    "So far, you've learned about the basic foundational concepts of Python, to include the basic data types, data collections, functions, and loops.  Now we are going to start combining some of those tools to manipulate data and provide insights (and good practice!)"
   ]
  },
  {
   "cell_type": "markdown",
   "metadata": {},
   "source": [
    "#### Data Presentation\n",
    "\n",
    "Using some of the basic tools we learned about, we can use Python to take a data structure and present the data it contains in a visually appealling way.  We can, for example, use loops to creatively iterate over a data structure, perform an operation on the element, and add some way to logically divide the data so it prints out neatly.  Check out this example:"
   ]
  },
  {
   "cell_type": "code",
   "execution_count": null,
   "metadata": {},
   "outputs": [],
   "source": [
    "my_set = {(34.944556, -172.035656), (37.8948456, -45.9933284), (36.9569793, -77.9512123), (32.9189643, 123.9879538), (42.96127474, -23.993473123)}\n",
    "\n",
    "for coord_pair in my_set:\n",
    "    print('coordinate:', coord_pair)\n",
    "\n",
    "    for item in coord_pair:\n",
    "        item = round(item, 2)\n",
    "        print('   rounded degree: ', item)\n",
    "        \n",
    "    print('- ' * 15)"
   ]
  },
  {
   "cell_type": "markdown",
   "metadata": {},
   "source": [
    "#### Data Manipulation Exercises"
   ]
  },
  {
   "cell_type": "markdown",
   "metadata": {},
   "source": [
    "Exercise 1:  Given this list of coordinates (which may have formatting anomalies), format them with a decimal point.  In this listing, latitude coordinates (denoted with `N` or `S` at the end) have 2 digits with 4 decimal degrees, and longitude has 3 digits with 4 decimal degrees.  Coordinates in your result should look like this: `36.4256N` or `120.5726W`.  Save the new coordinates in a new list and print them out."
   ]
  },
  {
   "cell_type": "code",
   "execution_count": 15,
   "metadata": {},
   "outputs": [],
   "source": [
    "coordinates = ['001251S', '1458145W', '751609S', '0702701W', '169501N', '1618989W', '558547S', '0214097W', '835864N',\n",
    "               '1268796E', '832255N', '0327724E', '564026S', '0010394W', '095331N', '0331801E', '268950N', '1494330E',\n",
    "               '807760S', '0205861E  ', '738919N   ', '0664699W', '605174S  ', '0166332W', '219956S   ', '0925232E', '183798S',\n",
    "               '0912672W', '728902N', '1511569E', '882030N', '1771585E', '777760N', '0886417W', '872853S', '1013176E',\n",
    "               '381111N', '0790259E', '408154N', '1678905W', '184926S', '0466500E', '534746S', '1439038E', '722829S',\n",
    "               '  0956044E   ', '158121S', '1355671W', '726763S', '1233750W', '047979N', '0746807W', '692209N', '0244100E',\n",
    "               '396767S', '1130952W', '577572N', '1075059E', '083091S', '0502460W', '208663N', '0512649E', '446746N',\n",
    "               '0943990W', '748701S', '1670451E', '564214N', '0838180E', '891697N', '1355671W', '726763S', '0173152E',\n",
    "               '415852N', '1770667E', '712605S', '0808857E', '005686S', '0675283W', '023440S', '0565808W', '123331N',\n",
    "               '0169811E', '884606S', '1699401E', '728619S', '0153910E', '493564S', '1381804E', '040780S', '0381086W',\n",
    "               '   294066S', '  0768541W', '874393S', '1279228E', '640463S', '1423572W', '346219N', '1248809E', '316762S',\n",
    "               '1545964W', '343856S', '1177982W', '798425S  ', '0253498E', '460875N', '0486881W  ', '811978S', '0317535W',\n",
    "               '  445757N', '0163294E', '712272S', '0926236E', '556458N  ', '1134517W', '223318S', '0909808W', '725175N',\n",
    "               '1482888W', '810648S  ', '0983814W', '128615N', '0918245W', '648537N', '  1660775E  ', '099212S', '1613558W',\n",
    "               ' 169083N', '0069521E', '494381S', '0821162E', '323002S', '  0895635E  ', '405559N', '1364162E', '781623N   ',\n",
    "               '  1155485W', '294612S', '0846210E', '279074N', '0617201W', '767002S', '0568345E', '598954S', '1166391E',\n",
    "               '556746N', '1193564W', '865104N', '0741456E', '770912S', '0018400W', '643547N', '0000984E', '721042N',\n",
    "               '1140391W', '282575N', '1429943W', '009296S', '0122358W  ', '021803S', '1537587W', '817594S', '1304475E   ',\n",
    "               '462865N', '1066145W  ', '554805S', '1129959W', '217818S', '1137339E', '338721N', '1781291W', '081507N',\n",
    "               '1020942W', '578799S', '1755547E', '356625N', '1075063E', '330831N', '0408577W', '413240N', '0352458W',\n",
    "               '   421590S', '0611427W', '808923S  ', '1677702E', '437655S', '1610795W', '747199S', '0260411E', '426133N',\n",
    "               '1739195E', '181808N', '0479451E', '565707N', '0552191E', '199290S', '1706089W', '185739N', '1291445E',\n",
    "               '102829S', '  1049376E', '090498N', '0553653E', '491786N   ', '0123907E', '426234S', '0112585W', '891007N',\n",
    "               '1149042W', ' 410566N', '0231040E', '125391N', '   1158478E  ', '155634S', '0133022W', '466321S', '1571240E',\n",
    "               '444866S  ', '1669398E', '312817N', '1328573W', '679456S', '0223912E', '018167S', '0322769E', '359070S',\n",
    "               '0144414W', '  308863S   ', '0040646E', '320359S', '1581091E', '634580S', '1559339E', '610337N', '0081672E',\n",
    "               '233164S', '0401213E', '787008N', '1684622W', '160913S  ', '0519766W', '767041N', '0891031W', '412772N',\n",
    "               '1070008W  ', '454291S', '1535091E', '897581N', '1158477W', '846255S', '0101984E', '498480S', '1558721W',\n",
    "               '286832N', '0178005W', '828046S', '1681195E', '817740S', '0831152E', '321680S', '0560485W', '108417N',\n",
    "               '0817694W', '569108N', '0859276W', '869007S', '1200099W', '688774N', '0752857W', '590307N', '0390206E',\n",
    "               '     146336N', '1755119E', '284822S', '1530525E', '441923S', '0179598W', '218161N', '1290153E', '869916S',\n",
    "               '0380798W', '454267S', '1179553E', '  282461S  ', '1133703W', '373709S', '1134497W', '877272S', '0276842W',\n",
    "               '419035S', '1610104W', '031060S', '0996233E', '444315S', '0283348W', '346425S', '0915321W', '631689N',\n",
    "               '0222680E', '773830S', '0659182E', '502604N', '1650731W', '043356N', '0904925E', '068210S', '0027693W',\n",
    "               '310147S   ', '  1597000W  ', '624352N', '0802110W', '678573S', '1185367W', '673065S', '1545794W', '074848N',\n",
    "               '   0565096W', '601615S', '1111452W', '230833S', '0412381W', '080455N', '0063638W', '052513N', '1124680E',\n",
    "               '871211S', '0766947E', '324174S', '0024447E', '283259N', '0887907E', '288460S', '1236934E', '304827S',\n",
    "               '1147140E', '098914N', '0893373E', '239367S', '0880325E', '014455S', '0310027E', '654170S', '0146584E',\n",
    "               '211451N', '1620227W', '051343S', '0406677E', '286805N   ', '1328876E', '225997S', '0428105E', '473867S',\n",
    "               '0779615E', '758910S', '0587889E', '126936S', '1402894W', '159310N', '1296442W', '494509N', '0034254E',\n",
    "               '661676N', '1345096E', '528086S', '0166528W', '792654S', '0986073E', '357699S', '0822735W', '444064S',\n",
    "               '1300579W', ' 825756S  ', '1062958W', '745455S', '1212493E', '358371N', '1355671W', '726763S', '0478974E',\n",
    "               '146651N', '0785372E', '215280N', '1329565W', '362277S', '0954376E', '188458N', '0562158E', '188938S',\n",
    "               '    0485582W  ', '230565N', '0870492E', '636377S', '1018174E', '671545N', '0160212W', '237370N', '0870965E',\n",
    "               '640517N', '1692813W', '1355671W', '726763S']"
   ]
  },
  {
   "cell_type": "code",
   "execution_count": null,
   "metadata": {},
   "outputs": [],
   "source": [
    "# Your code goes here\n"
   ]
  },
  {
   "cell_type": "markdown",
   "metadata": {},
   "source": [
    "Exercise 2:  Using the coordinate results, combine the adjacent latitudes and longitudes into tuple coordinate pairs. The result should look like this `[('36.4256N', '120.5726W'), ('12.6523S', 024.3075E), ...]`.  Save the resulting list into a new list."
   ]
  },
  {
   "cell_type": "code",
   "execution_count": null,
   "metadata": {},
   "outputs": [],
   "source": [
    "# Your code goes here\n"
   ]
  },
  {
   "cell_type": "markdown",
   "metadata": {},
   "source": [
    "Exercise 3:  Using the list of tuple coordinate pairs, save each one into a dictionary with keys formatted like so: `{\"Location 1\": ('36.4256N', '120.5726W'), 'Location 2': ('12.6523S', 024.3075E), ...}`"
   ]
  },
  {
   "cell_type": "code",
   "execution_count": null,
   "metadata": {},
   "outputs": [],
   "source": [
    "## Your code goes here\n"
   ]
  },
  {
   "cell_type": "markdown",
   "metadata": {},
   "source": [
    "Stretch Goal: There are a few repeat coordinate pairs.  Remove them from the dictionary."
   ]
  },
  {
   "cell_type": "code",
   "execution_count": null,
   "metadata": {},
   "outputs": [],
   "source": [
    "## Your code goes here\n"
   ]
  },
  {
   "cell_type": "markdown",
   "metadata": {},
   "source": [
    "### Conclusion\n",
    "\n",
    "Today, we explored loops, an essential tool for performing repetitive tasks which help us organize and reuse code. You've learned about different types of loops, such as while loops, and how to use them with various data structures.\n",
    "\n",
    "Keep practicing loops as they are fundamental building blocks for creating more complex Python programs."
   ]
  },
  {
   "cell_type": "markdown",
   "metadata": {},
   "source": [
    "### Assignments"
   ]
  },
  {
   "cell_type": "code",
   "execution_count": null,
   "metadata": {},
   "outputs": [],
   "source": [
    "# Exercise: Iterating Through Different Data Types\n",
    "\n",
    "# Part 1: List\n",
    "numbers = [1, 2, 3, 4, 5]\n",
    "\n",
    "# Use a for loop to iterate through the list and print each element\n",
    "print(\"Part 1: List - Using for loop\")\n",
    "# code goes in here\n",
    "print(\"\\n\")\n",
    "\n",
    "# Part 2: Tuple\n",
    "colors = (\"red\", \"green\", \"blue\")\n",
    "\n",
    "# Use a for loop to iterate through the tuple and print each element\n",
    "print(\"Part 2: Tuple - Using for loop\")\n",
    "# code goes in here\n",
    "print(\"\\n\")\n",
    "\n",
    "# Part 3: String\n",
    "message = \"Python\"\n",
    "\n",
    "# Use a for loop to iterate through the string and print each character\n",
    "print(\"Part 3: String - Using for loop\")\n",
    "# code goes in here\n",
    "print(\"\\n\")\n",
    "\n",
    "# Part 4: Range\n",
    "# Print numbers from 1 to 5 using a for loop and range\n",
    "print(\"Part 4: Range - Using for loop\")\n",
    "# code goes in here\n",
    "print(\"\\n\")\n",
    "\n",
    "# Part 5: Dictionary\n",
    "student_grades = {\"Alice\": 95, \"Bob\": 87, \"Charlie\": 92}\n",
    "\n",
    "# Use a for loop to iterate through the dictionary and print each key-value pair\n",
    "print(\"Part 5: Dictionary - Using for loop\")\n",
    "# code goes in here\n",
    "print(\"\\n\")\n",
    "\n",
    "# Part 6: While Loop\n",
    "# Use a while loop to print numbers from 1 to 5\n",
    "print(\"Part 6: While Loop\")\n",
    "# code goes in here\n",
    "print(\"\\n\")\n",
    "\n",
    "# Part 7: Nested Loop\n",
    "# Use nested loops to print a multiplication table (e.g., 2x1, 2x2, ..., 2x10)\n",
    "print(\"Part 7: Nested Loop - Multiplication Table\")\n",
    "# Change the range to generate tables for different numbers\n",
    "# code goes in here"
   ]
  },
  {
   "cell_type": "code",
   "execution_count": null,
   "metadata": {},
   "outputs": [],
   "source": [
    "# Write a function that takes in an integer as seconds and prints how many seconds there \n",
    "# are until lift off and once there are zero seconds left have it return 'Lift Off!'\n",
    "\n",
    "def countDown(num):\n",
    "    pass\n",
    "\n",
    "\n",
    "countDown(5)\n",
    "\n",
    "# Expected Console Output\n",
    "# \"There are 5 seconds left until liftoff!\"\n",
    "# \"There are 4 seconds left until liftoff!\"\n",
    "# \"There are 3 seconds left until liftoff!\"\n",
    "# \"There are 1 seconds left until liftoff!\"\n",
    "# \"There are 0 seconds left until liftoff!\"\n",
    "# \"Lift Off!\""
   ]
  },
  {
   "cell_type": "code",
   "execution_count": null,
   "metadata": {},
   "outputs": [],
   "source": [
    "# The \"Fizz-Buzz test\" is an interview question designed to help filter \n",
    "# out the 99.5% of programming job candidates. The text of the programming\n",
    "# assignment is follows something similar to this: Write a program that \n",
    "# prints an object with a number of keys. The key is the number and the value is\n",
    "# either the number, \"Fizz\", \"Buzz\", or \"FizzBuzz\". But for multiples of three \n",
    "# assign the key's value to equal “Fizz” instead of the number and for the \n",
    "# multiples of five assign the key's value to equal “Buzz”. For numbers\n",
    "# which are multiples of both three and five assign the key's value to equal\n",
    "# “FizzBuzz”, otherwise assign the key's value to equal the number.\n",
    "\n",
    "def fizz_buzz(num):\n",
    "    pass\n",
    "\n",
    "# This is the test case.  The return from your function, fizz_buzz(100), should match the dictionary after the \"==\".\n",
    "print(fizz_buzz(100) == { \n",
    "                1: 1,\n",
    "                2: 2,\n",
    "                3: 'Fizz',\n",
    "                4: 4,\n",
    "                5: 'Buzz',\n",
    "                6: 'Fizz',\n",
    "                7: 7,\n",
    "                8: 8,\n",
    "                9: 'Fizz',\n",
    "                10: 'Buzz',\n",
    "                11: 11,\n",
    "                12: 'Fizz',\n",
    "                13: 13,\n",
    "                14: 14,\n",
    "                15: 'FizzBuzz',\n",
    "                16: 16,\n",
    "                17: 17,\n",
    "                18: 'Fizz',\n",
    "                19: 19,\n",
    "                20: 'Buzz',\n",
    "                21: 'Fizz',\n",
    "                22: 22,\n",
    "                23: 23,\n",
    "                24: 'Fizz',\n",
    "                25: 'Buzz',\n",
    "                26: 26,\n",
    "                27: 'Fizz',\n",
    "                28: 28,\n",
    "                29: 29,\n",
    "                30: 'FizzBuzz',\n",
    "                31: 31,\n",
    "                32: 32,\n",
    "                33: 'Fizz',\n",
    "                34: 34,\n",
    "                35: 'Buzz',\n",
    "                36: 'Fizz',\n",
    "                37: 37,\n",
    "                38: 38,\n",
    "                39: 'Fizz',\n",
    "                40: 'Buzz',\n",
    "                41: 41,\n",
    "                42: 'Fizz',\n",
    "                43: 43,\n",
    "                44: 44,\n",
    "                45: 'FizzBuzz',\n",
    "                46: 46,\n",
    "                47: 47,\n",
    "                48: 'Fizz',\n",
    "                49: 49,\n",
    "                50: 'Buzz',\n",
    "                51: 'Fizz',\n",
    "                52: 52,\n",
    "                53: 53,\n",
    "                54: 'Fizz',\n",
    "                55: 'Buzz',\n",
    "                56: 56,\n",
    "                57: 'Fizz',\n",
    "                58: 58,\n",
    "                59: 59,\n",
    "                60: 'FizzBuzz',\n",
    "                61: 61,\n",
    "                62: 62,\n",
    "                63: 'Fizz',\n",
    "                64: 64,\n",
    "                65: 'Buzz',\n",
    "                66: 'Fizz',\n",
    "                67: 67,\n",
    "                68: 68,\n",
    "                69: 'Fizz',\n",
    "                70: 'Buzz',\n",
    "                71: 71,\n",
    "                72: 'Fizz',\n",
    "                73: 73,\n",
    "                74: 74,\n",
    "                75: 'FizzBuzz',\n",
    "                76: 76,\n",
    "                77: 77,\n",
    "                78: 'Fizz',\n",
    "                79: 79,\n",
    "                80: 'Buzz',\n",
    "                81: 'Fizz',\n",
    "                82: 82,\n",
    "                83: 83,\n",
    "                84: 'Fizz',\n",
    "                85: 'Buzz',\n",
    "                86: 86,\n",
    "                87: 'Fizz',\n",
    "                88: 88,\n",
    "                89: 89,\n",
    "                90: 'FizzBuzz',\n",
    "                91: 91,\n",
    "                92: 92,\n",
    "                93: 'Fizz',\n",
    "                94: 94,\n",
    "                95: 'Buzz',\n",
    "                96: 'Fizz',\n",
    "                97: 97,\n",
    "                98: 98,\n",
    "                99: 'Fizz',\n",
    "                100: 'Buzz'\n",
    "            }\n",
    "     )"
   ]
  },
  {
   "cell_type": "code",
   "execution_count": null,
   "metadata": {},
   "outputs": [],
   "source": [
    "# There are a couple variable naming conventions in programming. They are camelCase and snake_case.\n",
    "# The Python language subscribes snake_case. Snake case is a naming convention for variable that\n",
    "# contain multiple words.\n",
    "\n",
    "# 1 -   The entire word in the variable's name is lowercase\n",
    "# 2 -   There are underlines between wordsand they are combined together.\n",
    "\n",
    "# EXAMPLE\n",
    "# Camel Case: thisIsCamelCase\n",
    "# Snake Case: this_is_snake_case\n",
    "\n",
    "\n",
    "# In this challenge you will write a function that takes in a camelCase argument and \n",
    "# converts the sentence to the snake_case convention.\n",
    "\n",
    "def make_snake_case(var_name):\n",
    "    pass\n",
    "\n",
    "print(make_snake_case(\"myNameIsKramer\") ==  \"my_name_is_kramer\")\n",
    "print(make_snake_case(\"firstName\") ==  \"first_name\")\n",
    "print(make_snake_case(\"arrayOfNames\") ==  \"array_of_names\")"
   ]
  }
 ],
 "metadata": {
  "kernelspec": {
   "display_name": "Python 3",
   "language": "python",
   "name": "python3"
  },
  "language_info": {
   "codemirror_mode": {
    "name": "ipython",
    "version": 3
   },
   "file_extension": ".py",
   "mimetype": "text/x-python",
   "name": "python",
   "nbconvert_exporter": "python",
   "pygments_lexer": "ipython3",
   "version": "3.11.9"
  }
 },
 "nbformat": 4,
 "nbformat_minor": 2
}
