{
 "cells": [
  {
   "cell_type": "markdown",
   "metadata": {},
   "source": [
    "# Mini-Project\n",
    "\n",
    "Today we are going to explore the power of python and create something together.  You can use this Jupyter Notebook to follow along & try your own solutions to the various problems we face while building this project!"
   ]
  },
  {
   "cell_type": "markdown",
   "metadata": {},
   "source": [
    "Today and for the rest of the course, we are going to build a lottery simulator that works almost exactly like the PowerBall or Mega-Millions.  If you haven't played the lottery before, here is a quick description of how it works:"
   ]
  },
  {
   "cell_type": "markdown",
   "metadata": {},
   "source": [
    "### PowerBall Lottery\n",
    "\n",
    "<img src=\"../GRAPHICS/powerball.jpg\" height=\"200px\">\n",
    "\n",
    "\n",
    "The Powerball lottery is a popular multi-state lottery game in the United States, known for its large jackpots and widespread participation. Players select five numbers from a set of 69 white balls and one number, the Powerball, from a set of 26 red balls. Drawings are held twice a week, typically on Wednesday and Saturday nights. \n",
    "\n",
    "To win the jackpot, a participant must match all five white ball numbers and the Powerball number. The odds of winning the jackpot are astronomical, at about 1 in 292.2 million, reflecting the game's design to build large jackpots that attract more players. However, the game also offers smaller prizes for matching fewer numbers, which have significantly better odds of winning. \n",
    "\n",
    "Ticket prices are generally $2 per play, and tickets can be purchased in most convenience stores and even online."
   ]
  },
  {
   "cell_type": "markdown",
   "metadata": {},
   "source": [
    "### Where to Begin?\n",
    "\n",
    "Going back to the Problem Solving and Computational Thinking strategies we learned at the beginning of the course, how do we get started?\n",
    "\n"
   ]
  },
  {
   "cell_type": "code",
   "execution_count": null,
   "metadata": {},
   "outputs": [],
   "source": [
    "## Enter Code Here"
   ]
  }
 ],
 "metadata": {
  "kernelspec": {
   "display_name": "Python 3",
   "language": "python",
   "name": "python3"
  },
  "language_info": {
   "codemirror_mode": {
    "name": "ipython",
    "version": 3
   },
   "file_extension": ".py",
   "mimetype": "text/x-python",
   "name": "python",
   "nbconvert_exporter": "python",
   "pygments_lexer": "ipython3",
   "version": "3.11.9"
  }
 },
 "nbformat": 4,
 "nbformat_minor": 2
}
