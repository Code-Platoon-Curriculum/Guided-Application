{
 "cells": [
  {
   "cell_type": "markdown",
   "metadata": {},
   "source": [
    "# Mini-Project 2\n",
    "\n",
    "Today we are going to explore the power of python and create something together.  You can use this Jupyter Notebook to follow along & try your own solutions to the various problems we face while building this project!"
   ]
  },
  {
   "cell_type": "markdown",
   "metadata": {},
   "source": [
    "For this mini project, we are going to build a poker hand evaluator.  For those not familiar with poker, it is a card game played with a standard card deck of 52 cards.  "
   ]
  },
  {
   "cell_type": "markdown",
   "metadata": {},
   "source": [
    "### Poker\n",
    "\n",
    "<img src=\"../GRAPHICS/poker_cards.png\" height=\"200px\">\n",
    "\n",
    "\n",
    "Poker, a game that comes in various forms, is a card game played with two or more people (the maximum player count is determined by the type of poker game).  The way the cards are dealt can vary wildly, but the base concept is the same:  A player wants to get the best 5-card hand possible and win the chips in the middle that have been bet.\n",
    "\n",
    "There are many more factors that drive poker gameplay (such as bluffing) but there is always one final comparison that determines a winner of a hand: The showdown.\n",
    "\n",
    "The showdown is where the players that have not folded compare their hands to each other to find a winner.\n",
    "\n",
    "<img src=\"../GRAPHICS/poker_hands.png\" width=\"15%\">\n",
    "\n"
   ]
  },
  {
   "cell_type": "markdown",
   "metadata": {},
   "source": [
    "### Where to Begin?\n",
    "\n",
    "Going back to the Problem Solving and Computational Thinking strategies we learned at the beginning of the course, how do we get started?\n",
    "\n"
   ]
  }
 ],
 "metadata": {
  "language_info": {
   "name": "python"
  }
 },
 "nbformat": 4,
 "nbformat_minor": 2
}
