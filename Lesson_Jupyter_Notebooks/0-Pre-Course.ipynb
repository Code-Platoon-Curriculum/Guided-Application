{
 "cells": [
  {
   "cell_type": "markdown",
   "metadata": {},
   "source": [
    "# Welcome to QuickPass!"
   ]
  },
  {
   "cell_type": "markdown",
   "metadata": {},
   "source": [
    "## Table of Contents\n",
    "\n",
    "- [Welcome to QuickPass!](#welcome-to-quickpass)\n",
    "  - [Table of Contents](#table-of-contents)\n",
    "  - [1. Course Overview](#1-course-overview)\n",
    "  - [2. Instructor](#2-instructor)\n",
    "    - [Aaron Wood](#aaron-wood)\n",
    "  - [3. Code Platoon Support Team](#3-code-platoon-support-team)\n",
    "    - [Student Outreach & Recruitment Manager](#student-outreach-recruitment-manager)\n",
    "      - [Greg Drobny](#greg-drobny)\n",
    "    - [Student Support and Compliance Manager](#student-support-compliance-manager)\n",
    "      - [Tish Johnson](#tish-johnson)\n",
    "  - [4. QuickPass Tools](#4-quickpass-tools)\n",
    "    - [1. Slack](#slack)\n",
    "    - [2. GitHub & GitHub Codespaces](#github-&-github-codespaces)\n",
    "    - [3. Jupyter Notebooks](#jupyter-notebooks)\n",
    "    - [4. Online REPLs](#online-repls)\n",
    "  - [5. Programming Concepts](#programming-concepts)\n",
    "    - [1. Introduction to Scripts](#introduction-to-scripts)\n",
    "    - [2. Basic Input and Output](#basic-input-output)\n",
    "    - [3. Computer Memory](#computer-memory)\n",
    "    - [4. Programming Languages](#programming-languages)\n",
    "      - [1. Python](#python)\n",
    "      - [2. JavaScript](#javascript)\n",
    "    - [3. Variables and Data types](#variables-and-data-types)\n",
    "  - [6. Resources](#resources)"
   ]
  },
  {
   "cell_type": "markdown",
   "metadata": {},
   "source": [
    "## 1. Course Overview\n",
    "\n",
    "QuickPass is your ticket to full admission into any of the comprehensive courses training and enrollment process to prepare you for the challenges and technical assessmements required for admission into Code Platoon's Full-stack Immersive program.  \n",
    "In this course, students will learn core competencies that are crucial in developing the foundational knowledge base of any software engineer:\n",
    "\n",
    "1. Programmatic Thinking and Problem Solving\n",
    "2. Foundational Data and Data Collection Types\n",
    "3. Functions and Data Manipulation\n",
    "\n",
    "The course has no hardware requirements to attend; all of the material and practical exercises are web- or cloud-based so you can focus on the content.\n",
    "It is recommended that you establish a GitHub and repl.it account as they offer great online environments to enter and run code.\n",
    "\n",
    "### Course Modules\n",
    "\n",
    "1. Python Data Types and Methods (Strings, Numbers, Booleans)\n",
    "2. Python Conditional Statements, Truthy/Falsy Logic & Functions\n",
    "3. Python Data Ordered Data Structures (Lists, Tuples)\n",
    "4. Python Unordered Data Structures (Sets & Dictionaries)\n",
    "5. Python Loops and Data Manipulation\n",
    "6. Python Advanced Data Collections (Nested Data Collections)\n",
    "7. Course Mini Project / Review\n",
    "8. Course Mini Project / Review\n",
    "\n",
    "\n"
   ]
  },
  {
   "cell_type": "markdown",
   "metadata": {},
   "source": [
    "## 2. Instructor\n",
    "\n",
    "### Aaron Wood\n",
    "<img src=\"../GRAPHICS/AaronWood.png\" height=\"200px\">\n",
    "\n",
    "Aaron is a retired Air Force Veteran with over 21 years of service as a meteorologist. He is a graduate of Code Platoon’s Full-stack Software Engineering Bootcamp: Lima Platoon in 2020.  He has held several software engineer positions as a consultant and also as an instructor teaching introductory Python data science courses to military and government personnel.\n",
    "\n",
    "aaron@codeplatoon.org"
   ]
  },
  {
   "cell_type": "markdown",
   "metadata": {},
   "source": [
    "## 3. Code Platoon Support Team\n",
    "\n",
    "### Greg Drobny\n",
    "\n",
    "<img src=\"../GRAPHICS/GregDrobny.png\" height=\"200px\">\n",
    "\n",
    "Greg Drobny is a former Airborne Infantryman, PSYOP Team Chief, political consultant, professional mil blogger, and is Code Platoon’s Student Outreach and Recruitment Manager.\n",
    "\n",
    "greg@codeplatoon.org\n",
    "\n",
    "<br>\n",
    "\n",
    "### Tish Johnson\n",
    "\n",
    "<img src=\"../GRAPHICS/TishJohnson.jpg\" height=\"200px\">\n",
    "\n",
    "Tish Johnson is the Student Support and Compliance Manager at Code Platoon. In this role, she harnesses her college administration experience to manage the enrollment process for admitted students, including processing VA educational benefits.\n",
    "\n",
    "tish@codeplatoon.org\n",
    "\n",
    "<br>\n",
    "\n",
    "### Guillermo Aguilar\n",
    "\n",
    "<img src=\"../GRAPHICS/guillermo_A.png\" height=\"200px\">\n",
    "\n",
    "As Code Platoon’s Pre Work Coordinator, Guillermo Aguilar develops the pre work curriculum and live technical assessments for incoming students. He served in Afghanistan and as an Army National Guardsman for eleven years. \n",
    "\n",
    "guillermo@codeplatoon.org"
   ]
  },
  {
   "cell_type": "markdown",
   "metadata": {},
   "source": [
    "## 4. QuickPass Tools"
   ]
  },
  {
   "cell_type": "markdown",
   "metadata": {},
   "source": [
    "### Slack\n",
    "\n",
    "* [Slack](https://www.slack.com)\n",
    "\n",
    "Slack is the primary communication tool of Code Platoon and this class will have its own channel for communication outside of the normal class times.  You can use Slack on any platform and, like your favorite messaging service, it supports most types of media and, more importantly, code examples that you can share and discuss with your classmates.  You should have already received an invitation to join Code Platoon's workspace, but if you did not, please reach out to any staff member."
   ]
  },
  {
   "cell_type": "markdown",
   "metadata": {},
   "source": [
    "### Jupyter Notebooks\n",
    "\n",
    "* [Jupyter](https://www.jupyter.org)\n",
    "\n",
    "The class repository will contain Jupyter notebooks that you can use on your own machine.  Jupyter notebooks allow you to organize information into \"cells\" instead of a single file.  The cells can contain text (markdown in this case), or code.  The notebook will have a kernel, which saves and executes code.  More specifically, it saves the information from each cell so subsequent cells can access the information in memory (i.e. saved variables).  That allows you to break code into smaller steps and see how it runs.  The cell you are reading now is a markdown cell, which is mainly for reading and presenting links.  The cell below is a code cell.  It is Python in this example, but you can run other languages with Jupyter Notebooks.\n",
    "\n",
    "* Note: The first time you run a code cell, you will need to select a Python kernel to run the code.  If running in VScode, it will usually prompt for a Python interpreter at the top.  There should also be a \"Select Kernel\" button at the top-right portion of the VSCode window."
   ]
  },
  {
   "cell_type": "markdown",
   "metadata": {},
   "source": [
    "- Code Cell Example"
   ]
  },
  {
   "cell_type": "code",
   "execution_count": 1,
   "metadata": {},
   "outputs": [
    {
     "name": "stdout",
     "output_type": "stream",
     "text": [
      "The time it took for Python to count to 5000000 took 0.24 seconds\n"
     ]
    }
   ],
   "source": [
    "# If you want, you can run this cell with the play button found in upper left or at the top of the window. \n",
    "\n",
    "import time\n",
    "\n",
    "st = time.time()\n",
    "\n",
    "target_num = 5000000\n",
    "count = 0\n",
    "\n",
    "while count < target_num:\n",
    "    count += 1\n",
    "\n",
    "et = time.time()\n",
    "\n",
    "total_time = et - st\n",
    "print(f\"The time it took for Python to count to {target_num} took {round(total_time, 2)} seconds\")"
   ]
  },
  {
   "cell_type": "markdown",
   "metadata": {},
   "source": [
    "### GitHub & GitHub Codespaces\n",
    "\n",
    "* [GitHub](https://www.github.com)\n",
    "* [GitHub Codespaces](https://www.github.com/codespaces)\n",
    "\n",
    "If you have not already done so, we recommend establishing a GitHub account and getting familiar with basic navigation.\n",
    "\n",
    "GitHub is an online repository for code.  More specifically, it works with [Git][https://www.git-scm.com/], a version control system that allows developers to keep track of the changes in their code on their local machine.  GitHub allows teams to host the main code base in one location and all work on that same code base by using Git to make _branches_, or copies of the main branch that they can work on.  When the work is complete and approved, they can _merge_ those changes seamlessly.  With bigger code bases, there can be hundreds of branches with several merges and new branch creations per day. \n",
    "\n",
    "GitHub Codespaces offer an easy way to start up a container (like a virtual computer instance) with Visual Studio Code, a powerful and free interactive development environment.  You will be able to install the various tools & extensions to customize your workspace, including Jupyter.  Also, the class material will persist so you can access it later (it does delete after a period of inactivity that exceeds 30 days)."
   ]
  },
  {
   "cell_type": "markdown",
   "metadata": {},
   "source": [
    "There are several ways to install/use Jupyter Notebooks:\n",
    "\n",
    "1. If you are using VSCode, you can download the Jupyter extension to work with the notebooks right away (this includes installing in GitHub codespaces VSCode).\n",
    "2. If you are a bit more familiar with installing on the command line, you can use the instructions found at the Jupyter link above.\n",
    "3. Lastly, you can use [Binder](https://mybinder.org/).  This tool will allow you to copy the files from the quickPass repository and it will start a web-based jupyter notebook for you to run the files.  Please note that this solution does not persist to be accessed later."
   ]
  },
  {
   "cell_type": "markdown",
   "metadata": {},
   "source": [
    "### Online REPLs\n",
    "\n",
    "REPL (Read, Evaluate, Print, Loop) is a computer environment where user inputs are read and evaluated, and then the results are returned to the user.  Once you install Python on your computer, you can enter a local REPL where you can enter Python commands and see the results.  It is useful for testing out simple commands to see what they do.  For learning purposes, using an online REPL can aid in learning and they have different additional features to visualize code.  Also, because they are based in the browser, you can execute code from anywhere and don't have to worry about installing anything on your local machine.\n",
    "\n",
    "These are just a couple of examples of online REPLs that you can use to execute python code in a browser environment:\n",
    "\n",
    "* [REPL.it](https://www.repl.it)\n",
    "* [Python Tutor](https://www.pythontutor.com)\n",
    "\n",
    "REPL.it will be used for some of your exercises, so it is recommended you create an account (not required).\n",
    "Python Tutor has a great feature to see how code runs step-by-step."
   ]
  },
  {
   "cell_type": "markdown",
   "metadata": {},
   "source": [
    "## Programming Concepts\n",
    "\n",
    "When learning the basics of your first programming language, it is helpful to have a basic understanding of what allows a program, whether written in Python or any other language, to run.  These concepts will be mentioned again in Quick Pass, and they will also be illustrated in the lessons and practice challenges."
   ]
  },
  {
   "cell_type": "markdown",
   "metadata": {},
   "source": [
    "### Introduction to Scripts\n",
    "\n",
    "Scripts are sets of instructions written in a programming language that are executed by a computer. Unlike compiled programs, scripts are often interpreted, meaning they are executed line by line by a scripting engine or interpreter, such as Python's interpreter or the JavaScript engine in a web browser.  When running a script, it is typically read top-to-bottom.\n",
    "\n",
    "- **Key Points**:\n",
    "  - Scripts can automate tasks, manipulate data, or generate content.\n",
    "  - They do not require a separate compilation step.\n",
    "  - Common scripting languages include Python, JavaScript, and Bash."
   ]
  },
  {
   "cell_type": "markdown",
   "metadata": {},
   "source": [
    "### Basic Input and Output\n",
    "\n",
    "- **Input**: Receiving data (e.g., from a user, file, or sensor) for processing.\n",
    "- **Output**: Displaying or sending out data (e.g., to a screen, file, or network).\n",
    "\n",
    "- **Key Points**:\n",
    "  - Input and output operations are fundamental for interactive scripts and applications.\n",
    "  - Python’s `input()` and `print()` are examples of basic input and output functions."
   ]
  },
  {
   "cell_type": "markdown",
   "metadata": {},
   "source": [
    "### Computer Memory\n",
    "\n",
    "Computer memory is a crucial concept in computer science, involving the storage of data and instructions for processing. The two primary types of computer memory are:\n",
    "\n",
    "- **RAM (Random Access Memory)**: Temporary storage that is fast but volatile. Python programs primarily use RAM to store data while running.  Data stored in RAM is lost when the computer is turned off.\n",
    "- **Storage (Hard Drive or SSD)**: Permanent storage used to keep data and programs. Slower than RAM but non-volatile.\n",
    "\n",
    "Memory is managed by the operating system.  When writing Python code, you will need to think about how the memory is being utilized and the appropriate methodologies to effectively use and preserve memory."
   ]
  },
  {
   "cell_type": "markdown",
   "metadata": {},
   "source": [
    "### Programming Languages\n",
    "\n",
    "Programming languages are avenues for us, as humans, to tell a computer what to do while still maintaining a human-readable format.  Behind the scenes, when a program written in a language is run, the language instructions are processed into a non-human-readable format that computers can understand.  There are hundreds of different programming languages that you can use, but there are a few that are most popular.  At Code Platoon, we focus on Python and Javascript since they are the most popular languages behind full-stack applications.  \n",
    "\n",
    "In QuickPass, we are going to only focus on Python because the formatting is largely human readable and allows for a quick immersion into the key foundational concepts of programming without the overhead of learning the syntax."
   ]
  },
  {
   "cell_type": "markdown",
   "metadata": {},
   "source": [
    "#### Python\n",
    "\n",
    "* [Wikipedia: Python (programming language)](https://en.wikipedia.org/wiki/Python_(programming_language))\n",
    "* [The Zen of Python](https://www.python.org/dev/peps/pep-0020/#the-zen-of-python)\n",
    "* [PEP8 Style Guide for Python](https://www.python.org/dev/peps/pep-0008/)\n",
    "\n",
    "Python is a widely used programming language for general-purpose programming and what we will be exclusively focusing on in QuickPass.  Python was created by Guido van Rossum and first released in 1991. Python has a design philosophy that emphasizes code readability (notably using whitespace indentation to delimit code blocks rather than curly brackets or keywords), and a syntax that allows programmers to express concepts in fewer lines of code than might be used in languages such as C++ or Java.\n",
    "\n",
    "The core philosophy of the language is summarized by the document The Zen of Python, which includes aphorisms such as:\n",
    "\n",
    "* Beautiful is better than ugly\n",
    "* Explicit is better than implicit\n",
    "* Simple is better than complex\n",
    "* Complex is better than complicated\n",
    "* Readability counts"
   ]
  },
  {
   "cell_type": "markdown",
   "metadata": {},
   "source": [
    "#### JavaScript\n",
    "\n",
    "* [Wikipedia: JavaScript](https://en.wikipedia.org/wiki/JavaScript)\n",
    "\n",
    "Known as the core language of the Web, 99% of websites use JavaScript on the client side for webpage operation.  Do not confuse JavaScript with Java, a popular general-purpose, multi-platform language.  While they share the same letters in their name, comparing Java to JavaScript is like comparing a motorcycle to a hot-air balloon.  They are both modes of transportation, but operate in wildly different ways. Like Python, JavaScript is a high-level language which allows it to be more human-readable (but at the expense of increased run time).  While we will not be focused on Javascript in QuickPass, it is used extensively in Code Platoon's immersive program."
   ]
  },
  {
   "cell_type": "markdown",
   "metadata": {},
   "source": [
    "### Variables and Data Types\n",
    "\n",
    "Variables are named locations in memory used to store data during the execution of a script. Each variable has a data type, which dictates the kind of data it can store, such as integers, floating-point numbers, or strings.\n",
    "\n",
    "- **Key Points**:\n",
    "  - Data types include `int` (integer), `float` (floating point, or decimal number), `str` (string), and more.\n",
    "  - Choosing the correct data type is important for efficient memory use and program execution."
   ]
  },
  {
   "cell_type": "markdown",
   "metadata": {},
   "source": [
    "### Problem Solving Strategies for Developers\n",
    "\n",
    "As a software developer, your daily grind involves tackling a myriad of puzzles. Whether you’re part of an application development team or working on your own project, problem-solving is at the core of what we do. Software engineeers are builders and the traditional end goal is to build a functional application—the grand challenge that takes months to crack. Building it can be defined as one big problem to solve, but that one problem contains hundreds or even thousands of smaller problems that we have to address. Take authentication, for instance. Let's say you are creating a module that validates user credentials to let them log-in. Sounds simple, right? Yet beneath the surface lie a cascade of smaller problems: data types, formatting, comparisons, validation, etc.  How can we address all of them in the right way?  That is where these techniques come into play."
   ]
  },
  {
   "cell_type": "markdown",
   "metadata": {},
   "source": [
    "### Understanding the Problem"
   ]
  },
  {
   "cell_type": "markdown",
   "metadata": {},
   "source": [
    "#### Problem Statement Analysis\n",
    "\n",
    "\n",
    "- Understand the problem statement thoroughly.\n",
    "- Identify input, output, and expected behavior.\n",
    "- Clarify ambiguities and constraints.\n",
    "- Create an example or use case to illustrate the problem."
   ]
  },
  {
   "cell_type": "markdown",
   "metadata": {},
   "source": [
    "#### Identifying Constraints and Requirements\n",
    "\n",
    "- Identify constraints on time, memory, or other resources.\n",
    "- Consider special requirements or edge cases.\n",
    "- Understand the problem's context and potential real-world impact."
   ]
  },
  {
   "cell_type": "markdown",
   "metadata": {},
   "source": [
    "### Decomposition"
   ]
  },
  {
   "cell_type": "markdown",
   "metadata": {},
   "source": [
    "#### Breaking Down Complex Problems\n",
    "\n",
    "- Divide complex problems into smaller, more manageable parts.\n",
    "- Define the main components of the problem.\n",
    "- Prioritize subproblems and plan your approach."
   ]
  },
  {
   "cell_type": "markdown",
   "metadata": {},
   "source": [
    "#### Identifying Relevant Data and Processes\n",
    "\n",
    "- Determine what data and operations are required to solve each subproblem.\n",
    "- Sketch a high-level plan of how subproblems interact.\n",
    "- Visualize the problem structure."
   ]
  },
  {
   "cell_type": "markdown",
   "metadata": {},
   "source": [
    "### Algorithm Design"
   ]
  },
  {
   "cell_type": "markdown",
   "metadata": {},
   "source": [
    "#### Selecting Appropriate Data Structures\n",
    "\n",
    "- Choose the right data structures to represent problem components.\n",
    "- Evaluate the trade-offs of different data structures (lists, dictionaries, sets, etc.).\n",
    "- Optimize data access and manipulation."
   ]
  },
  {
   "cell_type": "markdown",
   "metadata": {},
   "source": [
    "#### Creating Algorithms to Solve Subproblems\n",
    "\n",
    "- Design algorithms for each subproblem.\n",
    "- Use pseudocode or flowcharts to outline your approach.\n",
    "- Optimize the efficiency of your algorithms."
   ]
  },
  {
   "cell_type": "markdown",
   "metadata": {},
   "source": [
    "### Coding and Debugging"
   ]
  },
  {
   "cell_type": "markdown",
   "metadata": {},
   "source": [
    "#### Translating Your Algorithm into Python Code\n",
    "\n",
    "- Write clean, modular, and readable code.\n",
    "- Follow Python coding conventions (PEP 8).\n",
    "- Use meaningful variable names and comments."
   ]
  },
  {
   "cell_type": "markdown",
   "metadata": {},
   "source": [
    "#### Strategies for Debugging and Troubleshooting\n",
    "\n",
    "- Apply debugging techniques (print statements, debugging tools).\n",
    "- Handle exceptions and errors gracefully.\n",
    "- Fix issues systematically."
   ]
  },
  {
   "cell_type": "markdown",
   "metadata": {},
   "source": [
    "### Documentation and Collaboration"
   ]
  },
  {
   "cell_type": "markdown",
   "metadata": {},
   "source": [
    "#### Writing Clear and Concise Code Comments\n",
    "\n",
    "- Document code to make it understandable to others.\n",
    "- Describe the purpose of functions and complex logic.\n",
    "- Include usage examples when relevant."
   ]
  },
  {
   "cell_type": "markdown",
   "metadata": {},
   "source": [
    "#### Collaborating Effectively with Team Members\n",
    "\n",
    "- Communicate changes and updates with your team.\n",
    "- Use version control systems (e.g., Git) to manage code.\n",
    "- Foster a collaborative development environment."
   ]
  },
  {
   "cell_type": "markdown",
   "metadata": {},
   "source": [
    "### Optimization"
   ]
  },
  {
   "cell_type": "markdown",
   "metadata": {},
   "source": [
    "#### Analyzing Code for Performance Bottlenecks\n",
    "\n",
    "- Profile your code to identify performance bottlenecks.\n",
    "- Apply algorithmic and code-level optimizations.\n",
    "- Balance between time and memory efficiency."
   ]
  },
  {
   "cell_type": "markdown",
   "metadata": {},
   "source": [
    "### Iteration and Refinement"
   ]
  },
  {
   "cell_type": "markdown",
   "metadata": {},
   "source": [
    "#### Continuously Improving Your Solution\n",
    "\n",
    "- Seek feedback from peers and mentors.\n",
    "- Iterate on your code to make it more elegant and efficient.\n",
    "- Update documentation to reflect changes."
   ]
  },
  {
   "cell_type": "markdown",
   "metadata": {},
   "source": [
    "## Resources\n",
    "\n",
    "One of the most wonderful things about the software engineering field is the availability of online resources to discover a solution to your problem.  It is a fact that the vast majority of your time when \"developing\" is actually reading & searching for solutions, tools, methods, etc. to successfully complete your program/app/webpage/game.  In addition to what has already been shared above, below is a categorized listing of resources that you can use throughout this course and beyond (more will be introduced as well):\n"
   ]
  },
  {
   "cell_type": "markdown",
   "metadata": {},
   "source": [
    "\n",
    "### Interactive Learning Platforms\n",
    "* **Codecademy** - [https://www.codecademy.com/](https://www.codecademy.com/)\n",
    "* **freeCodeCamp** - [https://www.freecodecamp.org/](https://www.freecodecamp.org/)\n",
    "* **Khan Academy** - [https://www.khanacademy.org/](https://www.khanacademy.org/)\n",
    "* **LeetCode** - [https://leetcode.com/](https://leetcode.com/)\n",
    "\n",
    "### Video Tutorials\n",
    "* **Coursera** - [https://www.coursera.org/](https://www.coursera.org/)\n",
    "* **edX** - [https://www.edx.org/](https://www.edx.org/)\n",
    "* **Udacity** - [https://www.udacity.com/](https://www.udacity.com/)\n",
    "\n",
    "\n",
    "### Documentation and Reference\n",
    "* **Mozilla Developer Network (MDN)** - [https://developer.mozilla.org/](https://developer.mozilla.org/)\n",
    "* **W3Schools** - [https://www.w3schools.com/](https://www.w3schools.com/)\n",
    "* **Microsoft Learn** - [https://learn.microsoft.com/](https://learn.microsoft.com/)\n",
    "\n",
    "### Books and Guides\n",
    "* **Eloquent JavaScript** - [https://eloquentjavascript.net/](https://eloquentjavascript.net/)\n",
    "* **Automate the Boring Stuff with Python** - [https://automatetheboringstuff.com/](https://automatetheboringstuff.com/)\n",
    "\n",
    "### Forums and Communities\n",
    "* **Stack Overflow** - [https://stackoverflow.com/](https://stackoverflow.com/)\n",
    "* **GitHub** - [https://github.com/](https://github.com/)\n",
    "* **Reddit** - [https://www.reddit.com/](https://www.reddit.com/) (Look for specific subreddits like r/learnprogramming and r/webdev)\n",
    "\n",
    "### Practice and Challenges\n",
    "* **HackerRank** - [https://www.hackerrank.com/](https://www.hackerrank.com/)\n",
    "* **CodeSignal** - [https://codesignal.com/](https://codesignal.com/)\n",
    "* **Project Euler** - [https://projecteuler.net/](https://projecteuler.net/)\n",
    "\n",
    "### Tools and Editors\n",
    "* **Visual Studio Code** - [https://code.visualstudio.com/](https://code.visualstudio.com/)\n",
    "* **Git** - [https://git-scm.com/](https://git-scm.com/)"
   ]
  }
 ],
 "metadata": {
  "kernelspec": {
   "display_name": "Python 3",
   "language": "python",
   "name": "python3"
  },
  "language_info": {
   "codemirror_mode": {
    "name": "ipython",
    "version": 3
   },
   "file_extension": ".py",
   "mimetype": "text/x-python",
   "name": "python",
   "nbconvert_exporter": "python",
   "pygments_lexer": "ipython3",
   "version": "3.11.9"
  }
 },
 "nbformat": 4,
 "nbformat_minor": 2
}
