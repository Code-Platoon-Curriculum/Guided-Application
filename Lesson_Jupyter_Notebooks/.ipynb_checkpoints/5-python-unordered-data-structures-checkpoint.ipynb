{
 "cells": [
  {
   "cell_type": "markdown",
   "metadata": {},
   "source": [
    "# Python Unordered Data Structures and Their Built-in Methods <a id=\"title\"></a>\n",
    "\n",
    "\n",
    "Welcome to today's lecture on Python unordered data structures and their extensive built-in methods. Sets and dictionaries are fundamental data structures in Python, each serving unique purposes. In this lesson, we will explore these data structures and delve into the numerous built-in methods that make them powerful for data manipulation."
   ]
  },
  {
   "cell_type": "markdown",
   "metadata": {},
   "source": [
    "## Table of Contents\n",
    "- [Python Unordered Data Structures and Their Built-in Methods](#title)\n",
    "- [Table of Contents](#table-of-contents)\n",
    "  - [Sets](#sets)\n",
    "    - [Creating Sets](#creating-sets)\n",
    "    - [Set Methods](#set-methods)\n",
    "  - [Dictionaries](#dictionaries)\n",
    "    - [Creating Dictionaries](#creating-dictionaries)\n",
    "    - [Dictionary Methods](#d-dictionary-methods-15-minutes)\n",
    "  - [Common Operations Across Data Structures](#common-operations-across-data-structures)\n",
    "  - [Conclusion](#conclusion)\n",
    "  - [Assignments](#assignments)"
   ]
  },
  {
   "cell_type": "markdown",
   "metadata": {},
   "source": [
    "<hr>"
   ]
  },
  {
   "cell_type": "markdown",
   "metadata": {},
   "source": [
    "### Sets\n",
    "\n",
    "* [Python: Sets](https://docs.python.org/3/tutorial/datastructures.html#sets)\n",
    "\n",
    "Sets are mutable, unordered collections of unique elements.  Because the are unordered, sets are not cosidered sequences, like lists, and cannot support indexing or slicing.  They do, however, support mathematical operations like union, difference, and symmetric difference.  Sets are used for membership testing and deduplication."
   ]
  },
  {
   "cell_type": "markdown",
   "metadata": {},
   "source": [
    "#### Creating Sets\n",
    "\n",
    "Empty sets can only be instantiated with the `set()` built-in method.  If you want to create a set with elements, you will wrap the elements with curly braces `{}`.  Please note that if you define an empty set with empty curly braces, Python will interpret that as an empty dictionary.\n"
   ]
  },
  {
   "cell_type": "code",
   "execution_count": 1,
   "metadata": {},
   "outputs": [
    {
     "data": {
      "text/plain": [
       "set()"
      ]
     },
     "execution_count": 1,
     "metadata": {},
     "output_type": "execute_result"
    }
   ],
   "source": [
    "my_set = set()\n",
    "my_set"
   ]
  },
  {
   "cell_type": "code",
   "execution_count": 2,
   "metadata": {},
   "outputs": [
    {
     "data": {
      "text/plain": [
       "{1, 2, 3, 4, 5}"
      ]
     },
     "execution_count": 2,
     "metadata": {},
     "output_type": "execute_result"
    }
   ],
   "source": [
    "my_set = {1,2,3,4,5}\n",
    "my_set"
   ]
  },
  {
   "cell_type": "markdown",
   "metadata": {},
   "source": [
    "One of the unique properties of sets is that they automatically deduplicate values.  Set elements must be unique, so duplicate values are dropped if they exist more than once upon set creation.  This property highlights the fact that sets are unordered collections."
   ]
  },
  {
   "cell_type": "code",
   "execution_count": 3,
   "metadata": {},
   "outputs": [
    {
     "data": {
      "text/plain": [
       "{1, 2, 3, 4, 5, 6, 7, 'a', 'b', 'y'}"
      ]
     },
     "execution_count": 3,
     "metadata": {},
     "output_type": "execute_result"
    }
   ],
   "source": [
    "my_set = {1,1,2,'a',3,4,'b',1,5,7,'a',6,3,5,1,'y',1,1,1}\n",
    "my_set"
   ]
  },
  {
   "cell_type": "markdown",
   "metadata": {},
   "source": [
    "We know that each value is unique in this set, but which item of the duplicates were actually included?"
   ]
  },
  {
   "cell_type": "markdown",
   "metadata": {},
   "source": [
    "#### Set Methods"
   ]
  },
  {
   "cell_type": "markdown",
   "metadata": {},
   "source": [
    "To add elements to a set, we use the `.add()` method. To remove individual elements from a set, use the `.remove()` method.\n",
    "\n",
    "| Syntax               | Description                               |\n",
    "|:----------------------:|-------------------------------------------|\n",
    "|`set_variable.add(elem)`  | Adds `elem` to the set |\n",
    "|`set_variable.remove(elem)`| Removes `elem` from the set |\n",
    "|`set_variable.pop()`| Removes and returns a random item from the set |"
   ]
  },
  {
   "cell_type": "code",
   "execution_count": 4,
   "metadata": {},
   "outputs": [
    {
     "data": {
      "text/plain": [
       "{1, 2, 3, 4, 5, 500, 6, 7, 'a', 'b', 'y'}"
      ]
     },
     "execution_count": 4,
     "metadata": {},
     "output_type": "execute_result"
    }
   ],
   "source": [
    "my_set.add(500)\n",
    "my_set"
   ]
  },
  {
   "cell_type": "code",
   "execution_count": 5,
   "metadata": {},
   "outputs": [
    {
     "data": {
      "text/plain": [
       "{1, 2, 3, 4, 5, 6, 7, 'a', 'b', 'y'}"
      ]
     },
     "execution_count": 5,
     "metadata": {},
     "output_type": "execute_result"
    }
   ],
   "source": [
    "my_set.remove(500)\n",
    "my_set"
   ]
  },
  {
   "cell_type": "markdown",
   "metadata": {},
   "source": [
    "The `pop()` command removes and returns an arbitrary item from the set. You cannot specify an index with `pop()` because sets are unordered."
   ]
  },
  {
   "cell_type": "code",
   "execution_count": 6,
   "metadata": {},
   "outputs": [
    {
     "name": "stdout",
     "output_type": "stream",
     "text": [
      "1 {2, 3, 4, 5, 6, 7, 'a', 'b', 'y'}\n"
     ]
    }
   ],
   "source": [
    "item = my_set.pop()\n",
    "print(item, my_set)"
   ]
  },
  {
   "cell_type": "markdown",
   "metadata": {},
   "source": [
    "Python sets support specific mathematical operations.  These concepts can be illustrated with venn diagrams you've probably seen in math class.\n",
    "\n",
    "<img src=\"../GRAPHICS/venn_diagram.png\" height=\"400px\">"
   ]
  },
  {
   "cell_type": "markdown",
   "metadata": {},
   "source": [
    "| Code| Mathematical Operation  | Description                       | Graphical Representation   |\n",
    "|:----------------------:|:-----:|:------------------------------:|:----------------------------:|\n",
    "| `a.intersection(b)`|Intersection | Returns elements that appear in both set `a` and set `b`| <img src=\"../GRAPHICS/intersection.png\" width=\"40%\">|\n",
    "| `a.union(b)`|Union| Returns elements in either set `a` or set `b` |<img src=\"../GRAPHICS/Union.png\" width=\"40%\">|\n",
    "|`a.difference(b)` |Left Set Difference|Returns elements from set `a` that are not in set `b`|<img src=\"../GRAPHICS/left_difference.png\" width=\"40%\"> |\n",
    "|`b.difference(a)`|Right Set Difference|Returns elements from set `b` that are not in set `a`|<img src=\"../GRAPHICS/right_difference.png\" width=\"40%\"> |\n",
    "| `a.symmetric_difference(b)`|Symmetric Set Difference| Returns elements in set `a` or set `b`, but not in both|<img src=\"../GRAPHICS/symm_difference.png\" width=\"40%\">|"
   ]
  },
  {
   "cell_type": "code",
   "execution_count": 8,
   "metadata": {},
   "outputs": [
    {
     "data": {
      "text/plain": [
       "{2, 3, 4, 45, 5, 6, 67, 7, 9, 'a', 'b', 'q', 'y'}"
      ]
     },
     "execution_count": 8,
     "metadata": {},
     "output_type": "execute_result"
    }
   ],
   "source": [
    "my_set.union(my_other_set)"
   ]
  },
  {
   "cell_type": "code",
   "execution_count": 9,
   "metadata": {},
   "outputs": [
    {
     "data": {
      "text/plain": [
       "{2, 5, 6, 7, 'b', 'y'}"
      ]
     },
     "execution_count": 9,
     "metadata": {},
     "output_type": "execute_result"
    }
   ],
   "source": [
    "my_set.difference(my_other_set)"
   ]
  },
  {
   "cell_type": "code",
   "execution_count": 10,
   "metadata": {},
   "outputs": [
    {
     "data": {
      "text/plain": [
       "{2, 45, 5, 6, 67, 7, 9, 'b', 'q', 'y'}"
      ]
     },
     "execution_count": 10,
     "metadata": {},
     "output_type": "execute_result"
    }
   ],
   "source": [
    "my_set.symmetric_difference(my_other_set)"
   ]
  },
  {
   "cell_type": "code",
   "execution_count": 7,
   "metadata": {},
   "outputs": [
    {
     "name": "stdout",
     "output_type": "stream",
     "text": [
      "{2, 3, 4, 5, 6, 7, 'a', 'b', 'y'}\n",
      "{'a', 67, 3, 4, 'q', 9, 45}\n"
     ]
    },
    {
     "data": {
      "text/plain": [
       "{3, 4, 'a'}"
      ]
     },
     "execution_count": 7,
     "metadata": {},
     "output_type": "execute_result"
    }
   ],
   "source": [
    "print(my_set)\n",
    "my_other_set = {3,67,45,4,9,'q','a'}\n",
    "print(my_other_set)\n",
    "my_set.intersection(my_other_set)"
   ]
  },
  {
   "cell_type": "markdown",
   "metadata": {},
   "source": [
    "For example, lets take a look at a set of employees.  Who still needs to complete their annual training?  We could take the difference between the two sets and find out."
   ]
  },
  {
   "cell_type": "code",
   "execution_count": 11,
   "metadata": {},
   "outputs": [],
   "source": [
    "employees = {'Maxim', 'Monica', 'Martez', 'Ala',\n",
    "             'Cammie', 'Amari', 'Toccara', 'Kassandra',\n",
    "             'Rosalinda', 'Siddie', 'Luigi', 'Pepper',\n",
    "             'Damaris', 'Harrell', 'Earl', 'Antoine',\n",
    "             'Marlene', 'Johnathan', 'Ivonne', 'Jon',\n",
    "             'Whitney', 'Heidy', 'Terra', 'Jamaal',\n",
    "             'Jeanie', 'Kyrie', 'Sheila', 'Gunda',\n",
    "             'Gretta', 'Cornell', 'Lizzie', 'Romona',\n",
    "             'Tyrek', 'Vilma', 'Adison', 'Saniya',\n",
    "             'Manda', 'Talan', 'Loring', 'Taraji',\n",
    "             'Tracy', 'Felicie', 'Jess', 'Coraima',\n",
    "             'Aliza', 'Oris', 'Edwina', 'Easter',\n",
    "             'Haskell', 'Mandie', 'Garret', 'Skylar',\n",
    "             'Lindsey', 'Gurney', 'Kanisha', 'Webb',\n",
    "             'Boss', 'Shreya', 'Arron', 'Earley',\n",
    "             'Linnea', 'Page', 'Elouise', 'Shirleen',\n",
    "             'Nanna', 'Callie', 'Tammy', 'Theodocia',\n",
    "             'Kiley', 'Eddy', 'Ida', 'Hampton', 'Jaheem',\n",
    "             'Aja', 'Carlyn'}\n",
    "\n",
    "completed_training = {'Gunda', 'Jess', 'Page', 'Siddie', 'Kassandra', 'Theodocia', 'Ida', 'Heidy', 'Monica', 'Aliza', 'Cammie', 'Carlyn', 'Taraji'}"
   ]
  },
  {
   "cell_type": "code",
   "execution_count": null,
   "metadata": {},
   "outputs": [],
   "source": [
    "employees.difference(completed_training)"
   ]
  },
  {
   "cell_type": "markdown",
   "metadata": {},
   "source": [
    "<hr>"
   ]
  },
  {
   "cell_type": "markdown",
   "metadata": {},
   "source": [
    "### Dictionaries\n",
    "\n",
    "* [Python: Dictionaries](https://docs.python.org/3/tutorial/datastructures.html#dictionaries)\n",
    "\n",
    "Dictionaries are mutable, unordered collections of key-value pairs. Unlike sequences, which are indexed, dictionaries are accessible by their keys, which can be of any immutable type. Strings, numbers, and tuples can all serve as keys in a dictionary.  The values can be any data type (even other dictionaries or lists).\n",
    "\n",
    "Dictionaries share many properties with sets:\n",
    "* Both sets and dictionaries are unordered\n",
    "* Both sets and dictionaries are wrapped in curly braces\n",
    "* Sets must have unique entries, dictionaries must have unique keys\n",
    "\n",
    "A driver's license is a great example of a common object in our daily lives that uses key-value pairs. Each data point is linked to a key that describes what it is. \n",
    "\n",
    "<img src=\"../GRAPHICS/license.png\" width=\"35%\">"
   ]
  },
  {
   "cell_type": "markdown",
   "metadata": {},
   "source": [
    "#### Creating Dictionaries\n",
    "\n",
    "Like sets, dictionaries use curly braces as wrappers. However, a pair of empty curly braces gets interpreted as an empty dictionary, not a set. We can also set up a dictionary that's populated with entries. Note that each entry in the dictionary below is a pair of values separated by a colon (`:`). To the left of the colon is the entry's _key_, and to the right is the _value_. Dictionary entries are always structured like this: `key: value`, with commas separating each `key: value` pair."
   ]
  },
  {
   "cell_type": "code",
   "execution_count": 14,
   "metadata": {},
   "outputs": [
    {
     "data": {
      "text/plain": [
       "{}"
      ]
     },
     "execution_count": 14,
     "metadata": {},
     "output_type": "execute_result"
    }
   ],
   "source": [
    "empty_dictionary = {}\n",
    "empty_dictionary"
   ]
  },
  {
   "cell_type": "code",
   "execution_count": 15,
   "metadata": {},
   "outputs": [
    {
     "data": {
      "text/plain": [
       "{'hello': 'bonjour', 'world': 'monde', 'thank you': 'merci'}"
      ]
     },
     "execution_count": 15,
     "metadata": {},
     "output_type": "execute_result"
    }
   ],
   "source": [
    "english_french_dictionary = {'hello': 'bonjour',\n",
    "                             'world': 'monde',\n",
    "                             'thank you': 'merci'}\n",
    "english_french_dictionary"
   ]
  },
  {
   "cell_type": "markdown",
   "metadata": {},
   "source": [
    "You can access a dictionary's values using its keys.  Like with python lists or tuples, Python usus square brackets in the syntax but index is not used to access the data inside a dictionary.  Instead, the key is passed in.  Since dictionaries are mutable, we can also add and reassign a value using the key.\n",
    "\n",
    "| Syntax                 | Description                               |\n",
    "|:----------------------:|-------------------------------------------|\n",
    "| `dict_variable[key]` |Accesses the item at key `[key]` |\n",
    "| `dict_variable[key] = \"what I want\"` |Sets the item at key `[key]` to  `\"what I want` |\n",
    "\n",
    "> NOTE: Dictionary keys can be any immutable data type."
   ]
  },
  {
   "cell_type": "code",
   "execution_count": 16,
   "metadata": {},
   "outputs": [
    {
     "data": {
      "text/plain": [
       "'bonjour'"
      ]
     },
     "execution_count": 16,
     "metadata": {},
     "output_type": "execute_result"
    }
   ],
   "source": [
    "english_french_dictionary[\"hello\"]"
   ]
  },
  {
   "cell_type": "markdown",
   "metadata": {},
   "source": [
    "Here we use an assignment operator to create a new entry into the dictionary"
   ]
  },
  {
   "cell_type": "code",
   "execution_count": 17,
   "metadata": {},
   "outputs": [
    {
     "data": {
      "text/plain": [
       "{'hello': 'bonjour',\n",
       " 'world': 'monde',\n",
       " 'thank you': 'merci',\n",
       " 'good bye': 'au revoir'}"
      ]
     },
     "execution_count": 17,
     "metadata": {},
     "output_type": "execute_result"
    }
   ],
   "source": [
    "english_french_dictionary['good bye'] = 'au revoir'\n",
    "english_french_dictionary"
   ]
  },
  {
   "cell_type": "markdown",
   "metadata": {},
   "source": [
    "We can overwrite an existing value in a dictionary as well."
   ]
  },
  {
   "cell_type": "code",
   "execution_count": 18,
   "metadata": {},
   "outputs": [
    {
     "data": {
      "text/plain": [
       "{'hello': ['bonjour', 'salut'],\n",
       " 'world': 'monde',\n",
       " 'thank you': 'merci',\n",
       " 'good bye': 'au revoir'}"
      ]
     },
     "execution_count": 18,
     "metadata": {},
     "output_type": "execute_result"
    }
   ],
   "source": [
    "english_french_dictionary['hello'] = ['bonjour', 'salut']\n",
    "english_french_dictionary"
   ]
  },
  {
   "cell_type": "code",
   "execution_count": 20,
   "metadata": {},
   "outputs": [
    {
     "data": {
      "text/plain": [
       "'bonjour'"
      ]
     },
     "execution_count": 20,
     "metadata": {},
     "output_type": "execute_result"
    }
   ],
   "source": [
    "english_french_dictionary['hello'][0]"
   ]
  },
  {
   "cell_type": "markdown",
   "metadata": {},
   "source": [
    "We can delete a key/value pair from a dictionary using the `del` keyword.  As with all operations with Python, there is not confirmation and the entry is completely erased from memory."
   ]
  },
  {
   "cell_type": "code",
   "execution_count": 21,
   "metadata": {},
   "outputs": [
    {
     "data": {
      "text/plain": [
       "{'hello': ['bonjour', 'salut'], 'thank you': 'merci', 'good bye': 'au revoir'}"
      ]
     },
     "execution_count": 21,
     "metadata": {},
     "output_type": "execute_result"
    }
   ],
   "source": [
    "del english_french_dictionary[\"world\"]\n",
    "english_french_dictionary"
   ]
  },
  {
   "cell_type": "markdown",
   "metadata": {},
   "source": [
    "The `keys()` and `values()` methods are used to see just the keys or values of a dictionary (we can use these methods for membership testing).  These methods return _list-like_ objects."
   ]
  },
  {
   "cell_type": "code",
   "execution_count": 22,
   "metadata": {},
   "outputs": [
    {
     "data": {
      "text/plain": [
       "dict_keys(['hello', 'thank you', 'good bye'])"
      ]
     },
     "execution_count": 22,
     "metadata": {},
     "output_type": "execute_result"
    }
   ],
   "source": [
    "english_french_dictionary.keys()"
   ]
  },
  {
   "cell_type": "code",
   "execution_count": 23,
   "metadata": {},
   "outputs": [
    {
     "data": {
      "text/plain": [
       "dict_values([['bonjour', 'salut'], 'merci', 'au revoir'])"
      ]
     },
     "execution_count": 23,
     "metadata": {},
     "output_type": "execute_result"
    }
   ],
   "source": [
    "english_french_dictionary.values()"
   ]
  },
  {
   "cell_type": "markdown",
   "metadata": {},
   "source": [
    "We can see the leys and values together in a list-list object of tuples with the `items()` method (we will use these methods later when we go over iteration)"
   ]
  },
  {
   "cell_type": "code",
   "execution_count": 24,
   "metadata": {},
   "outputs": [
    {
     "data": {
      "text/plain": [
       "dict_items([('hello', ['bonjour', 'salut']), ('thank you', 'merci'), ('good bye', 'au revoir')])"
      ]
     },
     "execution_count": 24,
     "metadata": {},
     "output_type": "execute_result"
    }
   ],
   "source": [
    "english_french_dictionary.items()"
   ]
  },
  {
   "cell_type": "markdown",
   "metadata": {},
   "source": [
    "#### Dictionary Methods\n",
    "\n",
    "| Syntax               | Description                               |\n",
    "|:----------------------:|-------------------------------------------|\n",
    "|`dict.get(key, default)`| Get the value associated with a key, or a default value if the key is not present.|\n",
    "|`dict.pop(key, default)`| Remove the item with a specific key and return its value, or a default value if the key is not present.|\n",
    "|`dict.popitem()`| Remove and return an arbitrary key-value pair.|\n",
    "|`dict.update(other_dict)`| Update the dictionary with key-value pairs from another dictionary.|\n",
    "|`dict.clear()`| Remove all items from the dictionary.|\n"
   ]
  },
  {
   "cell_type": "code",
   "execution_count": 27,
   "metadata": {},
   "outputs": [
    {
     "ename": "KeyError",
     "evalue": "'library'",
     "output_type": "error",
     "traceback": [
      "\u001b[0;31m---------------------------------------------------------------------------\u001b[0m",
      "\u001b[0;31mKeyError\u001b[0m                                  Traceback (most recent call last)",
      "Cell \u001b[0;32mIn[27], line 1\u001b[0m\n\u001b[0;32m----> 1\u001b[0m \u001b[43menglish_french_dictionary\u001b[49m\u001b[43m[\u001b[49m\u001b[38;5;124;43m'\u001b[39;49m\u001b[38;5;124;43mlibrary\u001b[39;49m\u001b[38;5;124;43m'\u001b[39;49m\u001b[43m]\u001b[49m\n",
      "\u001b[0;31mKeyError\u001b[0m: 'library'"
     ]
    }
   ],
   "source": [
    "english_french_dictionary['library']"
   ]
  },
  {
   "cell_type": "code",
   "execution_count": 33,
   "metadata": {},
   "outputs": [],
   "source": [
    "english_french_dictionary['hello'] = ['bonjour', 'salut']"
   ]
  },
  {
   "cell_type": "code",
   "execution_count": 31,
   "metadata": {},
   "outputs": [],
   "source": [
    "hello_popped = english_french_dictionary.pop('hello', 'Not found')"
   ]
  },
  {
   "cell_type": "code",
   "execution_count": 32,
   "metadata": {},
   "outputs": [
    {
     "data": {
      "text/plain": [
       "['bonjour', 'salut']"
      ]
     },
     "execution_count": 32,
     "metadata": {},
     "output_type": "execute_result"
    }
   ],
   "source": [
    "hello_popped"
   ]
  },
  {
   "cell_type": "code",
   "execution_count": 29,
   "metadata": {},
   "outputs": [
    {
     "data": {
      "text/plain": [
       "{'thank you': 'merci', 'good bye': 'au revoir'}"
      ]
     },
     "execution_count": 29,
     "metadata": {},
     "output_type": "execute_result"
    }
   ],
   "source": [
    "english_french_dictionary"
   ]
  },
  {
   "cell_type": "code",
   "execution_count": 26,
   "metadata": {},
   "outputs": [
    {
     "data": {
      "text/plain": [
       "'Not found'"
      ]
     },
     "execution_count": 26,
     "metadata": {},
     "output_type": "execute_result"
    }
   ],
   "source": [
    "english_french_dictionary.get('library', \"Not found\")"
   ]
  },
  {
   "cell_type": "code",
   "execution_count": 41,
   "metadata": {},
   "outputs": [],
   "source": [
    "english_french_dictionary = {\n",
    "    \"hello\": \"bonjour\",\n",
    "    \"goodbye\": \"au revoir\",\n",
    "    \"bathroom\": \"salle de bain\",\n",
    "    \"library\": \"bibliothèque\",\n",
    "    \"cookie\": \"biscuit\",\n",
    "    \"milk\": \"lait\",\n",
    "    \"green\": \"vert\",\n",
    "    \"chicken\": \"poulet\"\n",
    "}\n",
    "english_french_dictionary['hello'] = ['bonjour', 'salut']"
   ]
  },
  {
   "cell_type": "code",
   "execution_count": 42,
   "metadata": {},
   "outputs": [
    {
     "data": {
      "text/plain": [
       "{'hello': ['bonjour', 'salut'],\n",
       " 'goodbye': 'au revoir',\n",
       " 'bathroom': 'salle de bain',\n",
       " 'library': 'bibliothèque',\n",
       " 'cookie': 'biscuit',\n",
       " 'milk': 'lait',\n",
       " 'green': 'vert',\n",
       " 'chicken': 'poulet'}"
      ]
     },
     "execution_count": 42,
     "metadata": {},
     "output_type": "execute_result"
    }
   ],
   "source": [
    "english_french_dictionary"
   ]
  },
  {
   "cell_type": "code",
   "execution_count": 43,
   "metadata": {},
   "outputs": [],
   "source": [
    "new_english_french_dictionary = {\n",
    "    \"hello\": \"bonjour\",\n",
    "    \"goodbye\": \"au revoir\",\n",
    "    \"bathroom\": \"salle de bain\",\n",
    "    \"library\": \"bibliothèque\",\n",
    "    \"cookie\": \"biscuit\",\n",
    "    \"milk\": \"lait\",\n",
    "    \"green\": \"vert\",\n",
    "    \"chicken\": \"poulet\"\n",
    "}"
   ]
  },
  {
   "cell_type": "code",
   "execution_count": 44,
   "metadata": {},
   "outputs": [
    {
     "data": {
      "text/plain": [
       "{'hello': 'bonjour',\n",
       " 'goodbye': 'au revoir',\n",
       " 'bathroom': 'salle de bain',\n",
       " 'library': 'bibliothèque',\n",
       " 'cookie': 'biscuit',\n",
       " 'milk': 'lait',\n",
       " 'green': 'vert',\n",
       " 'chicken': 'poulet'}"
      ]
     },
     "execution_count": 44,
     "metadata": {},
     "output_type": "execute_result"
    }
   ],
   "source": [
    "english_french_dictionary.update(new_english_french_dictionary)\n",
    "english_french_dictionary"
   ]
  },
  {
   "cell_type": "code",
   "execution_count": 37,
   "metadata": {},
   "outputs": [
    {
     "data": {
      "text/plain": [
       "{'goodbye': 'au revoir',\n",
       " 'bathroom': 'salle de bain',\n",
       " 'library': 'bibliothèque',\n",
       " 'cookie': 'biscuit',\n",
       " 'milk': 'lait',\n",
       " 'green': 'vert',\n",
       " 'chicken': 'poulet'}"
      ]
     },
     "execution_count": 37,
     "metadata": {},
     "output_type": "execute_result"
    }
   ],
   "source": [
    "english_french_dictionary.pop(\"hello\")\n",
    "english_french_dictionary"
   ]
  },
  {
   "cell_type": "code",
   "execution_count": 38,
   "metadata": {},
   "outputs": [
    {
     "data": {
      "text/plain": [
       "'Not Found'"
      ]
     },
     "execution_count": 38,
     "metadata": {},
     "output_type": "execute_result"
    }
   ],
   "source": [
    "english_french_dictionary.get('hello', \"Not Found\")"
   ]
  },
  {
   "cell_type": "code",
   "execution_count": 39,
   "metadata": {},
   "outputs": [
    {
     "data": {
      "text/plain": [
       "('chicken', 'poulet')"
      ]
     },
     "execution_count": 39,
     "metadata": {},
     "output_type": "execute_result"
    }
   ],
   "source": [
    "english_french_dictionary.popitem()"
   ]
  },
  {
   "cell_type": "markdown",
   "metadata": {},
   "source": [
    "### Common Operations Across Data Structures\n",
    "\n",
    "The functions in the table below also apply to sets and dictionaries. When called on dictionaries, these functions consider only the keys. Because of this, calling `max()` on a dictionary would give you its largest (highest value) key. Keep in mind also that `sorted()` will always return a list, even if you call it on a set or dictionary.\n",
    "\n",
    "| Syntax               | Description                               |\n",
    "|:----------------------:|-------------------------------------------|\n",
    "|`max(collection)`    | Returns the maximum value contained in the collection |\n",
    "|`min(collection)`    | Returns the minimum value contained in the collection |\n",
    "|`sum(collection)`    | Returns the sum of the collection's elements (only works if all items are numeric) |\n",
    "|`len(collection)`    | Returns the number of elements in the collection |\n",
    "|`sorted(collection)` | Returns a sorted list of the collections elements |"
   ]
  },
  {
   "cell_type": "code",
   "execution_count": 45,
   "metadata": {},
   "outputs": [
    {
     "data": {
      "text/plain": [
       "'Z16'"
      ]
     },
     "execution_count": 45,
     "metadata": {},
     "output_type": "execute_result"
    }
   ],
   "source": [
    "my_set = {'F15', 'P17', 'T18', 'E00', 'A18', 'D13', 'D19', 'Z16', 'K17', 'X16', 'V13', 'U13'}\n",
    "\n",
    "max(my_set)"
   ]
  },
  {
   "cell_type": "code",
   "execution_count": 46,
   "metadata": {},
   "outputs": [
    {
     "data": {
      "text/plain": [
       "'A18'"
      ]
     },
     "execution_count": 46,
     "metadata": {},
     "output_type": "execute_result"
    }
   ],
   "source": [
    "my_set = {'F15', 'P17', 'T18', 'E00', 'A18', 'D13', 'D19', 'Z16', 'K17', 'X16', 'V13', 'U13'}\n",
    "\n",
    "min(my_set)"
   ]
  },
  {
   "cell_type": "code",
   "execution_count": 48,
   "metadata": {},
   "outputs": [
    {
     "ename": "TypeError",
     "evalue": "unsupported operand type(s) for +: 'int' and 'str'",
     "output_type": "error",
     "traceback": [
      "\u001b[0;31m---------------------------------------------------------------------------\u001b[0m",
      "\u001b[0;31mTypeError\u001b[0m                                 Traceback (most recent call last)",
      "Cell \u001b[0;32mIn[48], line 3\u001b[0m\n\u001b[1;32m      1\u001b[0m my_list \u001b[38;5;241m=\u001b[39m [\u001b[38;5;241m45\u001b[39m, \u001b[38;5;241m42\u001b[39m, \u001b[38;5;241m57\u001b[39m, \u001b[38;5;241m55\u001b[39m, \u001b[38;5;241m46\u001b[39m, \u001b[38;5;241m60\u001b[39m, \u001b[38;5;241m50\u001b[39m, \u001b[38;5;241m44\u001b[39m, \u001b[38;5;241m40\u001b[39m, \u001b[38;5;241m43\u001b[39m, \u001b[38;5;241m52\u001b[39m, \u001b[38;5;241m54\u001b[39m, \u001b[38;5;124m'\u001b[39m\u001b[38;5;124mA\u001b[39m\u001b[38;5;124m'\u001b[39m]\n\u001b[0;32m----> 3\u001b[0m \u001b[38;5;28;43msum\u001b[39;49m\u001b[43m(\u001b[49m\u001b[43mmy_list\u001b[49m\u001b[43m)\u001b[49m\n",
      "\u001b[0;31mTypeError\u001b[0m: unsupported operand type(s) for +: 'int' and 'str'"
     ]
    }
   ],
   "source": [
    "my_list = [45, 42, 57, 55, 46, 60, 50, 44, 40, 43, 52, 54]\n",
    "\n",
    "sum(my_list)"
   ]
  },
  {
   "cell_type": "code",
   "execution_count": 49,
   "metadata": {},
   "outputs": [
    {
     "data": {
      "text/plain": [
       "10"
      ]
     },
     "execution_count": 49,
     "metadata": {},
     "output_type": "execute_result"
    }
   ],
   "source": [
    "my_dict = {'A': 0, 'B': 1, 'C': 2, 'D': 3, 'E': 4, 'F': 5, 'G': 6, 'H': 7, 'I': 8, 'J': 9}\n",
    "\n",
    "len(my_dict)"
   ]
  },
  {
   "cell_type": "code",
   "execution_count": 50,
   "metadata": {},
   "outputs": [
    {
     "data": {
      "text/plain": [
       "['J', 'I', 'H', 'G', 'F', 'E', 'D', 'C', 'B', 'A']"
      ]
     },
     "execution_count": 50,
     "metadata": {},
     "output_type": "execute_result"
    }
   ],
   "source": [
    "my_dict = {'A': 0, 'B': 1, 'C': 2, 'D': 3, 'E': 4, 'F': 5, 'G': 6, 'H': 7, 'I': 8, 'J': 9}\n",
    "\n",
    "sorted(my_dict, reverse=True)"
   ]
  },
  {
   "cell_type": "markdown",
   "metadata": {},
   "source": [
    "### Conclusion\n",
    "\n",
    "In this lecture, you've explored the power of dictionaries and sets in Python, along with their built-in methods. Dictionaries provide a flexible way to manage data using key-value pairs, while sets offer efficient storage for unique elements. Understanding when and how to use these data structures, as well as their methods, is essential for effective Python programming.\n",
    "\n",
    "Continue to practice and apply these concepts in your Python projects to become proficient in working with dictionaries and sets.\n",
    "\n",
    "This lecture comprehensively covers the built-in methods of dictionaries and sets in Python, providing explanations and code examples for each method."
   ]
  },
  {
   "cell_type": "code",
   "execution_count": 53,
   "metadata": {},
   "outputs": [
    {
     "name": "stdout",
     "output_type": "stream",
     "text": [
      "{'t': 4, 'h': 2, 'i': 7, 's': 4, 'a': 4, 'w': 1, 'e': 4, 'o': 4, 'm': 2, 'l': 1, 'r': 2, 'n': 4, 'g': 1, 'b': 1, 'u': 1, 'p': 1, 'y': 1, 'd': 1, 'c': 1}\n"
     ]
    }
   ],
   "source": [
    "# Write a function that takes in a string of lowercase\n",
    "# characters and returns an object containing the \n",
    "# count for each letter in the string.\n",
    "\n",
    "def count_characters(str):\n",
    "    result = {}\n",
    "    # loop over str and look at each letter\n",
    "    # see if the letter exists in the dictionary as a key\n",
    "        # if it does, I want to increment the value\n",
    "        # if it doesnt, I want to establish the letter as a key and assign the value to 1\n",
    "    # return the result\n",
    "    for letter in str:\n",
    "        letter_check = result.get(letter, None)\n",
    "        if not letter_check:\n",
    "            result[letter] = 1\n",
    "        else:\n",
    "            result[letter] += 1\n",
    "    return result\n",
    "\n",
    "# print(count_characters('bdacdaa') == { 'b': 1, 'd': 2, 'a': 3, 'c': 1 })\n",
    "# print(count_characters('bdacdaa'))\n",
    "print(count_characters('sdflkgjnadfjnafljadfbjn'))\n",
    "# print(count_characters('erognadfbojnaegojn'))\n",
    "# print(count_characters('thisisawesomeimlearningaboutpythondictionaries'))"
   ]
  },
  {
   "cell_type": "markdown",
   "metadata": {},
   "source": [
    "### Assignments\n",
    "\n",
    "- [Number of Characters](https://replit.com/@cpadmin/Number-of-Characters-Python#main.py)\n",
    "- [Car Trip](https://replit.com/@cpadmin/Car-Trip-Python#main.py)\n",
    "- [How much will you spend](https://replit.com/@cpadmin/How-much-will-you-spend#main.py)\n",
    "- [Employee Data](https://replit.com/@cpadmin/Employee-Data-Python#main.py)"
   ]
  }
 ],
 "metadata": {
  "kernelspec": {
   "display_name": "Python 3",
   "language": "python",
   "name": "python3"
  },
  "language_info": {
   "codemirror_mode": {
    "name": "ipython",
    "version": 3
   },
   "file_extension": ".py",
   "mimetype": "text/x-python",
   "name": "python",
   "nbconvert_exporter": "python",
   "pygments_lexer": "ipython3",
   "version": "3.11.9"
  }
 },
 "nbformat": 4,
 "nbformat_minor": 2
}
