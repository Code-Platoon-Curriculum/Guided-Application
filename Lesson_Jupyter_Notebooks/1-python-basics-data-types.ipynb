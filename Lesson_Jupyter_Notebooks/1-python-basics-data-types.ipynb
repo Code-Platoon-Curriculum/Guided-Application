{
 "cells": [
  {
   "cell_type": "markdown",
   "metadata": {},
   "source": [
    "Move Problem Solving Strategies to Pre-Course"
   ]
  },
  {
   "cell_type": "markdown",
   "metadata": {},
   "source": [
    "# Python Basics and Problem Solving Strategies for Python Developers <a id=\"title\"></a>\n",
    "\n",
    "## Introduction\n",
    "\n",
    "Welcome to the lesson on Python basic concepts and problem-solving strategies for Python developers. in this lesson, we are going to introduce some of the features and concepts of the Python language. In addition, we will go over the strategies that we use as developers to effectively produce solutions. Problem-solving is a fundamental skill. Whether you're building web applications, data analysis tools, or machine learning models, you'll encounter complex problems that require creative and effective solutions. This foundational lesson will be a framework designed to change the way to think about a problem."
   ]
  },
  {
   "cell_type": "markdown",
   "metadata": {},
   "source": [
    "## Table of Contents \n",
    "\n",
    "- [Python Basics and Problem Solving Strategies for Python Developers](#title)\n",
    "  - [Introduction](#introduction)\n",
    "  - [Table of Contents](#table-of-contents)\n",
    "  - [Python Basics](#python-basics)\n",
    "    - [Python Vocabulary](#python-vocabulary)\n",
    "    - [Reserved Keywords](#reserved-keywords)\n",
    "    - [Built-in Methods](#built-in-methods)\n",
    "  - [Problem Solving Stategies](#problem-solving-strategies)\n",
    "    - [Understanding the Problem](#understanding-the-problem)\n",
    "      - [Problem Statement Analysis](#problem-statement-analysis)\n",
    "      - [Identifying Constraints and Requirements](#identifying-constraints-and-requirements)\n",
    "    - [Decomposition](#decomposition)\n",
    "      - [Breaking Down Complex Problems](#breaking-down-complex-problems)\n",
    "      - [Identifying Relevant Data and Processes](#identifying-relevant-data-and-processes)\n",
    "    - [Algorithm Design](#algorithm-design)\n",
    "      - [Selecting Appropriate Data Structures](#selecting-appropriate-data-structures)\n",
    "      - [Creating Algorithms to Solve Subproblems](#creating-algorithms-to-solve-subproblems)\n",
    "    - [Coding and Debugging](#coding-and-debugging)\n",
    "      - [Translating Your Algorithm into Python Code](#translating-your-algorithm-into-python-code)\n",
    "      - [Strategies for Debugging and Troubleshooting](#strategies-for-debugging-and-troubleshooting)\n",
    "    - [Documentation and Collaboration](#documentation-and-collaboration)\n",
    "      - [Writing Clear and Concise Code Comments](#writing-clear-and-concise-code-comments)\n",
    "      - [Collaborating Effectively with Team Members](#collaborating-effectively-with-team-members)\n",
    "    - [Optimization](#optimization)\n",
    "      - [Analyzing Code for Performance Bottlenecks](#analyzing-code-for-performance-bottlenecks)\n",
    "    - [Iteration and Refinement](#iteration-and-refinement)\n",
    "      - [Continuously Improving Your Solution](#continuously-improving-your-solution)\n",
    "  - [Hard-Coding vs. Programmatic Coding](#hard-coding-vs-programmatic-coding)\n",
    "  - [Conclusion](#conclusion)"
   ]
  },
  {
   "cell_type": "markdown",
   "metadata": {},
   "source": [
    "## Python Basics <a id=\"python-basics\"></a>\n",
    "\n",
    "\n",
    "### Python Vocabulary\n"
   ]
  },
  {
   "cell_type": "markdown",
   "metadata": {},
   "source": [
    "* **Syntax** - Syntax refers to how code is written.  That means the spacing, use of punctuation or characters, use of curly braces, and/or indentation.  Python's syntax, while easily readable compared to other languages, is still strict.  A single syntax error in code will cause a Python program to execute completely differently or trigger an error, which halts code execution."
   ]
  },
  {
   "cell_type": "markdown",
   "metadata": {},
   "source": [
    "* **Variable** - A key component to any programming language, a variable is a stand-in for a certain piece of data, whether it is a static data type or the result of a function.  Like you learned in Algebra with \"x\" as the usual stand-in for a value, variables in Python work the same way but are more powerful.  A variable name in Python will typically be a lowercase word or series of words separated by the underscore character (`_`).  We don't want to use single letters or cryptic words for variables as it is considered bad practice (modern code can contain thousands of variables); it is best practice to be _descriptive_.\n",
    "  \n",
    "  Variables are created or _assigned_ with the assignment operator or `=`.  Unlike you see in math where equations use `=` to illustrate equality, in python a single `=` is used to assign variables while `==` is used to compare things or check for equality.  "
   ]
  },
  {
   "cell_type": "code",
   "execution_count": null,
   "metadata": {},
   "outputs": [],
   "source": [
    "my_variable = 25"
   ]
  },
  {
   "cell_type": "markdown",
   "metadata": {},
   "source": [
    "* **Comment** - Typically preceded in a code block with `#`, a comment is text ignored by the computer that we can use to provide additional information to ourselves or other programmers about a certain section of code."
   ]
  },
  {
   "cell_type": "code",
   "execution_count": null,
   "metadata": {},
   "outputs": [],
   "source": [
    "# This line will not run\n",
    "my_list = [1,2,3,4,5] # <--- Everything left of the '#' will be executed\n",
    "print(my_list)"
   ]
  },
  {
   "cell_type": "markdown",
   "metadata": {},
   "source": [
    "* **Function** or **Method** - Functions and methods can be thought of as little programs or apps.  they take specified input (nothing can be an input...), do some action, and then usually provide an output or \"return\" something.\n",
    "\n",
    "  Functions are first _defined_, which means they are written out with all the included code inside, and then they are _called_ with the specific inputs, if any, to be executed."
   ]
  },
  {
   "cell_type": "code",
   "execution_count": null,
   "metadata": {},
   "outputs": [],
   "source": [
    "# Function DEFINED here\n",
    "def find_name(target_name, input_data):\n",
    "    present = False\n",
    "    name_location = input_data.find(target_name)\n",
    "    if name_location != -1:\n",
    "        present = True\n",
    "    return present\n",
    "\n",
    "long_string_of_data = \"Jim Wallace, Bill Smith, Frank Scott, Deborah Randall, Willie Nelson, Kevin Zhang, Reah Nelson, Beth Doran, Aaron Wood, Chance Rooney, Jamal Freeman, Ron Swanson\"\n",
    "\n",
    "# Function CALLED here\n",
    "find_name(\"Aaron Wood\", long_string_of_data)"
   ]
  },
  {
   "cell_type": "markdown",
   "metadata": {},
   "source": [
    "* **Argument** or **Parameter** - The technical term for the \"input\" to a function.  in the example above, the parameters are `target_name` and `input_data`"
   ]
  },
  {
   "cell_type": "markdown",
   "metadata": {},
   "source": [
    "* **Library** or **Module** - A library is a collection of code that defines certain methods and also could define the nature of special data types.  For example, There is a `datetime` library that defines the behavior of `datetime` objects made to calculate or track dates or time passage.  Libraries are imported at the top of a python file and once the import statement is read, the methods in that library are able to be accessed."
   ]
  },
  {
   "cell_type": "markdown",
   "metadata": {},
   "source": [
    "### Reserved Keywords\n",
    "<a name=\"reserved-keywords\"></a>\n",
    "\n",
    "* [Python: Keywords](https://docs.python.org/3/library/keyword.html) \n",
    "\n",
    "These are special words that Python already recognizes for special use cases and cannot be used, or re-assigned as a variable name.  In an IDE such as a Jupyter Notebook, they usually have some sort of special formatting that gives a visual cue.  See the example below for Python reserved keywords."
   ]
  },
  {
   "cell_type": "code",
   "execution_count": null,
   "metadata": {},
   "outputs": [],
   "source": [
    "# reserved Python keywords - run this cell to see all Python keywords\n",
    "import keyword\n",
    "\n",
    "print(keyword.kwlist)\n"
   ]
  },
  {
   "cell_type": "markdown",
   "metadata": {},
   "source": [
    "### Built-in Methods\n",
    "\n",
    "\n",
    "* [Python: Built-in Functions](https://docs.python.org/3/library/functions.html)\n",
    "  \n",
    "Some words have a special appearance when presented in an IDE such as a special color, or _italics_. They will also have `()` or `(some_parameter)` following the word(s).  these are examples of built-in methods.  Built-in methods are the exact same as methods (or functions) that you write yourself, but they are in the code behind the scenes.  You just have to call them.  The most prominent built-in method that you have already seen (in the cell above) is the `print()` method.  In Python source code, there is a function written called `print()` that takes a parameter and its purpose is to present whatever the parameter is as the output. \n",
    "\n",
    "Just like you would call `find_name(\"name\")` in the function defined above and use the output, you call `print(whatever_you_want)` to show whatever you want!"
   ]
  },
  {
   "cell_type": "markdown",
   "metadata": {},
   "source": [
    "## Problem Solving Strategies\n",
    "\n",
    "\n",
    "### Understanding the Problem\n",
    "\n",
    "\n",
    "#### Problem Statement Analysis\n",
    "\n",
    "\n",
    "- Understand the problem statement thoroughly.\n",
    "- Identify input, output, and expected behavior.\n",
    "- Clarify ambiguities and constraints.\n",
    "- Create an example or use case to illustrate the problem."
   ]
  },
  {
   "cell_type": "markdown",
   "metadata": {},
   "source": [
    "#### Identifying Constraints and Requirements\n",
    "\n",
    "- Identify constraints on time, memory, or other resources.\n",
    "- Consider special requirements or edge cases.\n",
    "- Understand the problem's context and potential real-world impact."
   ]
  },
  {
   "cell_type": "markdown",
   "metadata": {},
   "source": [
    "### Decomposition\n",
    "\n",
    "#### Breaking Down Complex Problems\n",
    "\n",
    "- Divide complex problems into smaller, more manageable parts.\n",
    "- Define the main components of the problem.\n",
    "- Prioritize subproblems and plan your approach."
   ]
  },
  {
   "cell_type": "markdown",
   "metadata": {},
   "source": [
    "#### Identifying Relevant Data and Processes\n",
    "\n",
    "- Determine what data and operations are required to solve each subproblem.\n",
    "- Sketch a high-level plan of how subproblems interact.\n",
    "- Visualize the problem structure."
   ]
  },
  {
   "cell_type": "markdown",
   "metadata": {},
   "source": [
    "### Algorithm Design\n",
    "\n",
    "#### Selecting Appropriate Data Structures\n",
    "\n",
    "- Choose the right data structures to represent problem components.\n",
    "- Evaluate the trade-offs of different data structures (lists, dictionaries, sets, etc.).\n",
    "- Optimize data access and manipulation."
   ]
  },
  {
   "cell_type": "markdown",
   "metadata": {},
   "source": [
    "#### Creating Algorithms to Solve Subproblems\n",
    "\n",
    "- Design algorithms for each subproblem.\n",
    "- Use pseudocode or flowcharts to outline your approach.\n",
    "- Optimize the efficiency of your algorithms."
   ]
  },
  {
   "cell_type": "markdown",
   "metadata": {},
   "source": [
    "### Coding and Debugging\n",
    "\n",
    "#### Translating Your Algorithm into Python Code\n",
    "\n",
    "- Write clean, modular, and readable code.\n",
    "- Follow Python coding conventions (PEP 8).\n",
    "- Use meaningful variable names and comments."
   ]
  },
  {
   "cell_type": "markdown",
   "metadata": {},
   "source": [
    "#### Strategies for Debugging and Troubleshooting\n",
    "\n",
    "- Apply debugging techniques (print statements, debugging tools).\n",
    "- Handle exceptions and errors gracefully.\n",
    "- Fix issues systematically."
   ]
  },
  {
   "cell_type": "markdown",
   "metadata": {},
   "source": [
    "### Documentation and Collaboration\n",
    "\n",
    "#### Writing Clear and Concise Code Comments\n",
    "\n",
    "- Document code to make it understandable to others.\n",
    "- Describe the purpose of functions and complex logic.\n",
    "- Include usage examples when relevant."
   ]
  },
  {
   "cell_type": "markdown",
   "metadata": {},
   "source": [
    "#### Collaborating Effectively with Team Members\n",
    "\n",
    "- Communicate changes and updates with your team.\n",
    "- Use version control systems (e.g., Git) to manage code.\n",
    "- Foster a collaborative development environment."
   ]
  },
  {
   "cell_type": "markdown",
   "metadata": {},
   "source": [
    "### Optimization\n",
    "\n",
    "#### Analyzing Code for Performance Bottlenecks\n",
    "\n",
    "- Profile your code to identify performance bottlenecks.\n",
    "- Apply algorithmic and code-level optimizations.\n",
    "- Balance between time and memory efficiency."
   ]
  },
  {
   "cell_type": "markdown",
   "metadata": {},
   "source": [
    "### Iteration and Refinement\n",
    "\n",
    "#### Continuously Improving Your Solution\n",
    "\n",
    "- Seek feedback from peers and mentors.\n",
    "- Iterate on your code to make it more elegant and efficient.\n",
    "- Update documentation to reflect changes."
   ]
  },
  {
   "cell_type": "markdown",
   "metadata": {},
   "source": [
    "### Example Problem Solving Exercise\n",
    "\n",
    "In the paragraph below, write a script to identify the longest sentence by word count.\n",
    "\n",
    "```python\n",
    "'''\n",
    "Nestled in the heart of the Pacific Northwest, Washington State is a mesmerizing blend of natural wonders and urban sophistication. Its geography is a tapestry of contrasts, stretching from the rugged Pacific coastlines to the dense, verdant rainforests of the Olympic Peninsula, culminating in the majestic Cascade Mountains. Among these peaks, Mt. Rainier stands as a sentinel, an active volcano and the pinnacle of the state’s natural beauty. This diverse terrain provides a playground for adventurers and nature lovers alike, offering an array of activities from serene hiking trails and challenging ski slopes to tranquil kayaking routes. Beyond its scenic landscapes, Washington's ecological diversity is a testament to its environmental richness, hosting an array of wildlife that includes the majestic orcas navigating the Puget Sound and elusive elk roaming the shadowy rainforests. This harmonious blend of natural beauty and wildlife creates a unique backdrop for the state, inviting both residents and visitors to immerse themselves in its outdoor wonders. Washington State, through its stunning geography and vibrant ecosystems, stands as a beacon of the Pacific Northwest's splendor, embodying the essence of adventure and the tranquility of nature in one cohesive landscape.\n",
    "'''\n",
    "```"
   ]
  },
  {
   "cell_type": "code",
   "execution_count": null,
   "metadata": {},
   "outputs": [],
   "source": [
    "paragraph = \"\"\"Nestled in the heart of the Pacific Northwest, Washington State is a mesmerizing blend of natural wonders and urban sophistication. Its geography is a tapestry of contrasts, stretching from the rugged Pacific coastlines to the dense, verdant rainforests of the Olympic Peninsula, culminating in the majestic Cascade Mountains. Among these peaks, Mt. Rainier stands as a sentinel, an active volcano and the pinnacle of the state’s natural beauty. This diverse terrain provides a playground for adventurers and nature lovers alike, offering an array of activities from serene hiking trails and challenging ski slopes to tranquil kayaking routes. Beyond its scenic landscapes, Washington's ecological diversity is a testament to its environmental richness, hosting an array of wildlife that includes the majestic orcas navigating the Puget Sound and elusive elk roaming the shadowy rainforests. This harmonious blend of natural beauty and wildlife creates a unique backdrop for the state, inviting both residents and visitors to immerse themselves in its outdoor wonders. Washington State, through its stunning geography and vibrant ecosystems, stands as a beacon of the Pacific Northwest's splendor, embodying the essence of adventure and the tranquility of nature in one cohesive landscape.\"\"\"\n",
    "\n",
    "# Split the paragraph on \".\"\n",
    "sentences = paragraph.split(\".\")\n",
    "\n",
    "longest_sentence = \"\"\n",
    "\n",
    "# For each sentence...\n",
    "for sentence in sentences:\n",
    "\n",
    "    # Count words and compare to the longest sentence we've seen so far\n",
    "    if len(sentence.split(\" \")) > len(longest_sentence.split(\" \")):\n",
    "        \n",
    "        # If it's the longest, hold on to it\n",
    "        longest_sentence = sentence + \".\" \n",
    "\n",
    "# Finally, print the longest sentence and its word count\n",
    "print(longest_sentence)\n",
    "print(len(longest_sentence.split(\" \")))"
   ]
  },
  {
   "cell_type": "markdown",
   "metadata": {},
   "source": [
    "## Hard-Coding vs. Programmatic Coding\n",
    "\n",
    "Hard-coding is when you type explicit values in your code. *Programmatic coding*, is using variables and methods wherever possible. By writing programmatic code, you make your scripts useful to others as well as yourself. For example, let's say you want to plan the cost of a dinner for a large group.  You could write code like this:"
   ]
  },
  {
   "cell_type": "code",
   "execution_count": null,
   "metadata": {},
   "outputs": [],
   "source": [
    "total_dinner_cost = 50 * 8.00 + 50 * 25.00 + 50 * 4.00 + 20 * 10.00\n",
    "\n",
    "print('Number of diners:', 50)\n",
    "print('Cost of dinner:', total_dinner_cost)"
   ]
  },
  {
   "cell_type": "markdown",
   "metadata": {},
   "source": [
    "Now, we just received some late additions to our list of attendees. This requires that we adjust the code in several places, and remember what each number's significance is for the calculation.<br><br>What would happen if the price of one of the dinner options changed? What if the calculations were more complex, like more dinner options? What if another number in the calculation was the same as the number of attendees?  How could we organize the data in a more freindly way?  We could start by defining certain components as variables, like the number of diners."
   ]
  },
  {
   "cell_type": "code",
   "execution_count": null,
   "metadata": {},
   "outputs": [],
   "source": [
    "num_diners = 61\n",
    "num_alc_option = 20\n",
    "\n",
    "appetizer = num_diners * 8.00\n",
    "main_course = num_diners * 25.00\n",
    "dessert = num_diners * 4.00\n",
    "alc_drink = num_alc_option * 10.00\n",
    "\n",
    "\n",
    "total_dinner_cost = appetizer + main_course + dessert + alc_drink\n",
    "print('Number of diners:', num_diners)\n",
    "print('Cost of dinner:', total_dinner_cost)"
   ]
  },
  {
   "cell_type": "markdown",
   "metadata": {},
   "source": [
    "What if this code was just a small portion of a larger code base that calculated dinner costs per week over several venues?  Programmatic coding allows for faster changes, reduces errors, and allows for quicker integration into more complex code bases. Back to the dinner, what if we scaled it up to feed 650 people?  If we're hard-coding, we'd have to go in a swap in `650` everywhere we see the value `61` in our code above. With a script this small, it is a fairly easy task to make the changes and be confident they were all addressed.  What if this number was used in 200 other places in a larger code base?  Will you get them all?  Variables eliminate that problem."
   ]
  },
  {
   "cell_type": "markdown",
   "metadata": {},
   "source": [
    "## Conclusion\n",
    "\n",
    "In this lesson, you learned some basic Python concepts that are important to know as you start to learn the foundational pieces of programming with the language.  You also learned essential problem-solving strategies for Python developers. These skills are invaluable for tackling complex coding scenarios in real-world projects. Remember that practice, collaboration, and continuous learning are key to becoming a proficient problem solver and developer. Keep coding, keep solving, and keep building amazing things with Python!"
   ]
  },
  {
   "cell_type": "markdown",
   "metadata": {},
   "source": [
    "### Practice\n",
    "\n",
    "- [Data Type Practice](https://replit.com/@cpadmin/creatingdatatypes#main.py)\n",
    "- [First and Last Name](https://replit.com/@cpadmin/First-Last-Name-Python)"
   ]
  }
 ],
 "metadata": {
  "kernelspec": {
   "display_name": "Python 3",
   "language": "python",
   "name": "python3"
  },
  "language_info": {
   "codemirror_mode": {
    "name": "ipython",
    "version": 3
   },
   "file_extension": ".py",
   "mimetype": "text/x-python",
   "name": "python",
   "nbconvert_exporter": "python",
   "pygments_lexer": "ipython3",
   "version": "3.11.9"
  }
 },
 "nbformat": 4,
 "nbformat_minor": 2
}
