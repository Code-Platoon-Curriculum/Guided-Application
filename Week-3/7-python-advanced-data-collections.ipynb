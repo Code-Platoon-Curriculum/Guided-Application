{
 "cells": [
  {
   "cell_type": "markdown",
   "metadata": {},
   "source": [
    "# Python Lecture: Advanced Data Collections (n-dimensional collections)\n",
    "\n",
    "## Introduction (10 minutes)\n",
    "\n",
    "Welcome to today's lecture on mutating 2-dimensional lists in Python. This comprehensive 2-hour lecture is designed for new programmers with little to no prior knowledge of Python fundamentals. We will start by reviewing basic concepts such as lists, for loops, and gradually introduce you to the techniques to manipulate 2-dimensional lists."
   ]
  },
  {
   "cell_type": "markdown",
   "metadata": {},
   "source": [
    "## Table of Contents\n",
    "\n",
    "- [Python Lecture: Mutating 2-Dimensional Lists](#python-lecture-mutating-2-dimensional-lists)\n",
    "  - [Introduction (10 minutes)](#introduction-10-minutes)\n",
    "  - [Table of Contents](#table-of-contents)\n",
    "  - [1. Understanding Lists (20 minutes)](#1-understanding-lists-20-minutes)\n",
    "    - [What are Lists?](#what-are-lists)\n",
    "    - [Creating and Accessing Lists](#creating-and-accessing-lists)\n",
    "    - [Lists Within Lists (2-Dimensional Lists)](#lists-within-lists-2-dimensional-lists)\n",
    "  - [2. Iterating Over Lists (20 minutes)](#2-iterating-over-lists-20-minutes)\n",
    "    - [Using For Loops to Traverse a List](#using-for-loops-to-traverse-a-list)\n",
    "    - [Nested For Loops for 2-Dimensional Lists](#nested-for-loops-for-2-dimensional-lists)\n",
    "  - [3. Modifying 2-Dimensional Lists (35 minutes)](#3-modifying-2-dimensional-lists-35-minutes)\n",
    "    - [Changing Elements in a 2-Dimensional List](#changing-elements-in-a-2-dimensional-list)\n",
    "    - [Adding and Removing Elements](#adding-and-removing-elements)\n",
    "    - [Replacing Rows and Columns](#replacing-rows-and-columns)\n",
    "  - [4. Code Examples and Practice (45 minutes)](#4-code-examples-and-practice-45-minutes)\n",
    "    - [Example 1: Modifying a Seating Chart](#example-1-modifying-a-seating-chart)\n",
    "    - [Example 2: Managing Scores on a Scoreboard](#example-2-managing-scores-on-a-scoreboard)\n",
    "    - [Example 3: Updating a Grid of Items](#example-3-updating-a-grid-of-items)\n",
    "    - [Example 4: Adding Rows and Columns](#example-4-adding-rows-and-columns)\n",
    "  - [5. Advanced Techniques (30 minutes)](#5-advanced-techniques-30-minutes)\n",
    "    - [Transposing 2-Dimensional Lists](#transposing-2-dimensional-lists)\n",
    "    - [Creating Copies and Avoiding Mutable Object Issues](#creating-copies-and-avoiding-mutable-object-issues)\n",
    "    - [Practical Applications of 2-Dimensional Lists](#practical-applications-of-2-dimensional-lists)\n",
    "  - [6. Conclusion (5 minutes)](#6-conclusion-5-minutes)"
   ]
  },
  {
   "cell_type": "markdown",
   "metadata": {},
   "source": [
    "## 1. Understanding Lists (20 minutes)\n",
    "\n",
    "### What are Lists?\n",
    "\n",
    "- A list is a collection of values that can be of different types (integers, strings, etc.).\n",
    "- Lists are ordered and indexed, which means each element has a position."
   ]
  },
  {
   "cell_type": "markdown",
   "metadata": {},
   "source": [
    "### Creating and Accessing Lists\n",
    "\n",
    "- Creating lists using square brackets: `my_list = [1, 2, 3, 4, 5]`.\n",
    "- Accessing elements by index: `my_list[2]` returns `3`.\n",
    "- Negative indices start from the end: `my_list[-1]` returns `5`."
   ]
  },
  {
   "cell_type": "markdown",
   "metadata": {},
   "source": [
    "### Lists Within Lists (2-Dimensional Lists)\n",
    "\n",
    "- A 2-dimensional list is a list of lists.\n",
    "- It's like having rows and columns of data.\n",
    "- Example:\n",
    "\n",
    "```python\n",
    "matrix = [\n",
    "    [1, 2, 3],\n",
    "    [4, 5, 6],\n",
    "    [7, 8, 9]\n",
    "]\n",
    "```"
   ]
  },
  {
   "cell_type": "markdown",
   "metadata": {},
   "source": [
    "## 2. Iterating Over Lists (20 minutes)\n",
    "\n",
    "### Using For Loops to Traverse a List\n",
    "\n",
    "- A for loop can be used to go through the elements of a list.\n",
    "- Example:\n",
    "\n",
    "```python\n",
    "fruits = [\"apple\", \"banana\", \"cherry\"]\n",
    "for fruit in fruits:\n",
    "    print(fruit)\n",
    "```"
   ]
  },
  {
   "cell_type": "markdown",
   "metadata": {},
   "source": [
    "### Nested For Loops for 2-Dimensional Lists\n",
    "\n",
    "- When dealing with a 2-dimensional list, you need nested loops to traverse rows and columns.\n",
    "- Example:\n",
    "\n",
    "```python\n",
    "matrix = [\n",
    "    [1, 2, 3],\n",
    "    [4, 5, 6],\n",
    "    [7, 8, 9]\n",
    "]\n",
    "\n",
    "for row in matrix:\n",
    "    for element in row:\n",
    "        print(element)\n",
    "```"
   ]
  },
  {
   "cell_type": "markdown",
   "metadata": {},
   "source": [
    "## 3. Modifying 2-Dimensional Lists (35 minutes)"
   ]
  },
  {
   "cell_type": "markdown",
   "metadata": {},
   "source": [
    "### Changing Elements in a 2-Dimensional List\n",
    "\n",
    "- You can change the value of an element in a 2-dimensional list using indexing.\n",
    "- Example:\n",
    "\n",
    "```python\n",
    "matrix[0][1] = 42  # Changes the element in the first row, second column to 42.\n",
    "```"
   ]
  },
  {
   "cell_type": "markdown",
   "metadata": {},
   "source": [
    "### Adding and Removing Elements\n",
    "\n",
    "- You can add elements using `append`, `extend`, or `insert`.\n",
    "- You can remove elements using `remove`, `pop`, or `del`."
   ]
  },
  {
   "cell_type": "markdown",
   "metadata": {},
   "source": [
    "### Replacing Rows and Columns\n",
    "\n",
    "- To replace a row, simply assign a new list to the row index.\n",
    "- To replace a column, use a for loop to iterate through rows and change elements."
   ]
  },
  {
   "cell_type": "markdown",
   "metadata": {},
   "source": [
    "## 4. Code Examples and Practice (45 minutes)"
   ]
  },
  {
   "cell_type": "markdown",
   "metadata": {},
   "source": [
    "### Example 1: Modifying a Seating Chart\n",
    "\n",
    "Let's say you have a seating chart for a theater, and you need to update a reserved seat.\n",
    "\n",
    "```python\n",
    "seating_chart = [\n",
    "    [\"A\", \"B\", \"C\", \"D\"],\n",
    "    [\"E\", \"F\", \"G\", \"H\"],\n",
    "    [\"I\", \"J\", \"K\", \"L\"]\n",
    "]\n",
    "\n",
    "# Someone reserved seat \"F\" (row 2, seat 2). Let's update it.\n",
    "seating_chart[1][1] = \"X\"\n",
    "```"
   ]
  },
  {
   "cell_type": "markdown",
   "metadata": {},
   "source": [
    "### Example 2: Managing Scores on a Scoreboard\n",
    "\n",
    "You have a scoreboard for a game. A player's score needs to be updated.\n",
    "\n",
    "```python\n",
    "scoreboard = [\n",
    "    [\"Alice\", 50],\n",
    "    [\"Bob\", 45],\n",
    "    [\"Charlie\", 60]\n",
    "]\n",
    "\n",
    "# Alice's score increased by 10 points.\n",
    "scoreboard[0][1] += 10\n",
    "```"
   ]
  },
  {
   "cell_type": "markdown",
   "metadata": {},
   "source": [
    "### Example 3: Updating a Grid of Items\n",
    "\n",
    "You have a grid of items, and you need to replace one of them.\n",
    "\n",
    "```python\n",
    "grid = [\n",
    "    [\"X\", \"O\", \"X\"],\n",
    "    [\"O\", \"X\", \"O\"],\n",
    "    [\"O\", \"O\", \"X\"]\n",
    "]\n",
    "\n",
    "# Let's replace the center element with \"O\".\n",
    "grid[1][1] = \"O\"\n",
    "```"
   ]
  },
  {
   "cell_type": "markdown",
   "metadata": {},
   "source": [
    "### Example 4: Adding Rows and Columns\n",
    "\n",
    "You have a sales dataset, and you want to add a new salesperson's data.\n",
    "\n",
    "```python\n",
    "sales_data = [\n",
    "    [\"Name\", \"Jan\", \"Feb\", \"Mar\"],\n",
    "    [\"Alice\", 100, 120, 90],\n",
    "    [\"Bob\", 80, 85, 90]\n",
    "]\n",
    "\n",
    "# Adding a new row for \"Charlie.\"\n",
    "new_salesperson = [\"Charlie\", 110, 95, 105]\n",
    "sales_data.append(new_salesperson)\n",
    "\n",
    "# Adding a new column for \"Apr.\"\n",
    "for i in range(len(sales_data)):\n",
    "    sales_data[i].append(0)  # Initial value for April.\n",
    "```"
   ]
  },
  {
   "cell_type": "markdown",
   "metadata": {},
   "source": [
    "## 5. Advanced Techniques (30 minutes)\n",
    "\n",
    "### Transposing 2-Dimensional Lists\n",
    "\n",
    "- To swap rows and columns, you can use list comprehensions.\n",
    "- Example:\n",
    "\n",
    "```python\n",
    "matrix = [\n",
    "    [1, 2, 3],\n",
    "    [4, 5, 6]\n",
    "]\n",
    "\n",
    "transposed = [[row[i] for row in matrix] for i in range(len(matrix[0]))]\n",
    "```"
   ]
  },
  {
   "cell_type": "markdown",
   "metadata": {},
   "source": [
    "### Creating Copies and Avoiding Mutable Object Issues\n",
    "\n",
    "- Be cautious when copying 2-dimensional lists. The `copy` module can help avoid issues.\n",
    "- Example:\n",
    "\n",
    "```python\n",
    "import copy\n",
    "\n",
    "original = [[1, 2], [3, 4]]\n",
    "shallow_copy = copy.copy(original)\n",
    "deep_copy = copy.deepcopy(original)\n",
    "```"
   ]
  },
  {
   "cell_type": "markdown",
   "metadata": {},
   "source": [
    "### Practical Applications of 2-Dimensional Lists\n",
    "\n",
    "- 2-dimensional lists are essential for organizing data tables, images, games, and more.\n",
    "- From creating chess boards to analyzing data sets, 2-D lists have a wide range of applications."
   ]
  },
  {
   "cell_type": "markdown",
   "metadata": {},
   "source": [
    "## 6. Conclusion (5 minutes)\n",
    "\n",
    "In this extensive 2-hour lecture, you've explored the fundamentals of working with 2-dimensional lists in Python. You have learned how to create, access, and modify elements in these lists. Practice is the key to mastering this skill, so continue to work with 2-dimensional lists and explore more complex scenarios. As you grow your"
   ]
  }
 ],
 "metadata": {
  "language_info": {
   "name": "python"
  }
 },
 "nbformat": 4,
 "nbformat_minor": 2
}
